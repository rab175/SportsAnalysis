{
 "cells": [
  {
   "cell_type": "markdown",
   "metadata": {
    "ExecuteTime": {
     "end_time": "2020-08-09T19:06:04.428539Z",
     "start_time": "2020-08-09T19:06:04.425253Z"
    }
   },
   "source": [
    "# NFL API Test"
   ]
  },
  {
   "cell_type": "code",
   "execution_count": 13,
   "metadata": {
    "ExecuteTime": {
     "end_time": "2020-08-09T19:10:24.960865Z",
     "start_time": "2020-08-09T19:10:24.957195Z"
    }
   },
   "outputs": [],
   "source": [
    "import nflgame\n",
    "import pandas as pd"
   ]
  },
  {
   "cell_type": "code",
   "execution_count": 18,
   "metadata": {
    "ExecuteTime": {
     "end_time": "2020-08-09T19:33:48.210886Z",
     "start_time": "2020-08-09T19:33:48.117931Z"
    }
   },
   "outputs": [],
   "source": [
    "games= nflgame.games(2009,2)"
   ]
  },
  {
   "cell_type": "code",
   "execution_count": 19,
   "metadata": {
    "ExecuteTime": {
     "end_time": "2020-08-09T19:34:00.536185Z",
     "start_time": "2020-08-09T19:34:00.530545Z"
    }
   },
   "outputs": [
    {
     "data": {
      "text/plain": [
       "list"
      ]
     },
     "execution_count": 19,
     "metadata": {},
     "output_type": "execute_result"
    }
   ],
   "source": [
    "type(games)"
   ]
  },
  {
   "cell_type": "code",
   "execution_count": 25,
   "metadata": {
    "ExecuteTime": {
     "end_time": "2020-08-09T19:35:24.833506Z",
     "start_time": "2020-08-09T19:35:24.828703Z"
    }
   },
   "outputs": [
    {
     "name": "stdout",
     "output_type": "stream",
     "text": [
      "CAR (20) at ATL (28)\n"
     ]
    }
   ],
   "source": [
    "print(games[0])"
   ]
  },
  {
   "cell_type": "code",
   "execution_count": 26,
   "metadata": {
    "ExecuteTime": {
     "end_time": "2020-08-09T19:36:38.372479Z",
     "start_time": "2020-08-09T19:36:38.346547Z"
    }
   },
   "outputs": [],
   "source": [
    "stats = nflgame.combine(games)"
   ]
  },
  {
   "cell_type": "code",
   "execution_count": 30,
   "metadata": {
    "ExecuteTime": {
     "end_time": "2020-08-09T19:37:52.130515Z",
     "start_time": "2020-08-09T19:37:52.124463Z"
    }
   },
   "outputs": [
    {
     "data": {
      "text/plain": [
       "<nflgame.seq.GenPlayerStats at 0x7f865d368ba8>"
      ]
     },
     "execution_count": 30,
     "metadata": {},
     "output_type": "execute_result"
    }
   ],
   "source": [
    "stats.defense()"
   ]
  },
  {
   "cell_type": "code",
   "execution_count": 31,
   "metadata": {
    "ExecuteTime": {
     "end_time": "2020-08-09T19:39:26.744535Z",
     "start_time": "2020-08-09T19:39:26.738725Z"
    }
   },
   "outputs": [
    {
     "data": {
      "text/plain": [
       "nflgame.seq.GenPlayerStats"
      ]
     },
     "execution_count": 31,
     "metadata": {},
     "output_type": "execute_result"
    }
   ],
   "source": [
    "type(stats)"
   ]
  },
  {
   "cell_type": "code",
   "execution_count": 32,
   "metadata": {
    "ExecuteTime": {
     "end_time": "2020-08-09T19:43:45.976752Z",
     "start_time": "2020-08-09T19:43:45.970420Z"
    }
   },
   "outputs": [],
   "source": [
    "game = nflgame.one(2009, 2, \"CAR\",\"ATL\")"
   ]
  },
  {
   "cell_type": "code",
   "execution_count": 33,
   "metadata": {
    "ExecuteTime": {
     "end_time": "2020-08-09T19:46:44.277179Z",
     "start_time": "2020-08-09T19:46:42.549928Z"
    }
   },
   "outputs": [],
   "source": [
    "season2019 = nflgame.games(2019)"
   ]
  },
  {
   "cell_type": "code",
   "execution_count": 34,
   "metadata": {
    "ExecuteTime": {
     "end_time": "2020-08-09T19:47:08.633711Z",
     "start_time": "2020-08-09T19:47:08.225636Z"
    }
   },
   "outputs": [],
   "source": [
    "players = nflgame.combine(season2019)"
   ]
  },
  {
   "cell_type": "code",
   "execution_count": 36,
   "metadata": {
    "ExecuteTime": {
     "end_time": "2020-08-09T19:49:29.525476Z",
     "start_time": "2020-08-09T19:49:29.506351Z"
    }
   },
   "outputs": [
    {
     "name": "stdout",
     "output_type": "stream",
     "text": [
      "M.Thomas 1725 149 9\n",
      "C.McCaffrey 1005 116 4\n",
      "K.Allen 1199 104 6\n",
      "D.Hopkins 1165 104 7\n",
      "J.Edelman 1117 100 6\n",
      "J.Jones 1394 99 6\n",
      "A.Robinson 1147 98 7\n",
      "T.Kelce 1229 97 5\n",
      "C.Kupp 1161 94 10\n",
      "A.Ekeler 993 92 8\n"
     ]
    }
   ],
   "source": [
    "for p in players.receiving().sort(\"receiving_rec\").limit(10):\n",
    "    print(p, p.receiving_yds, p.receiving_rec, p.receiving_tds)"
   ]
  },
  {
   "cell_type": "code",
   "execution_count": 37,
   "metadata": {
    "ExecuteTime": {
     "end_time": "2020-08-09T19:52:02.119157Z",
     "start_time": "2020-08-09T19:52:01.720762Z"
    }
   },
   "outputs": [],
   "source": [
    "import matplotlib.pyplot as plt"
   ]
  },
  {
   "cell_type": "code",
   "execution_count": 38,
   "metadata": {
    "ExecuteTime": {
     "end_time": "2020-08-09T20:01:24.719645Z",
     "start_time": "2020-08-09T20:01:24.660248Z"
    }
   },
   "outputs": [],
   "source": [
    "players.csv('season2019_test.csv')"
   ]
  },
  {
   "cell_type": "code",
   "execution_count": null,
   "metadata": {},
   "outputs": [],
   "source": []
  }
 ],
 "metadata": {
  "kernelspec": {
   "display_name": "Python 3",
   "language": "python",
   "name": "python3"
  },
  "language_info": {
   "codemirror_mode": {
    "name": "ipython",
    "version": 3
   },
   "file_extension": ".py",
   "mimetype": "text/x-python",
   "name": "python",
   "nbconvert_exporter": "python",
   "pygments_lexer": "ipython3",
   "version": "3.6.6"
  },
  "toc": {
   "base_numbering": 1,
   "nav_menu": {},
   "number_sections": true,
   "sideBar": true,
   "skip_h1_title": false,
   "title_cell": "Table of Contents",
   "title_sidebar": "Contents",
   "toc_cell": false,
   "toc_position": {},
   "toc_section_display": true,
   "toc_window_display": false
  }
 },
 "nbformat": 4,
 "nbformat_minor": 2
}
