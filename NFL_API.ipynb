{
 "cells": [
  {
   "cell_type": "markdown",
   "metadata": {
    "ExecuteTime": {
     "end_time": "2020-08-09T19:06:04.428539Z",
     "start_time": "2020-08-09T19:06:04.425253Z"
    }
   },
   "source": [
    "# NFL API Test"
   ]
  },
  {
   "cell_type": "code",
   "execution_count": 1,
   "metadata": {
    "ExecuteTime": {
     "end_time": "2020-08-23T19:46:33.931060Z",
     "start_time": "2020-08-23T19:46:25.170770Z"
    }
   },
   "outputs": [],
   "source": [
    "import nflgame\n",
    "import pandas as pd"
   ]
  },
  {
   "cell_type": "code",
   "execution_count": 2,
   "metadata": {
    "ExecuteTime": {
     "end_time": "2020-08-23T19:46:34.090954Z",
     "start_time": "2020-08-23T19:46:33.933920Z"
    }
   },
   "outputs": [],
   "source": [
    "games= nflgame.games(2009,2)"
   ]
  },
  {
   "cell_type": "code",
   "execution_count": 3,
   "metadata": {
    "ExecuteTime": {
     "end_time": "2020-08-23T19:46:34.123043Z",
     "start_time": "2020-08-23T19:46:34.094273Z"
    }
   },
   "outputs": [
    {
     "data": {
      "text/plain": [
       "list"
      ]
     },
     "execution_count": 3,
     "metadata": {},
     "output_type": "execute_result"
    }
   ],
   "source": [
    "type(games)"
   ]
  },
  {
   "cell_type": "code",
   "execution_count": 4,
   "metadata": {
    "ExecuteTime": {
     "end_time": "2020-08-23T19:46:34.145066Z",
     "start_time": "2020-08-23T19:46:34.129109Z"
    }
   },
   "outputs": [
    {
     "name": "stdout",
     "output_type": "stream",
     "text": [
      "CAR (20) at ATL (28)\n"
     ]
    }
   ],
   "source": [
    "print(games[0])"
   ]
  },
  {
   "cell_type": "code",
   "execution_count": 5,
   "metadata": {
    "ExecuteTime": {
     "end_time": "2020-08-23T19:46:34.216252Z",
     "start_time": "2020-08-23T19:46:34.191150Z"
    }
   },
   "outputs": [],
   "source": [
    "stats = nflgame.combine(games)"
   ]
  },
  {
   "cell_type": "code",
   "execution_count": 6,
   "metadata": {
    "ExecuteTime": {
     "end_time": "2020-08-23T19:46:34.239754Z",
     "start_time": "2020-08-23T19:46:34.231966Z"
    }
   },
   "outputs": [
    {
     "data": {
      "text/plain": [
       "<nflgame.seq.GenPlayerStats at 0x7faedaf418d0>"
      ]
     },
     "execution_count": 6,
     "metadata": {},
     "output_type": "execute_result"
    }
   ],
   "source": [
    "stats.defense()"
   ]
  },
  {
   "cell_type": "code",
   "execution_count": 7,
   "metadata": {
    "ExecuteTime": {
     "end_time": "2020-08-23T19:46:34.250905Z",
     "start_time": "2020-08-23T19:46:34.245001Z"
    }
   },
   "outputs": [
    {
     "data": {
      "text/plain": [
       "nflgame.seq.GenPlayerStats"
      ]
     },
     "execution_count": 7,
     "metadata": {},
     "output_type": "execute_result"
    }
   ],
   "source": [
    "type(stats)"
   ]
  },
  {
   "cell_type": "code",
   "execution_count": 8,
   "metadata": {
    "ExecuteTime": {
     "end_time": "2020-08-23T19:46:34.293166Z",
     "start_time": "2020-08-23T19:46:34.282143Z"
    }
   },
   "outputs": [],
   "source": [
    "game = nflgame.one(2009, 2, \"CAR\",\"ATL\")"
   ]
  },
  {
   "cell_type": "code",
   "execution_count": 9,
   "metadata": {
    "ExecuteTime": {
     "end_time": "2020-08-23T19:46:36.378347Z",
     "start_time": "2020-08-23T19:46:34.300407Z"
    }
   },
   "outputs": [],
   "source": [
    "season2019 = nflgame.games(2019)"
   ]
  },
  {
   "cell_type": "code",
   "execution_count": 10,
   "metadata": {
    "ExecuteTime": {
     "end_time": "2020-08-23T19:46:36.916407Z",
     "start_time": "2020-08-23T19:46:36.380993Z"
    }
   },
   "outputs": [],
   "source": [
    "players = nflgame.combine(season2019)"
   ]
  },
  {
   "cell_type": "code",
   "execution_count": 11,
   "metadata": {
    "ExecuteTime": {
     "end_time": "2020-08-23T19:46:36.931172Z",
     "start_time": "2020-08-23T19:46:36.918711Z"
    }
   },
   "outputs": [
    {
     "name": "stdout",
     "output_type": "stream",
     "text": [
      "M.Thomas 1725 149 9\n",
      "C.McCaffrey 1005 116 4\n",
      "K.Allen 1199 104 6\n",
      "D.Hopkins 1165 104 7\n",
      "J.Edelman 1117 100 6\n",
      "J.Jones 1394 99 6\n",
      "A.Robinson 1147 98 7\n",
      "T.Kelce 1229 97 5\n",
      "C.Kupp 1161 94 10\n",
      "A.Ekeler 993 92 8\n"
     ]
    }
   ],
   "source": [
    "for p in players.receiving().sort(\"receiving_rec\").limit(10):\n",
    "    print(p, p.receiving_yds, p.receiving_rec, p.receiving_tds)"
   ]
  },
  {
   "cell_type": "code",
   "execution_count": 12,
   "metadata": {
    "ExecuteTime": {
     "end_time": "2020-08-23T19:46:37.698185Z",
     "start_time": "2020-08-23T19:46:36.935708Z"
    }
   },
   "outputs": [],
   "source": [
    "import matplotlib.pyplot as plt"
   ]
  },
  {
   "cell_type": "code",
   "execution_count": 13,
   "metadata": {
    "ExecuteTime": {
     "end_time": "2020-08-23T19:46:37.756903Z",
     "start_time": "2020-08-23T19:46:37.700991Z"
    }
   },
   "outputs": [],
   "source": [
    "players.csv('season2019_test.csv')"
   ]
  },
  {
   "cell_type": "code",
   "execution_count": 14,
   "metadata": {
    "ExecuteTime": {
     "end_time": "2020-08-23T19:46:37.765300Z",
     "start_time": "2020-08-23T19:46:37.758872Z"
    }
   },
   "outputs": [
    {
     "data": {
      "text/plain": [
       "<nflgame.seq.GenPlayerStats at 0x7faec87b7748>"
      ]
     },
     "execution_count": 14,
     "metadata": {},
     "output_type": "execute_result"
    }
   ],
   "source": [
    "players"
   ]
  },
  {
   "cell_type": "code",
   "execution_count": 15,
   "metadata": {
    "ExecuteTime": {
     "end_time": "2020-08-23T19:46:40.450721Z",
     "start_time": "2020-08-23T19:46:37.770413Z"
    }
   },
   "outputs": [],
   "source": [
    "nflgame.combine(nflgame.games(2010)).csv('season2010.csv')"
   ]
  },
  {
   "cell_type": "code",
   "execution_count": 17,
   "metadata": {
    "ExecuteTime": {
     "end_time": "2020-08-23T19:52:14.731716Z",
     "start_time": "2020-08-23T19:52:14.613143Z"
    }
   },
   "outputs": [
    {
     "name": "stdout",
     "output_type": "stream",
     "text": [
      "L.McCoy 31 carries for 184 yards and 1 TDs\n",
      "T.Pryor 13 carries for 112 yards and 0 TDs\n",
      "S.Vereen 14 carries for 101 yards and 0 TDs\n",
      "A.Peterson 18 carries for 93 yards and 2 TDs\n",
      "R.Bush 21 carries for 90 yards and 0 TDs\n"
     ]
    }
   ],
   "source": [
    "games = nflgame.games(2013, week=1)\n",
    "players = nflgame.combine_game_stats(games)\n",
    "for p in players.rushing().sort('rushing_yds').limit(5):\n",
    "    msg = '%s %d carries for %d yards and %d TDs'\n",
    "    print(msg % (p, p.rushing_att, p.rushing_yds, p.rushing_tds))"
   ]
  },
  {
   "cell_type": "code",
   "execution_count": 28,
   "metadata": {
    "ExecuteTime": {
     "end_time": "2020-08-23T20:07:01.052432Z",
     "start_time": "2020-08-23T20:07:00.789487Z"
    }
   },
   "outputs": [
    {
     "name": "stdout",
     "output_type": "stream",
     "text": [
      "L.McCoy\n",
      "T.Pryor\n",
      "S.Vereen\n",
      "A.Peterson\n",
      "R.Bush\n"
     ]
    }
   ],
   "source": [
    "games = nflgame.games(2013, week=1)\n",
    "plays = nflgame.combine_max_stats(games)\n",
    "for p in plays.sort('rushing_yds').limit(5):\n",
    "    print(p)"
   ]
  },
  {
   "cell_type": "code",
   "execution_count": 36,
   "metadata": {
    "ExecuteTime": {
     "end_time": "2020-08-23T20:13:44.686185Z",
     "start_time": "2020-08-23T20:13:44.677432Z"
    }
   },
   "outputs": [
    {
     "data": {
      "text/plain": [
       "[]"
      ]
     },
     "execution_count": 36,
     "metadata": {},
     "output_type": "execute_result"
    }
   ],
   "source": [
    "nflgame.find('newton', team='CAR')\n",
    "    "
   ]
  },
  {
   "cell_type": "code",
   "execution_count": 37,
   "metadata": {
    "ExecuteTime": {
     "end_time": "2020-08-23T20:14:17.189870Z",
     "start_time": "2020-08-23T20:14:17.181763Z"
    }
   },
   "outputs": [
    {
     "data": {
      "text/plain": [
       "[<nflgame.game.Game at 0x7faeb41ba6a0>,\n",
       " <nflgame.game.Game at 0x7faeb425de48>,\n",
       " <nflgame.game.Game at 0x7faeb9414320>,\n",
       " <nflgame.game.Game at 0x7faeb4348a20>,\n",
       " <nflgame.game.Game at 0x7faeda5cd908>,\n",
       " <nflgame.game.Game at 0x7faeb94bc0f0>,\n",
       " <nflgame.game.Game at 0x7faeb9889cf8>,\n",
       " <nflgame.game.Game at 0x7faeb7f6d438>,\n",
       " <nflgame.game.Game at 0x7faeb7c579e8>,\n",
       " <nflgame.game.Game at 0x7faeb8bb1390>,\n",
       " <nflgame.game.Game at 0x7faeb48dd630>,\n",
       " <nflgame.game.Game at 0x7faeb4333c50>,\n",
       " <nflgame.game.Game at 0x7faeb4bbdef0>,\n",
       " <nflgame.game.Game at 0x7faeb7beccf8>,\n",
       " <nflgame.game.Game at 0x7faeb8a9add8>,\n",
       " <nflgame.game.Game at 0x7faeda500400>]"
      ]
     },
     "execution_count": 37,
     "metadata": {},
     "output_type": "execute_result"
    }
   ],
   "source": [
    "games"
   ]
  },
  {
   "cell_type": "code",
   "execution_count": 38,
   "metadata": {
    "ExecuteTime": {
     "end_time": "2020-08-23T20:14:22.571976Z",
     "start_time": "2020-08-23T20:14:22.565599Z"
    }
   },
   "outputs": [
    {
     "data": {
      "text/plain": [
       "16"
      ]
     },
     "execution_count": 38,
     "metadata": {},
     "output_type": "execute_result"
    }
   ],
   "source": [
    "len(games)"
   ]
  },
  {
   "cell_type": "code",
   "execution_count": 39,
   "metadata": {
    "ExecuteTime": {
     "end_time": "2020-08-23T20:14:30.658903Z",
     "start_time": "2020-08-23T20:14:30.653134Z"
    }
   },
   "outputs": [
    {
     "data": {
      "text/plain": [
       "<nflgame.game.Game at 0x7faeb425de48>"
      ]
     },
     "execution_count": 39,
     "metadata": {},
     "output_type": "execute_result"
    }
   ],
   "source": [
    "games[1]"
   ]
  },
  {
   "cell_type": "code",
   "execution_count": 46,
   "metadata": {
    "ExecuteTime": {
     "end_time": "2020-08-23T20:22:53.943704Z",
     "start_time": "2020-08-23T20:22:53.938104Z"
    }
   },
   "outputs": [
    {
     "data": {
      "text/plain": [
       "'CAR'"
      ]
     },
     "execution_count": 46,
     "metadata": {},
     "output_type": "execute_result"
    }
   ],
   "source": [
    "nflgame.standard_team('panthers')"
   ]
  },
  {
   "cell_type": "code",
   "execution_count": 49,
   "metadata": {
    "ExecuteTime": {
     "end_time": "2020-08-23T20:24:56.263805Z",
     "start_time": "2020-08-23T20:24:56.256052Z"
    }
   },
   "outputs": [
    {
     "data": {
      "text/plain": [
       "[]"
      ]
     },
     "execution_count": 49,
     "metadata": {},
     "output_type": "execute_result"
    }
   ],
   "source": [
    "nflgame.find('C.newton')"
   ]
  },
  {
   "cell_type": "code",
   "execution_count": null,
   "metadata": {},
   "outputs": [],
   "source": []
  }
 ],
 "metadata": {
  "kernelspec": {
   "display_name": "Python 3",
   "language": "python",
   "name": "python3"
  },
  "language_info": {
   "codemirror_mode": {
    "name": "ipython",
    "version": 3
   },
   "file_extension": ".py",
   "mimetype": "text/x-python",
   "name": "python",
   "nbconvert_exporter": "python",
   "pygments_lexer": "ipython3",
   "version": "3.6.6"
  },
  "toc": {
   "base_numbering": 1,
   "nav_menu": {},
   "number_sections": true,
   "sideBar": true,
   "skip_h1_title": false,
   "title_cell": "Table of Contents",
   "title_sidebar": "Contents",
   "toc_cell": false,
   "toc_position": {},
   "toc_section_display": true,
   "toc_window_display": false
  }
 },
 "nbformat": 4,
 "nbformat_minor": 2
}
