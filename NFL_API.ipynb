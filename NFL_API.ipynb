{
 "cells": [
  {
   "cell_type": "markdown",
   "metadata": {
    "ExecuteTime": {
     "end_time": "2020-08-09T19:06:04.428539Z",
     "start_time": "2020-08-09T19:06:04.425253Z"
    }
   },
   "source": [
    "# NFL API Test"
   ]
  },
  {
   "cell_type": "code",
   "execution_count": 1,
   "metadata": {
    "ExecuteTime": {
     "end_time": "2020-08-30T17:47:32.191509Z",
     "start_time": "2020-08-30T17:47:30.421449Z"
    }
   },
   "outputs": [],
   "source": [
    "import nflgame\n",
    "import pandas as pd"
   ]
  },
  {
   "cell_type": "code",
   "execution_count": 2,
   "metadata": {
    "ExecuteTime": {
     "end_time": "2020-08-30T17:47:32.417158Z",
     "start_time": "2020-08-30T17:47:32.193776Z"
    }
   },
   "outputs": [],
   "source": [
    "games= nflgame.games(2009,2)"
   ]
  },
  {
   "cell_type": "code",
   "execution_count": 3,
   "metadata": {
    "ExecuteTime": {
     "end_time": "2020-08-30T17:47:32.439127Z",
     "start_time": "2020-08-30T17:47:32.421097Z"
    }
   },
   "outputs": [
    {
     "data": {
      "text/plain": [
       "list"
      ]
     },
     "execution_count": 3,
     "metadata": {},
     "output_type": "execute_result"
    }
   ],
   "source": [
    "type(games)"
   ]
  },
  {
   "cell_type": "code",
   "execution_count": 4,
   "metadata": {
    "ExecuteTime": {
     "end_time": "2020-08-30T17:47:32.455359Z",
     "start_time": "2020-08-30T17:47:32.450472Z"
    }
   },
   "outputs": [
    {
     "name": "stdout",
     "output_type": "stream",
     "text": [
      "CAR (20) at ATL (28)\n"
     ]
    }
   ],
   "source": [
    "print(games[0])"
   ]
  },
  {
   "cell_type": "code",
   "execution_count": 5,
   "metadata": {
    "ExecuteTime": {
     "end_time": "2020-08-30T17:47:32.484153Z",
     "start_time": "2020-08-30T17:47:32.458665Z"
    }
   },
   "outputs": [],
   "source": [
    "stats = nflgame.combine(games)"
   ]
  },
  {
   "cell_type": "code",
   "execution_count": 6,
   "metadata": {
    "ExecuteTime": {
     "end_time": "2020-08-30T17:47:32.494402Z",
     "start_time": "2020-08-30T17:47:32.489523Z"
    }
   },
   "outputs": [
    {
     "data": {
      "text/plain": [
       "<nflgame.seq.GenPlayerStats at 0x7ff8488447f0>"
      ]
     },
     "execution_count": 6,
     "metadata": {},
     "output_type": "execute_result"
    }
   ],
   "source": [
    "stats.defense()"
   ]
  },
  {
   "cell_type": "code",
   "execution_count": 7,
   "metadata": {
    "ExecuteTime": {
     "end_time": "2020-08-30T17:47:32.500686Z",
     "start_time": "2020-08-30T17:47:32.497017Z"
    }
   },
   "outputs": [
    {
     "data": {
      "text/plain": [
       "nflgame.seq.GenPlayerStats"
      ]
     },
     "execution_count": 7,
     "metadata": {},
     "output_type": "execute_result"
    }
   ],
   "source": [
    "type(stats)"
   ]
  },
  {
   "cell_type": "code",
   "execution_count": 8,
   "metadata": {
    "ExecuteTime": {
     "end_time": "2020-08-30T17:47:32.512262Z",
     "start_time": "2020-08-30T17:47:32.506810Z"
    }
   },
   "outputs": [],
   "source": [
    "game = nflgame.one(2009, 2, \"CAR\",\"ATL\")"
   ]
  },
  {
   "cell_type": "code",
   "execution_count": 9,
   "metadata": {
    "ExecuteTime": {
     "end_time": "2020-08-30T17:47:35.509079Z",
     "start_time": "2020-08-30T17:47:32.514975Z"
    }
   },
   "outputs": [],
   "source": [
    "season2019 = nflgame.games(2019)"
   ]
  },
  {
   "cell_type": "code",
   "execution_count": 10,
   "metadata": {
    "ExecuteTime": {
     "end_time": "2020-08-30T17:47:35.992534Z",
     "start_time": "2020-08-30T17:47:35.512538Z"
    }
   },
   "outputs": [],
   "source": [
    "players = nflgame.combine(season2019)"
   ]
  },
  {
   "cell_type": "code",
   "execution_count": 11,
   "metadata": {
    "ExecuteTime": {
     "end_time": "2020-08-30T17:47:36.007604Z",
     "start_time": "2020-08-30T17:47:35.996069Z"
    }
   },
   "outputs": [
    {
     "name": "stdout",
     "output_type": "stream",
     "text": [
      "M.Thomas 1725 149 9\n",
      "C.McCaffrey 1005 116 4\n",
      "K.Allen 1199 104 6\n",
      "D.Hopkins 1165 104 7\n",
      "J.Edelman 1117 100 6\n",
      "J.Jones 1394 99 6\n",
      "A.Robinson 1147 98 7\n",
      "T.Kelce 1229 97 5\n",
      "C.Kupp 1161 94 10\n",
      "A.Ekeler 993 92 8\n"
     ]
    }
   ],
   "source": [
    "for p in players.receiving().sort(\"receiving_rec\").limit(10):\n",
    "    print(p, p.receiving_yds, p.receiving_rec, p.receiving_tds)"
   ]
  },
  {
   "cell_type": "code",
   "execution_count": 12,
   "metadata": {
    "ExecuteTime": {
     "end_time": "2020-08-30T17:47:36.452404Z",
     "start_time": "2020-08-30T17:47:36.012433Z"
    }
   },
   "outputs": [],
   "source": [
    "import matplotlib.pyplot as plt"
   ]
  },
  {
   "cell_type": "code",
   "execution_count": 13,
   "metadata": {
    "ExecuteTime": {
     "end_time": "2020-08-30T17:47:36.515912Z",
     "start_time": "2020-08-30T17:47:36.455142Z"
    }
   },
   "outputs": [],
   "source": [
    "players.csv('season2019_test.csv')"
   ]
  },
  {
   "cell_type": "code",
   "execution_count": 14,
   "metadata": {
    "ExecuteTime": {
     "end_time": "2020-08-30T17:47:36.525829Z",
     "start_time": "2020-08-30T17:47:36.518725Z"
    }
   },
   "outputs": [
    {
     "data": {
      "text/plain": [
       "<nflgame.seq.GenPlayerStats at 0x7ff835e29400>"
      ]
     },
     "execution_count": 14,
     "metadata": {},
     "output_type": "execute_result"
    }
   ],
   "source": [
    "players"
   ]
  },
  {
   "cell_type": "code",
   "execution_count": 15,
   "metadata": {
    "ExecuteTime": {
     "end_time": "2020-08-30T17:47:38.668084Z",
     "start_time": "2020-08-30T17:47:36.529909Z"
    }
   },
   "outputs": [],
   "source": [
    "nflgame.combine(nflgame.games(2010)).csv('season2010.csv')"
   ]
  },
  {
   "cell_type": "code",
   "execution_count": 16,
   "metadata": {
    "ExecuteTime": {
     "end_time": "2020-08-30T17:47:38.761032Z",
     "start_time": "2020-08-30T17:47:38.670678Z"
    }
   },
   "outputs": [
    {
     "name": "stdout",
     "output_type": "stream",
     "text": [
      "L.McCoy 31 carries for 184 yards and 1 TDs\n",
      "T.Pryor 13 carries for 112 yards and 0 TDs\n",
      "S.Vereen 14 carries for 101 yards and 0 TDs\n",
      "A.Peterson 18 carries for 93 yards and 2 TDs\n",
      "R.Bush 21 carries for 90 yards and 0 TDs\n"
     ]
    }
   ],
   "source": [
    "games = nflgame.games(2013, week=1)\n",
    "players = nflgame.combine_game_stats(games)\n",
    "for p in players.rushing().sort('rushing_yds').limit(5):\n",
    "    msg = '%s %d carries for %d yards and %d TDs'\n",
    "    print(msg % (p, p.rushing_att, p.rushing_yds, p.rushing_tds))"
   ]
  },
  {
   "cell_type": "code",
   "execution_count": 17,
   "metadata": {
    "ExecuteTime": {
     "end_time": "2020-08-30T17:47:39.033055Z",
     "start_time": "2020-08-30T17:47:38.763389Z"
    }
   },
   "outputs": [
    {
     "name": "stdout",
     "output_type": "stream",
     "text": [
      "L.McCoy\n",
      "T.Pryor\n",
      "S.Vereen\n",
      "A.Peterson\n",
      "R.Bush\n"
     ]
    }
   ],
   "source": [
    "games = nflgame.games(2013, week=1)\n",
    "plays = nflgame.combine_max_stats(games)\n",
    "for p in plays.sort('rushing_yds').limit(5):\n",
    "    print(p)"
   ]
  },
  {
   "cell_type": "code",
   "execution_count": 18,
   "metadata": {
    "ExecuteTime": {
     "end_time": "2020-08-30T17:47:39.046510Z",
     "start_time": "2020-08-30T17:47:39.038186Z"
    }
   },
   "outputs": [
    {
     "data": {
      "text/plain": [
       "[]"
      ]
     },
     "execution_count": 18,
     "metadata": {},
     "output_type": "execute_result"
    }
   ],
   "source": [
    "nflgame.find('newton', team='CAR')\n",
    "    "
   ]
  },
  {
   "cell_type": "code",
   "execution_count": 19,
   "metadata": {
    "ExecuteTime": {
     "end_time": "2020-08-30T17:47:39.054909Z",
     "start_time": "2020-08-30T17:47:39.048612Z"
    }
   },
   "outputs": [
    {
     "data": {
      "text/plain": [
       "[<nflgame.game.Game at 0x7ff835eb7080>,\n",
       " <nflgame.game.Game at 0x7ff84843ff98>,\n",
       " <nflgame.game.Game at 0x7ff8480d6940>,\n",
       " <nflgame.game.Game at 0x7ff847e42320>,\n",
       " <nflgame.game.Game at 0x7ff847fba160>,\n",
       " <nflgame.game.Game at 0x7ff847edf128>,\n",
       " <nflgame.game.Game at 0x7ff847eb7780>,\n",
       " <nflgame.game.Game at 0x7ff847f06dd8>,\n",
       " <nflgame.game.Game at 0x7ff8481a98d0>,\n",
       " <nflgame.game.Game at 0x7ff84825d630>,\n",
       " <nflgame.game.Game at 0x7ff848408668>,\n",
       " <nflgame.game.Game at 0x7ff847e19ef0>,\n",
       " <nflgame.game.Game at 0x7ff848091f98>,\n",
       " <nflgame.game.Game at 0x7ff8218ba6a0>,\n",
       " <nflgame.game.Game at 0x7ff821981e48>,\n",
       " <nflgame.game.Game at 0x7ff821b0c470>]"
      ]
     },
     "execution_count": 19,
     "metadata": {},
     "output_type": "execute_result"
    }
   ],
   "source": [
    "games"
   ]
  },
  {
   "cell_type": "code",
   "execution_count": 20,
   "metadata": {
    "ExecuteTime": {
     "end_time": "2020-08-30T17:47:39.063368Z",
     "start_time": "2020-08-30T17:47:39.057260Z"
    }
   },
   "outputs": [
    {
     "data": {
      "text/plain": [
       "16"
      ]
     },
     "execution_count": 20,
     "metadata": {},
     "output_type": "execute_result"
    }
   ],
   "source": [
    "len(games)"
   ]
  },
  {
   "cell_type": "code",
   "execution_count": 21,
   "metadata": {
    "ExecuteTime": {
     "end_time": "2020-08-30T17:47:39.071849Z",
     "start_time": "2020-08-30T17:47:39.065402Z"
    }
   },
   "outputs": [
    {
     "data": {
      "text/plain": [
       "<nflgame.game.Game at 0x7ff84843ff98>"
      ]
     },
     "execution_count": 21,
     "metadata": {},
     "output_type": "execute_result"
    }
   ],
   "source": [
    "games[1]"
   ]
  },
  {
   "cell_type": "code",
   "execution_count": 22,
   "metadata": {
    "ExecuteTime": {
     "end_time": "2020-08-30T17:47:39.079907Z",
     "start_time": "2020-08-30T17:47:39.074543Z"
    }
   },
   "outputs": [
    {
     "data": {
      "text/plain": [
       "'CAR'"
      ]
     },
     "execution_count": 22,
     "metadata": {},
     "output_type": "execute_result"
    }
   ],
   "source": [
    "nflgame.standard_team('panthers')"
   ]
  },
  {
   "cell_type": "code",
   "execution_count": 23,
   "metadata": {
    "ExecuteTime": {
     "end_time": "2020-08-30T17:47:39.092193Z",
     "start_time": "2020-08-30T17:47:39.086169Z"
    }
   },
   "outputs": [
    {
     "data": {
      "text/plain": [
       "[]"
      ]
     },
     "execution_count": 23,
     "metadata": {},
     "output_type": "execute_result"
    }
   ],
   "source": [
    "nflgame.find('Ryan', team='ATL')"
   ]
  },
  {
   "cell_type": "code",
   "execution_count": 24,
   "metadata": {
    "ExecuteTime": {
     "end_time": "2020-08-30T17:47:39.761429Z",
     "start_time": "2020-08-30T17:47:39.096855Z"
    }
   },
   "outputs": [
    {
     "name": "stdout",
     "output_type": "stream",
     "text": [
      "L.Bell 677\n",
      "E.Elliott 501\n",
      "J.Howard 464\n",
      "C.Hyde 450\n",
      "L.Blount 420\n",
      "R.Kelley 397\n",
      "D.Johnson 380\n",
      "L.Miller 373\n",
      "D.Murray 328\n",
      "J.Ajayi 310\n"
     ]
    }
   ],
   "source": [
    "games = nflgame.games(2016, week=[10,11,12,13,14])\n",
    "players = nflgame.combine(games)\n",
    "for p in players.rushing().sort(\"rushing_yds\").limit(10):\n",
    "    print(p, p.rushing_yds)"
   ]
  },
  {
   "cell_type": "code",
   "execution_count": 25,
   "metadata": {
    "ExecuteTime": {
     "end_time": "2020-08-30T17:47:39.781054Z",
     "start_time": "2020-08-30T17:47:39.769693Z"
    }
   },
   "outputs": [
    {
     "name": "stdout",
     "output_type": "stream",
     "text": [
      "C.Newton 75 159\n",
      "T.Taylor 64 105\n",
      "A.Smith 113 164\n",
      "B.Bortles 109 189\n",
      "B.Osweiler 97 161\n",
      "D.Brees 140 194\n",
      "C.Wentz 140 223\n",
      "A.Rodgers 125 184\n",
      "K.Cousins 119 174\n",
      "C.Kaepernick 78 137\n"
     ]
    }
   ],
   "source": [
    "for p in players.passing().filter(passing_att=lambda x: x>5).sort(\"rushing_tds\").limit(10):\n",
    "    print(p, p.passing_cmp, p.passing_att)"
   ]
  },
  {
   "cell_type": "code",
   "execution_count": 26,
   "metadata": {
    "ExecuteTime": {
     "end_time": "2020-08-30T17:47:39.797738Z",
     "start_time": "2020-08-30T17:47:39.785134Z"
    }
   },
   "outputs": [
    {
     "name": "stdout",
     "output_type": "stream",
     "text": [
      "R.Griffin 12 28\n",
      "R.Fitzpatrick 27 44\n"
     ]
    }
   ],
   "source": [
    "for p in players.passing().filter(home=True, passing_att=lambda x: x>5).sort(\"rushing_tds\").limit(10):\n",
    "    print(p, p.passing_cmp, p.passing_att)"
   ]
  },
  {
   "cell_type": "code",
   "execution_count": 27,
   "metadata": {
    "ExecuteTime": {
     "end_time": "2020-08-30T17:47:39.813085Z",
     "start_time": "2020-08-30T17:47:39.801956Z"
    }
   },
   "outputs": [
    {
     "name": "stdout",
     "output_type": "stream",
     "text": [
      "L.Bell 135 677 5.0 6\n",
      "E.Elliott 110 501 4.6 5\n",
      "L.Blount 87 420 4.8 5\n",
      "J.Stewart 83 282 3.4 4\n",
      "D.Freeman 49 171 3.5 4\n",
      "R.Kelley 90 397 4.4 4\n",
      "M.Asiata 36 127 3.5 4\n",
      "L.McCoy 53 293 5.5 4\n",
      "L.Murray 73 263 3.6 4\n",
      "D.Martin 103 294 2.9 3\n"
     ]
    }
   ],
   "source": [
    "for p in players.rushing().sort('rushing_tds').limit(10):\n",
    "    print(p,\n",
    "          p.rushing_att,\n",
    "          p.rushing_yds,\n",
    "          round(p.rushing_yds/p.rushing_att, 1),\n",
    "          p.rushing_tds)"
   ]
  },
  {
   "cell_type": "markdown",
   "metadata": {},
   "source": [
    "Get the name of every player that played in 2019"
   ]
  },
  {
   "cell_type": "code",
   "execution_count": 28,
   "metadata": {
    "ExecuteTime": {
     "end_time": "2020-08-30T17:47:46.322243Z",
     "start_time": "2020-08-30T17:47:39.817362Z"
    }
   },
   "outputs": [],
   "source": [
    "games2019 = nflgame.games(2019)\n",
    "players_19 = nflgame.combine_max_stats(games2019)"
   ]
  },
  {
   "cell_type": "code",
   "execution_count": 29,
   "metadata": {
    "ExecuteTime": {
     "end_time": "2020-08-30T17:47:46.332052Z",
     "start_time": "2020-08-30T17:47:46.324714Z"
    }
   },
   "outputs": [],
   "source": [
    "player_names_19 = [(p.name, p.playerid) for p in players_19]"
   ]
  },
  {
   "cell_type": "code",
   "execution_count": 30,
   "metadata": {
    "ExecuteTime": {
     "end_time": "2020-08-30T17:47:46.343077Z",
     "start_time": "2020-08-30T17:47:46.335427Z"
    }
   },
   "outputs": [
    {
     "data": {
      "text/plain": [
       "1889"
      ]
     },
     "execution_count": 30,
     "metadata": {},
     "output_type": "execute_result"
    }
   ],
   "source": [
    "len(player_names_19)"
   ]
  },
  {
   "cell_type": "code",
   "execution_count": 31,
   "metadata": {
    "ExecuteTime": {
     "end_time": "2020-08-30T17:47:46.352213Z",
     "start_time": "2020-08-30T17:47:46.347267Z"
    }
   },
   "outputs": [
    {
     "data": {
      "text/plain": [
       "('E.Pineiro', '00-0034173')"
      ]
     },
     "execution_count": 31,
     "metadata": {},
     "output_type": "execute_result"
    }
   ],
   "source": [
    "player_names_19[0]"
   ]
  },
  {
   "cell_type": "markdown",
   "metadata": {},
   "source": [
    "Determine how many players that played in 2019 also played in 2018"
   ]
  },
  {
   "cell_type": "code",
   "execution_count": 32,
   "metadata": {
    "ExecuteTime": {
     "end_time": "2020-08-30T17:47:52.795167Z",
     "start_time": "2020-08-30T17:47:46.354896Z"
    }
   },
   "outputs": [],
   "source": [
    "games2018 = nflgame.games(2018)\n",
    "players18 = nflgame.combine_max_stats(games2018)"
   ]
  },
  {
   "cell_type": "code",
   "execution_count": 33,
   "metadata": {
    "ExecuteTime": {
     "end_time": "2020-08-30T17:47:52.806722Z",
     "start_time": "2020-08-30T17:47:52.797592Z"
    }
   },
   "outputs": [],
   "source": [
    "player_names_18 = [(p.name, p.playerid) for p in players18]"
   ]
  },
  {
   "cell_type": "code",
   "execution_count": 34,
   "metadata": {
    "ExecuteTime": {
     "end_time": "2020-08-30T17:47:52.824379Z",
     "start_time": "2020-08-30T17:47:52.809613Z"
    }
   },
   "outputs": [
    {
     "data": {
      "text/plain": [
       "('J.Elliott', '00-0033787')"
      ]
     },
     "execution_count": 34,
     "metadata": {},
     "output_type": "execute_result"
    }
   ],
   "source": [
    "player_names_18[0]"
   ]
  },
  {
   "cell_type": "code",
   "execution_count": 35,
   "metadata": {
    "ExecuteTime": {
     "end_time": "2020-08-30T17:47:52.839631Z",
     "start_time": "2020-08-30T17:47:52.830630Z"
    }
   },
   "outputs": [
    {
     "data": {
      "text/plain": [
       "('J.Elliott', '00-0033787')"
      ]
     },
     "execution_count": 35,
     "metadata": {},
     "output_type": "execute_result"
    }
   ],
   "source": [
    "test_name = player_names_18[0]\n",
    "test_name"
   ]
  },
  {
   "cell_type": "code",
   "execution_count": 36,
   "metadata": {
    "ExecuteTime": {
     "end_time": "2020-08-30T17:47:52.864028Z",
     "start_time": "2020-08-30T17:47:52.851931Z"
    }
   },
   "outputs": [
    {
     "data": {
      "text/plain": [
       "True"
      ]
     },
     "execution_count": 36,
     "metadata": {},
     "output_type": "execute_result"
    }
   ],
   "source": [
    "test_name in player_names_18"
   ]
  },
  {
   "cell_type": "code",
   "execution_count": 37,
   "metadata": {
    "ExecuteTime": {
     "end_time": "2020-08-30T17:47:52.881574Z",
     "start_time": "2020-08-30T17:47:52.871992Z"
    }
   },
   "outputs": [
    {
     "data": {
      "text/plain": [
       "True"
      ]
     },
     "execution_count": 37,
     "metadata": {},
     "output_type": "execute_result"
    }
   ],
   "source": [
    "test_name in player_names_19"
   ]
  },
  {
   "cell_type": "code",
   "execution_count": 38,
   "metadata": {
    "ExecuteTime": {
     "end_time": "2020-08-30T17:47:52.965876Z",
     "start_time": "2020-08-30T17:47:52.887105Z"
    }
   },
   "outputs": [
    {
     "name": "stdout",
     "output_type": "stream",
     "text": [
      "There are 1362 that played in both 2018 and 2019.\n"
     ]
    }
   ],
   "source": [
    "repeat_players = 0\n",
    "\n",
    "for p in player_names_18: \n",
    "    if p in player_names_19:\n",
    "        repeat_players +=1\n",
    "\n",
    "print(f'There are {repeat_players} that played in both 2018 and 2019.')"
   ]
  },
  {
   "cell_type": "code",
   "execution_count": 39,
   "metadata": {
    "ExecuteTime": {
     "end_time": "2020-08-30T17:47:52.979470Z",
     "start_time": "2020-08-30T17:47:52.970691Z"
    }
   },
   "outputs": [
    {
     "name": "stdout",
     "output_type": "stream",
     "text": [
      "This means that only 72.1% players returned for 2019\n"
     ]
    }
   ],
   "source": [
    "repeat_percent = round(repeat_players / len(player_names_19), 4) * 100\n",
    "\n",
    "print(f'This means that only {repeat_percent}% players returned for 2019')"
   ]
  },
  {
   "cell_type": "markdown",
   "metadata": {},
   "source": [
    "Determine how many players have returned since 2015. "
   ]
  },
  {
   "cell_type": "code",
   "execution_count": 40,
   "metadata": {
    "ExecuteTime": {
     "end_time": "2020-08-30T17:47:59.466383Z",
     "start_time": "2020-08-30T17:47:52.981504Z"
    }
   },
   "outputs": [
    {
     "data": {
      "text/plain": [
       "('S.Gostkowski', '00-0024333')"
      ]
     },
     "execution_count": 40,
     "metadata": {},
     "output_type": "execute_result"
    }
   ],
   "source": [
    "games2015 = nflgame.games(2015)\n",
    "players_15 = nflgame.combine_max_stats(games2015)\n",
    "\n",
    "player_names_15 = [(p.name, p.playerid) for p in players_15]\n",
    "\n",
    "player_names_15[0]"
   ]
  },
  {
   "cell_type": "code",
   "execution_count": 42,
   "metadata": {
    "ExecuteTime": {
     "end_time": "2020-08-30T17:48:37.954753Z",
     "start_time": "2020-08-30T17:48:37.850478Z"
    }
   },
   "outputs": [
    {
     "name": "stdout",
     "output_type": "stream",
     "text": [
      "In 2019, 35.94% of players also played in 2015\n"
     ]
    }
   ],
   "source": [
    "repeat_players = 0\n",
    "\n",
    "for p in player_names_15:\n",
    "    if p in player_names_19:\n",
    "        repeat_players +=1\n",
    "        \n",
    "repeat_percent = round(repeat_players / len(player_names_19), 4) * 100\n",
    "\n",
    "print(f'In 2019, {repeat_percent}% of players also played in 2015')"
   ]
  },
  {
   "cell_type": "markdown",
   "metadata": {},
   "source": [
    "Create a dataframe of unique player names from 2015 to 2019"
   ]
  },
  {
   "cell_type": "code",
   "execution_count": 43,
   "metadata": {
    "ExecuteTime": {
     "end_time": "2020-08-30T17:48:48.370932Z",
     "start_time": "2020-08-30T17:48:48.334574Z"
    }
   },
   "outputs": [
    {
     "data": {
      "text/html": [
       "<div>\n",
       "<style scoped>\n",
       "    .dataframe tbody tr th:only-of-type {\n",
       "        vertical-align: middle;\n",
       "    }\n",
       "\n",
       "    .dataframe tbody tr th {\n",
       "        vertical-align: top;\n",
       "    }\n",
       "\n",
       "    .dataframe thead th {\n",
       "        text-align: right;\n",
       "    }\n",
       "</style>\n",
       "<table border=\"1\" class=\"dataframe\">\n",
       "  <thead>\n",
       "    <tr style=\"text-align: right;\">\n",
       "      <th></th>\n",
       "      <th>name</th>\n",
       "      <th>playerid</th>\n",
       "    </tr>\n",
       "  </thead>\n",
       "  <tbody>\n",
       "    <tr>\n",
       "      <th>0</th>\n",
       "      <td>E.Pineiro</td>\n",
       "      <td>00-0034173</td>\n",
       "    </tr>\n",
       "    <tr>\n",
       "      <th>1</th>\n",
       "      <td>A.Jones</td>\n",
       "      <td>00-0033293</td>\n",
       "    </tr>\n",
       "    <tr>\n",
       "      <th>2</th>\n",
       "      <td>R.Smith</td>\n",
       "      <td>00-0034874</td>\n",
       "    </tr>\n",
       "    <tr>\n",
       "      <th>3</th>\n",
       "      <td>A.Rodgers</td>\n",
       "      <td>00-0023459</td>\n",
       "    </tr>\n",
       "    <tr>\n",
       "      <th>4</th>\n",
       "      <td>R.Robertson-Harris</td>\n",
       "      <td>00-0032667</td>\n",
       "    </tr>\n",
       "  </tbody>\n",
       "</table>\n",
       "</div>"
      ],
      "text/plain": [
       "                 name    playerid\n",
       "0           E.Pineiro  00-0034173\n",
       "1             A.Jones  00-0033293\n",
       "2             R.Smith  00-0034874\n",
       "3           A.Rodgers  00-0023459\n",
       "4  R.Robertson-Harris  00-0032667"
      ]
     },
     "execution_count": 43,
     "metadata": {},
     "output_type": "execute_result"
    }
   ],
   "source": [
    "df = pd.DataFrame(player_names_19, columns=['name','playerid'])\n",
    "df.head()"
   ]
  },
  {
   "cell_type": "code",
   "execution_count": 44,
   "metadata": {
    "ExecuteTime": {
     "end_time": "2020-08-30T17:48:49.263423Z",
     "start_time": "2020-08-30T17:48:49.258974Z"
    }
   },
   "outputs": [
    {
     "name": "stdout",
     "output_type": "stream",
     "text": [
      "00-0033787\n",
      "00-0027215\n",
      "00-0026143\n",
      "00-0026990\n",
      "00-0027944\n",
      "00-0033876\n",
      "00-0031285\n",
      "00-0032129\n",
      "00-0034837\n",
      "00-0032803\n"
     ]
    }
   ],
   "source": [
    "for p in player_names_18[:10]:\n",
    "    print(p[1])"
   ]
  },
  {
   "cell_type": "code",
   "execution_count": 45,
   "metadata": {
    "ExecuteTime": {
     "end_time": "2020-08-30T17:48:49.992819Z",
     "start_time": "2020-08-30T17:48:49.985414Z"
    }
   },
   "outputs": [
    {
     "data": {
      "text/plain": [
       "['00-0033787', '00-0027215', '00-0026143', '00-0026990', '00-0027944']"
      ]
     },
     "execution_count": 45,
     "metadata": {},
     "output_type": "execute_result"
    }
   ],
   "source": [
    "player_id_18 = [p.playerid for p in players18]\n",
    "player_id_18[:5]"
   ]
  },
  {
   "cell_type": "code",
   "execution_count": 46,
   "metadata": {
    "ExecuteTime": {
     "end_time": "2020-08-30T17:48:50.675370Z",
     "start_time": "2020-08-30T17:48:50.659240Z"
    }
   },
   "outputs": [
    {
     "data": {
      "text/html": [
       "<div>\n",
       "<style scoped>\n",
       "    .dataframe tbody tr th:only-of-type {\n",
       "        vertical-align: middle;\n",
       "    }\n",
       "\n",
       "    .dataframe tbody tr th {\n",
       "        vertical-align: top;\n",
       "    }\n",
       "\n",
       "    .dataframe thead th {\n",
       "        text-align: right;\n",
       "    }\n",
       "</style>\n",
       "<table border=\"1\" class=\"dataframe\">\n",
       "  <thead>\n",
       "    <tr style=\"text-align: right;\">\n",
       "      <th></th>\n",
       "      <th>name</th>\n",
       "      <th>playerid</th>\n",
       "      <th>s18</th>\n",
       "    </tr>\n",
       "  </thead>\n",
       "  <tbody>\n",
       "    <tr>\n",
       "      <th>0</th>\n",
       "      <td>E.Pineiro</td>\n",
       "      <td>00-0034173</td>\n",
       "      <td>False</td>\n",
       "    </tr>\n",
       "    <tr>\n",
       "      <th>1</th>\n",
       "      <td>A.Jones</td>\n",
       "      <td>00-0033293</td>\n",
       "      <td>True</td>\n",
       "    </tr>\n",
       "    <tr>\n",
       "      <th>2</th>\n",
       "      <td>R.Smith</td>\n",
       "      <td>00-0034874</td>\n",
       "      <td>True</td>\n",
       "    </tr>\n",
       "    <tr>\n",
       "      <th>3</th>\n",
       "      <td>A.Rodgers</td>\n",
       "      <td>00-0023459</td>\n",
       "      <td>True</td>\n",
       "    </tr>\n",
       "    <tr>\n",
       "      <th>4</th>\n",
       "      <td>R.Robertson-Harris</td>\n",
       "      <td>00-0032667</td>\n",
       "      <td>True</td>\n",
       "    </tr>\n",
       "    <tr>\n",
       "      <th>5</th>\n",
       "      <td>T.Cohen</td>\n",
       "      <td>00-0033556</td>\n",
       "      <td>True</td>\n",
       "    </tr>\n",
       "    <tr>\n",
       "      <th>6</th>\n",
       "      <td>J.Scott</td>\n",
       "      <td>00-0034162</td>\n",
       "      <td>True</td>\n",
       "    </tr>\n",
       "    <tr>\n",
       "      <th>7</th>\n",
       "      <td>A.Amos</td>\n",
       "      <td>00-0031584</td>\n",
       "      <td>True</td>\n",
       "    </tr>\n",
       "    <tr>\n",
       "      <th>8</th>\n",
       "      <td>K.Clark</td>\n",
       "      <td>00-0033120</td>\n",
       "      <td>True</td>\n",
       "    </tr>\n",
       "    <tr>\n",
       "      <th>9</th>\n",
       "      <td>D.Lowry</td>\n",
       "      <td>00-0032412</td>\n",
       "      <td>True</td>\n",
       "    </tr>\n",
       "  </tbody>\n",
       "</table>\n",
       "</div>"
      ],
      "text/plain": [
       "                 name    playerid    s18\n",
       "0           E.Pineiro  00-0034173  False\n",
       "1             A.Jones  00-0033293   True\n",
       "2             R.Smith  00-0034874   True\n",
       "3           A.Rodgers  00-0023459   True\n",
       "4  R.Robertson-Harris  00-0032667   True\n",
       "5             T.Cohen  00-0033556   True\n",
       "6             J.Scott  00-0034162   True\n",
       "7              A.Amos  00-0031584   True\n",
       "8             K.Clark  00-0033120   True\n",
       "9             D.Lowry  00-0032412   True"
      ]
     },
     "execution_count": 46,
     "metadata": {},
     "output_type": "execute_result"
    }
   ],
   "source": [
    "df['s18'] = df['playerid'].isin(player_id_18)\n",
    "    \n",
    "df.head(10)"
   ]
  },
  {
   "cell_type": "code",
   "execution_count": 47,
   "metadata": {
    "ExecuteTime": {
     "end_time": "2020-08-30T17:48:51.720614Z",
     "start_time": "2020-08-30T17:48:51.710378Z"
    }
   },
   "outputs": [
    {
     "data": {
      "text/plain": [
       "True     0.741133\n",
       "False    0.258867\n",
       "Name: s18, dtype: float64"
      ]
     },
     "execution_count": 47,
     "metadata": {},
     "output_type": "execute_result"
    }
   ],
   "source": [
    "df.s18.value_counts(normalize=True)"
   ]
  },
  {
   "cell_type": "code",
   "execution_count": null,
   "metadata": {},
   "outputs": [],
   "source": []
  }
 ],
 "metadata": {
  "kernelspec": {
   "display_name": "Python 3",
   "language": "python",
   "name": "python3"
  },
  "language_info": {
   "codemirror_mode": {
    "name": "ipython",
    "version": 3
   },
   "file_extension": ".py",
   "mimetype": "text/x-python",
   "name": "python",
   "nbconvert_exporter": "python",
   "pygments_lexer": "ipython3",
   "version": "3.6.6"
  },
  "toc": {
   "base_numbering": 1,
   "nav_menu": {},
   "number_sections": true,
   "sideBar": true,
   "skip_h1_title": false,
   "title_cell": "Table of Contents",
   "title_sidebar": "Contents",
   "toc_cell": false,
   "toc_position": {},
   "toc_section_display": true,
   "toc_window_display": false
  }
 },
 "nbformat": 4,
 "nbformat_minor": 2
}
