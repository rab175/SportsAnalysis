{
 "cells": [
  {
   "cell_type": "markdown",
   "metadata": {},
   "source": [
    "# Draft Model"
   ]
  },
  {
   "cell_type": "code",
   "execution_count": 5,
   "metadata": {
    "ExecuteTime": {
     "end_time": "2020-08-30T18:14:12.028175Z",
     "start_time": "2020-08-30T18:14:12.024956Z"
    }
   },
   "outputs": [],
   "source": [
    "from bs4 import BeautifulSoup as BS\n",
    "import pandas as pd\n",
    "import requests"
   ]
  },
  {
   "cell_type": "code",
   "execution_count": 4,
   "metadata": {
    "ExecuteTime": {
     "end_time": "2020-08-30T18:12:03.925548Z",
     "start_time": "2020-08-30T18:12:03.922150Z"
    }
   },
   "outputs": [],
   "source": [
    "BASE_URL = \"https://www.fantasypros.com/nfl/adp/ppr-overall.php\""
   ]
  },
  {
   "cell_type": "code",
   "execution_count": 10,
   "metadata": {
    "ExecuteTime": {
     "end_time": "2020-08-30T18:22:00.166417Z",
     "start_time": "2020-08-30T18:22:00.160538Z"
    }
   },
   "outputs": [],
   "source": [
    "def make_adp_df():\n",
    "    res = requests.get(BASE_URL)\n",
    "    if res.ok:\n",
    "        soup = BS(res.content, 'html.parser')\n",
    "        table = soup.find('table', {'id':'data'})\n",
    "        df = pd.read_html(str(table))[0]\n",
    "        print('Output after reading the html:\\n\\n',df.head(),'\\n')\n",
    "        df = df[['Player Team (Bye)','POS','AVG']]\n",
    "        print('Output after filtering:\\n\\n',df.head(),'\\n')\n",
    "        df['PLAYER'] = df['Player Team (Bye)'].apply(lambda x:''.join(x.split()[:-2]))\n",
    "        df['POS'] = df['POS'].apply(lambda x:x[:2])\n",
    "        \n",
    "        df = df[['PLAYER','POS','AVG']].sort_values(by='AVG')\n",
    "        \n",
    "        print('Final output:\\n\\n', df.head())\n",
    "        \n",
    "        return df\n",
    "    \n",
    "    else:\n",
    "        print(\"Didn't work, try again\")"
   ]
  },
  {
   "cell_type": "code",
   "execution_count": 11,
   "metadata": {
    "ExecuteTime": {
     "end_time": "2020-08-30T18:22:03.053055Z",
     "start_time": "2020-08-30T18:22:01.961339Z"
    }
   },
   "outputs": [
    {
     "name": "stdout",
     "output_type": "stream",
     "text": [
      "Output after reading the html:\n",
      "\n",
      "    Rank             Player Team (Bye)  POS  ESPN  MFL  RTSports  Fantrax  AVG\n",
      "0     1  Christian McCaffrey CAR (13)  RB1   1.0  NaN       1.0      1.0  1.0\n",
      "1     2       Saquon Barkley NYG (11)  RB2   2.0  NaN       2.0      2.0  2.0\n",
      "2     3      Ezekiel Elliott DAL (10)  RB3   3.0  NaN       3.0      4.0  3.3\n",
      "3     4           Dalvin Cook MIN (7)  RB4   4.0  NaN       5.0      5.0  4.7\n",
      "4     5         Michael Thomas NO (6)  WR1   6.0  NaN       6.0      3.0  5.0 \n",
      "\n",
      "Output after filtering:\n",
      "\n",
      "               Player Team (Bye)  POS  AVG\n",
      "0  Christian McCaffrey CAR (13)  RB1  1.0\n",
      "1       Saquon Barkley NYG (11)  RB2  2.0\n",
      "2      Ezekiel Elliott DAL (10)  RB3  3.3\n",
      "3           Dalvin Cook MIN (7)  RB4  4.7\n",
      "4         Michael Thomas NO (6)  WR1  5.0 \n",
      "\n",
      "Final output:\n",
      "\n",
      "                PLAYER POS  AVG\n",
      "0  ChristianMcCaffrey  RB  1.0\n",
      "1       SaquonBarkley  RB  2.0\n",
      "2      EzekielElliott  RB  3.3\n",
      "3          DalvinCook  RB  4.7\n",
      "4       MichaelThomas  WR  5.0\n"
     ]
    }
   ],
   "source": [
    "df = make_adp_df()"
   ]
  },
  {
   "cell_type": "code",
   "execution_count": 12,
   "metadata": {
    "ExecuteTime": {
     "end_time": "2020-08-30T18:23:26.067966Z",
     "start_time": "2020-08-30T18:23:26.039311Z"
    }
   },
   "outputs": [
    {
     "data": {
      "text/html": [
       "<div>\n",
       "<style scoped>\n",
       "    .dataframe tbody tr th:only-of-type {\n",
       "        vertical-align: middle;\n",
       "    }\n",
       "\n",
       "    .dataframe tbody tr th {\n",
       "        vertical-align: top;\n",
       "    }\n",
       "\n",
       "    .dataframe thead th {\n",
       "        text-align: right;\n",
       "    }\n",
       "</style>\n",
       "<table border=\"1\" class=\"dataframe\">\n",
       "  <thead>\n",
       "    <tr style=\"text-align: right;\">\n",
       "      <th></th>\n",
       "      <th>PLAYER</th>\n",
       "      <th>POS</th>\n",
       "      <th>AVG</th>\n",
       "    </tr>\n",
       "  </thead>\n",
       "  <tbody>\n",
       "    <tr>\n",
       "      <th>0</th>\n",
       "      <td>ChristianMcCaffrey</td>\n",
       "      <td>RB</td>\n",
       "      <td>1.0</td>\n",
       "    </tr>\n",
       "    <tr>\n",
       "      <th>1</th>\n",
       "      <td>SaquonBarkley</td>\n",
       "      <td>RB</td>\n",
       "      <td>2.0</td>\n",
       "    </tr>\n",
       "    <tr>\n",
       "      <th>2</th>\n",
       "      <td>EzekielElliott</td>\n",
       "      <td>RB</td>\n",
       "      <td>3.3</td>\n",
       "    </tr>\n",
       "    <tr>\n",
       "      <th>3</th>\n",
       "      <td>DalvinCook</td>\n",
       "      <td>RB</td>\n",
       "      <td>4.7</td>\n",
       "    </tr>\n",
       "    <tr>\n",
       "      <th>4</th>\n",
       "      <td>MichaelThomas</td>\n",
       "      <td>WR</td>\n",
       "      <td>5.0</td>\n",
       "    </tr>\n",
       "  </tbody>\n",
       "</table>\n",
       "</div>"
      ],
      "text/plain": [
       "               PLAYER POS  AVG\n",
       "0  ChristianMcCaffrey  RB  1.0\n",
       "1       SaquonBarkley  RB  2.0\n",
       "2      EzekielElliott  RB  3.3\n",
       "3          DalvinCook  RB  4.7\n",
       "4       MichaelThomas  WR  5.0"
      ]
     },
     "execution_count": 12,
     "metadata": {},
     "output_type": "execute_result"
    }
   ],
   "source": [
    "df.head()"
   ]
  },
  {
   "cell_type": "code",
   "execution_count": 14,
   "metadata": {
    "ExecuteTime": {
     "end_time": "2020-08-30T18:23:39.848848Z",
     "start_time": "2020-08-30T18:23:39.824650Z"
    }
   },
   "outputs": [
    {
     "name": "stdout",
     "output_type": "stream",
     "text": [
      "<class 'pandas.core.frame.DataFrame'>\n",
      "Int64Index: 1002 entries, 0 to 1001\n",
      "Data columns (total 3 columns):\n",
      "PLAYER    1002 non-null object\n",
      "POS       1002 non-null object\n",
      "AVG       1002 non-null float64\n",
      "dtypes: float64(1), object(2)\n",
      "memory usage: 31.3+ KB\n"
     ]
    }
   ],
   "source": [
    "df.info()"
   ]
  },
  {
   "cell_type": "code",
   "execution_count": null,
   "metadata": {},
   "outputs": [],
   "source": [
    "replacement_players = {\n",
    "    'RB':,\n",
    "    'WR':,\n",
    "    'QB':,\n",
    "    'TE':,\n",
    "    \n",
    "}"
   ]
  },
  {
   "cell_type": "code",
   "execution_count": null,
   "metadata": {},
   "outputs": [],
   "source": []
  },
  {
   "cell_type": "code",
   "execution_count": null,
   "metadata": {},
   "outputs": [],
   "source": []
  },
  {
   "cell_type": "code",
   "execution_count": null,
   "metadata": {},
   "outputs": [],
   "source": []
  },
  {
   "cell_type": "code",
   "execution_count": null,
   "metadata": {},
   "outputs": [],
   "source": []
  },
  {
   "cell_type": "code",
   "execution_count": null,
   "metadata": {},
   "outputs": [],
   "source": []
  },
  {
   "cell_type": "code",
   "execution_count": null,
   "metadata": {},
   "outputs": [],
   "source": []
  },
  {
   "cell_type": "code",
   "execution_count": null,
   "metadata": {},
   "outputs": [],
   "source": []
  },
  {
   "cell_type": "code",
   "execution_count": null,
   "metadata": {},
   "outputs": [],
   "source": []
  },
  {
   "cell_type": "code",
   "execution_count": null,
   "metadata": {},
   "outputs": [],
   "source": []
  },
  {
   "cell_type": "code",
   "execution_count": null,
   "metadata": {},
   "outputs": [],
   "source": []
  },
  {
   "cell_type": "code",
   "execution_count": null,
   "metadata": {},
   "outputs": [],
   "source": []
  },
  {
   "cell_type": "code",
   "execution_count": null,
   "metadata": {},
   "outputs": [],
   "source": []
  },
  {
   "cell_type": "code",
   "execution_count": null,
   "metadata": {},
   "outputs": [],
   "source": []
  },
  {
   "cell_type": "code",
   "execution_count": null,
   "metadata": {},
   "outputs": [],
   "source": []
  }
 ],
 "metadata": {
  "kernelspec": {
   "display_name": "Python [conda env:learn-env] *",
   "language": "python",
   "name": "conda-env-learn-env-py"
  },
  "language_info": {
   "codemirror_mode": {
    "name": "ipython",
    "version": 3
   },
   "file_extension": ".py",
   "mimetype": "text/x-python",
   "name": "python",
   "nbconvert_exporter": "python",
   "pygments_lexer": "ipython3",
   "version": "3.6.6"
  },
  "toc": {
   "base_numbering": 1,
   "nav_menu": {},
   "number_sections": true,
   "sideBar": true,
   "skip_h1_title": false,
   "title_cell": "Table of Contents",
   "title_sidebar": "Contents",
   "toc_cell": false,
   "toc_position": {},
   "toc_section_display": true,
   "toc_window_display": false
  }
 },
 "nbformat": 4,
 "nbformat_minor": 2
}
