{
 "cells": [
  {
   "cell_type": "markdown",
   "metadata": {},
   "source": [
    "# Draft Model"
   ]
  },
  {
   "cell_type": "code",
   "execution_count": 5,
   "metadata": {
    "ExecuteTime": {
     "end_time": "2020-08-30T18:14:12.028175Z",
     "start_time": "2020-08-30T18:14:12.024956Z"
    }
   },
   "outputs": [],
   "source": [
    "from bs4 import BeautifulSoup as BS\n",
    "import pandas as pd\n",
    "import requests"
   ]
  },
  {
   "cell_type": "code",
   "execution_count": 4,
   "metadata": {
    "ExecuteTime": {
     "end_time": "2020-08-30T18:12:03.925548Z",
     "start_time": "2020-08-30T18:12:03.922150Z"
    }
   },
   "outputs": [],
   "source": [
    "BASE_URL = \"https://www.fantasypros.com/nfl/adp/ppr-overall.php\""
   ]
  },
  {
   "cell_type": "code",
   "execution_count": 22,
   "metadata": {
    "ExecuteTime": {
     "end_time": "2020-08-30T18:48:24.074068Z",
     "start_time": "2020-08-30T18:48:24.067347Z"
    }
   },
   "outputs": [],
   "source": [
    "def make_adp_df():\n",
    "    res = requests.get(BASE_URL)\n",
    "    if res.ok:\n",
    "        soup = BS(res.content, 'html.parser')\n",
    "        table = soup.find('table', {'id':'data'})\n",
    "        df = pd.read_html(str(table))[0]\n",
    "        print('Output after reading the html:\\n\\n',df.head(),'\\n')\n",
    "        df = df[['Player Team (Bye)','POS','AVG']]\n",
    "        print('Output after filtering:\\n\\n',df.head(),'\\n')\n",
    "        df['PLAYER'] = df['Player Team (Bye)'].apply(lambda x:' '.join(x.split()[:-2]))\n",
    "        df['POS'] = df['POS'].apply(lambda x:x[:2])\n",
    "        \n",
    "        df = df[['PLAYER','POS','AVG']].sort_values(by='AVG')\n",
    "        \n",
    "        print('Final output:\\n\\n', df.head())\n",
    "        \n",
    "        return df\n",
    "    \n",
    "    else:\n",
    "        print(\"Didn't work, try again\")"
   ]
  },
  {
   "cell_type": "code",
   "execution_count": 23,
   "metadata": {
    "ExecuteTime": {
     "end_time": "2020-08-30T18:48:26.399707Z",
     "start_time": "2020-08-30T18:48:25.291525Z"
    }
   },
   "outputs": [
    {
     "name": "stdout",
     "output_type": "stream",
     "text": [
      "Output after reading the html:\n",
      "\n",
      "    Rank             Player Team (Bye)  POS  ESPN  MFL  RTSports  Fantrax  AVG\n",
      "0     1  Christian McCaffrey CAR (13)  RB1   1.0  NaN       1.0      1.0  1.0\n",
      "1     2       Saquon Barkley NYG (11)  RB2   2.0  NaN       2.0      2.0  2.0\n",
      "2     3      Ezekiel Elliott DAL (10)  RB3   3.0  NaN       3.0      4.0  3.3\n",
      "3     4           Dalvin Cook MIN (7)  RB4   4.0  NaN       5.0      5.0  4.7\n",
      "4     5         Michael Thomas NO (6)  WR1   6.0  NaN       6.0      3.0  5.0 \n",
      "\n",
      "Output after filtering:\n",
      "\n",
      "               Player Team (Bye)  POS  AVG\n",
      "0  Christian McCaffrey CAR (13)  RB1  1.0\n",
      "1       Saquon Barkley NYG (11)  RB2  2.0\n",
      "2      Ezekiel Elliott DAL (10)  RB3  3.3\n",
      "3           Dalvin Cook MIN (7)  RB4  4.7\n",
      "4         Michael Thomas NO (6)  WR1  5.0 \n",
      "\n",
      "Final output:\n",
      "\n",
      "                 PLAYER POS  AVG\n",
      "0  Christian McCaffrey  RB  1.0\n",
      "1       Saquon Barkley  RB  2.0\n",
      "2      Ezekiel Elliott  RB  3.3\n",
      "3          Dalvin Cook  RB  4.7\n",
      "4       Michael Thomas  WR  5.0\n"
     ]
    }
   ],
   "source": [
    "df = make_adp_df()"
   ]
  },
  {
   "cell_type": "code",
   "execution_count": 24,
   "metadata": {
    "ExecuteTime": {
     "end_time": "2020-08-30T18:48:31.949056Z",
     "start_time": "2020-08-30T18:48:31.939668Z"
    }
   },
   "outputs": [
    {
     "data": {
      "text/html": [
       "<div>\n",
       "<style scoped>\n",
       "    .dataframe tbody tr th:only-of-type {\n",
       "        vertical-align: middle;\n",
       "    }\n",
       "\n",
       "    .dataframe tbody tr th {\n",
       "        vertical-align: top;\n",
       "    }\n",
       "\n",
       "    .dataframe thead th {\n",
       "        text-align: right;\n",
       "    }\n",
       "</style>\n",
       "<table border=\"1\" class=\"dataframe\">\n",
       "  <thead>\n",
       "    <tr style=\"text-align: right;\">\n",
       "      <th></th>\n",
       "      <th>PLAYER</th>\n",
       "      <th>POS</th>\n",
       "      <th>AVG</th>\n",
       "    </tr>\n",
       "  </thead>\n",
       "  <tbody>\n",
       "    <tr>\n",
       "      <th>0</th>\n",
       "      <td>Christian McCaffrey</td>\n",
       "      <td>RB</td>\n",
       "      <td>1.0</td>\n",
       "    </tr>\n",
       "    <tr>\n",
       "      <th>1</th>\n",
       "      <td>Saquon Barkley</td>\n",
       "      <td>RB</td>\n",
       "      <td>2.0</td>\n",
       "    </tr>\n",
       "    <tr>\n",
       "      <th>2</th>\n",
       "      <td>Ezekiel Elliott</td>\n",
       "      <td>RB</td>\n",
       "      <td>3.3</td>\n",
       "    </tr>\n",
       "    <tr>\n",
       "      <th>3</th>\n",
       "      <td>Dalvin Cook</td>\n",
       "      <td>RB</td>\n",
       "      <td>4.7</td>\n",
       "    </tr>\n",
       "    <tr>\n",
       "      <th>4</th>\n",
       "      <td>Michael Thomas</td>\n",
       "      <td>WR</td>\n",
       "      <td>5.0</td>\n",
       "    </tr>\n",
       "  </tbody>\n",
       "</table>\n",
       "</div>"
      ],
      "text/plain": [
       "                PLAYER POS  AVG\n",
       "0  Christian McCaffrey  RB  1.0\n",
       "1       Saquon Barkley  RB  2.0\n",
       "2      Ezekiel Elliott  RB  3.3\n",
       "3          Dalvin Cook  RB  4.7\n",
       "4       Michael Thomas  WR  5.0"
      ]
     },
     "execution_count": 24,
     "metadata": {},
     "output_type": "execute_result"
    }
   ],
   "source": [
    "df.head()"
   ]
  },
  {
   "cell_type": "code",
   "execution_count": 25,
   "metadata": {
    "ExecuteTime": {
     "end_time": "2020-08-30T18:48:32.556237Z",
     "start_time": "2020-08-30T18:48:32.544278Z"
    }
   },
   "outputs": [
    {
     "name": "stdout",
     "output_type": "stream",
     "text": [
      "<class 'pandas.core.frame.DataFrame'>\n",
      "Int64Index: 1002 entries, 0 to 1001\n",
      "Data columns (total 3 columns):\n",
      "PLAYER    1002 non-null object\n",
      "POS       1002 non-null object\n",
      "AVG       1002 non-null float64\n",
      "dtypes: float64(1), object(2)\n",
      "memory usage: 31.3+ KB\n"
     ]
    }
   ],
   "source": [
    "df.info()"
   ]
  },
  {
   "cell_type": "code",
   "execution_count": 26,
   "metadata": {
    "ExecuteTime": {
     "end_time": "2020-08-30T18:48:36.574328Z",
     "start_time": "2020-08-30T18:48:36.569838Z"
    }
   },
   "outputs": [],
   "source": [
    "replacement_players = {\n",
    "    'RB':None,\n",
    "    'WR':None,\n",
    "    'TE':None,\n",
    "    'QB':None\n",
    "}"
   ]
  },
  {
   "cell_type": "code",
   "execution_count": 27,
   "metadata": {
    "ExecuteTime": {
     "end_time": "2020-08-30T18:48:37.373544Z",
     "start_time": "2020-08-30T18:48:37.366930Z"
    }
   },
   "outputs": [
    {
     "data": {
      "text/plain": [
       "{'RB': None, 'WR': None, 'TE': None, 'QB': None}"
      ]
     },
     "execution_count": 27,
     "metadata": {},
     "output_type": "execute_result"
    }
   ],
   "source": [
    "replacement_players"
   ]
  },
  {
   "cell_type": "code",
   "execution_count": 28,
   "metadata": {
    "ExecuteTime": {
     "end_time": "2020-08-30T18:48:38.108099Z",
     "start_time": "2020-08-30T18:48:38.093281Z"
    }
   },
   "outputs": [
    {
     "data": {
      "text/plain": [
       "{'RB': 'Kerryon Johnson',\n",
       " 'WR': 'John Brown',\n",
       " 'TE': 'Jared Cook',\n",
       " 'QB': 'Carson Wentz'}"
      ]
     },
     "execution_count": 28,
     "metadata": {},
     "output_type": "execute_result"
    }
   ],
   "source": [
    "# look at the top 100 picks in our df and get the last RB, WR, QB, and TE\n",
    "# and store them in our dict\n",
    "\n",
    "for _, row in df[:100].iterrows():\n",
    "    position = row['POS']\n",
    "    player = row['PLAYER']\n",
    "    replacement_players[position] = player\n",
    "    \n",
    "replacement_players"
   ]
  },
  {
   "cell_type": "code",
   "execution_count": null,
   "metadata": {},
   "outputs": [],
   "source": []
  },
  {
   "cell_type": "code",
   "execution_count": null,
   "metadata": {},
   "outputs": [],
   "source": []
  },
  {
   "cell_type": "code",
   "execution_count": null,
   "metadata": {},
   "outputs": [],
   "source": []
  },
  {
   "cell_type": "code",
   "execution_count": null,
   "metadata": {},
   "outputs": [],
   "source": []
  },
  {
   "cell_type": "code",
   "execution_count": null,
   "metadata": {},
   "outputs": [],
   "source": []
  },
  {
   "cell_type": "code",
   "execution_count": null,
   "metadata": {},
   "outputs": [],
   "source": []
  },
  {
   "cell_type": "code",
   "execution_count": null,
   "metadata": {},
   "outputs": [],
   "source": []
  },
  {
   "cell_type": "code",
   "execution_count": null,
   "metadata": {},
   "outputs": [],
   "source": []
  },
  {
   "cell_type": "code",
   "execution_count": null,
   "metadata": {},
   "outputs": [],
   "source": []
  },
  {
   "cell_type": "code",
   "execution_count": null,
   "metadata": {},
   "outputs": [],
   "source": []
  },
  {
   "cell_type": "code",
   "execution_count": null,
   "metadata": {},
   "outputs": [],
   "source": []
  },
  {
   "cell_type": "code",
   "execution_count": null,
   "metadata": {},
   "outputs": [],
   "source": []
  },
  {
   "cell_type": "code",
   "execution_count": null,
   "metadata": {},
   "outputs": [],
   "source": []
  }
 ],
 "metadata": {
  "kernelspec": {
   "display_name": "Python [conda env:learn-env] *",
   "language": "python",
   "name": "conda-env-learn-env-py"
  },
  "language_info": {
   "codemirror_mode": {
    "name": "ipython",
    "version": 3
   },
   "file_extension": ".py",
   "mimetype": "text/x-python",
   "name": "python",
   "nbconvert_exporter": "python",
   "pygments_lexer": "ipython3",
   "version": "3.6.6"
  },
  "toc": {
   "base_numbering": 1,
   "nav_menu": {},
   "number_sections": true,
   "sideBar": true,
   "skip_h1_title": false,
   "title_cell": "Table of Contents",
   "title_sidebar": "Contents",
   "toc_cell": false,
   "toc_position": {},
   "toc_section_display": true,
   "toc_window_display": false
  }
 },
 "nbformat": 4,
 "nbformat_minor": 2
}
