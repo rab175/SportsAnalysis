{
 "cells": [
  {
   "cell_type": "markdown",
   "metadata": {},
   "source": [
    "# Draft Model"
   ]
  },
  {
   "cell_type": "code",
   "execution_count": 219,
   "metadata": {
    "ExecuteTime": {
     "end_time": "2020-09-04T19:58:58.303847Z",
     "start_time": "2020-09-04T19:58:58.300554Z"
    }
   },
   "outputs": [],
   "source": [
    "from bs4 import BeautifulSoup as BS\n",
    "import pandas as pd\n",
    "import numpy as np\n",
    "import requests"
   ]
  },
  {
   "cell_type": "code",
   "execution_count": 2,
   "metadata": {
    "ExecuteTime": {
     "end_time": "2020-09-04T16:58:22.162873Z",
     "start_time": "2020-09-04T16:58:22.150956Z"
    }
   },
   "outputs": [],
   "source": [
    "ADP_URL = \"https://www.fantasypros.com/nfl/adp/ppr-overall.php\""
   ]
  },
  {
   "cell_type": "code",
   "execution_count": 3,
   "metadata": {
    "ExecuteTime": {
     "end_time": "2020-09-04T16:58:22.173410Z",
     "start_time": "2020-09-04T16:58:22.168745Z"
    }
   },
   "outputs": [],
   "source": [
    "def make_adp_df():\n",
    "    res = requests.get(ADP_URL)\n",
    "    if res.ok:\n",
    "        soup = BS(res.content, 'html.parser')\n",
    "        table = soup.find('table', {'id':'data'})\n",
    "        df = pd.read_html(str(table))[0]\n",
    "        print('Output after reading the html:\\n\\n',df.head(),'\\n')\n",
    "        df = df[['Player Team (Bye)','POS','AVG']]\n",
    "        print('Output after filtering:\\n\\n',df.head(),'\\n')\n",
    "        df['PLAYER'] = df['Player Team (Bye)'].apply(lambda x:' '.join(x.split()[:-2]))\n",
    "        df['POS'] = df['POS'].apply(lambda x:x[:2])\n",
    "        \n",
    "        df = df[['PLAYER','POS','AVG']].sort_values(by='AVG')\n",
    "        \n",
    "        print('Final output:\\n\\n', df.head())\n",
    "        \n",
    "        return df\n",
    "    \n",
    "    else:\n",
    "        print(\"Didn't work, try again\")"
   ]
  },
  {
   "cell_type": "code",
   "execution_count": 4,
   "metadata": {
    "ExecuteTime": {
     "end_time": "2020-09-04T16:58:23.286510Z",
     "start_time": "2020-09-04T16:58:22.178271Z"
    }
   },
   "outputs": [
    {
     "name": "stdout",
     "output_type": "stream",
     "text": [
      "Output after reading the html:\n",
      "\n",
      "    Rank             Player Team (Bye)  POS  ESPN  MFL  RTSports  Fantrax  AVG\n",
      "0     1  Christian McCaffrey CAR (13)  RB1   1.0  NaN       1.0      1.0  1.0\n",
      "1     2       Saquon Barkley NYG (11)  RB2   2.0  NaN       2.0      2.0  2.0\n",
      "2     3      Ezekiel Elliott DAL (10)  RB3   3.0  NaN       3.0      4.0  3.3\n",
      "3     4         Michael Thomas NO (6)  WR1   6.0  NaN       5.0      3.0  4.7\n",
      "4     5           Dalvin Cook MIN (7)  RB4   4.0  NaN       4.0      6.0  4.7 \n",
      "\n",
      "Output after filtering:\n",
      "\n",
      "               Player Team (Bye)  POS  AVG\n",
      "0  Christian McCaffrey CAR (13)  RB1  1.0\n",
      "1       Saquon Barkley NYG (11)  RB2  2.0\n",
      "2      Ezekiel Elliott DAL (10)  RB3  3.3\n",
      "3         Michael Thomas NO (6)  WR1  4.7\n",
      "4           Dalvin Cook MIN (7)  RB4  4.7 \n",
      "\n",
      "Final output:\n",
      "\n",
      "                 PLAYER POS  AVG\n",
      "0  Christian McCaffrey  RB  1.0\n",
      "1       Saquon Barkley  RB  2.0\n",
      "2      Ezekiel Elliott  RB  3.3\n",
      "3       Michael Thomas  WR  4.7\n",
      "4          Dalvin Cook  RB  4.7\n"
     ]
    }
   ],
   "source": [
    "df = make_adp_df()"
   ]
  },
  {
   "cell_type": "code",
   "execution_count": 5,
   "metadata": {
    "ExecuteTime": {
     "end_time": "2020-09-04T16:58:23.315139Z",
     "start_time": "2020-09-04T16:58:23.289246Z"
    }
   },
   "outputs": [
    {
     "data": {
      "text/html": [
       "<div>\n",
       "<style scoped>\n",
       "    .dataframe tbody tr th:only-of-type {\n",
       "        vertical-align: middle;\n",
       "    }\n",
       "\n",
       "    .dataframe tbody tr th {\n",
       "        vertical-align: top;\n",
       "    }\n",
       "\n",
       "    .dataframe thead th {\n",
       "        text-align: right;\n",
       "    }\n",
       "</style>\n",
       "<table border=\"1\" class=\"dataframe\">\n",
       "  <thead>\n",
       "    <tr style=\"text-align: right;\">\n",
       "      <th></th>\n",
       "      <th>PLAYER</th>\n",
       "      <th>POS</th>\n",
       "      <th>AVG</th>\n",
       "    </tr>\n",
       "  </thead>\n",
       "  <tbody>\n",
       "    <tr>\n",
       "      <th>0</th>\n",
       "      <td>Christian McCaffrey</td>\n",
       "      <td>RB</td>\n",
       "      <td>1.0</td>\n",
       "    </tr>\n",
       "    <tr>\n",
       "      <th>1</th>\n",
       "      <td>Saquon Barkley</td>\n",
       "      <td>RB</td>\n",
       "      <td>2.0</td>\n",
       "    </tr>\n",
       "    <tr>\n",
       "      <th>2</th>\n",
       "      <td>Ezekiel Elliott</td>\n",
       "      <td>RB</td>\n",
       "      <td>3.3</td>\n",
       "    </tr>\n",
       "    <tr>\n",
       "      <th>3</th>\n",
       "      <td>Michael Thomas</td>\n",
       "      <td>WR</td>\n",
       "      <td>4.7</td>\n",
       "    </tr>\n",
       "    <tr>\n",
       "      <th>4</th>\n",
       "      <td>Dalvin Cook</td>\n",
       "      <td>RB</td>\n",
       "      <td>4.7</td>\n",
       "    </tr>\n",
       "  </tbody>\n",
       "</table>\n",
       "</div>"
      ],
      "text/plain": [
       "                PLAYER POS  AVG\n",
       "0  Christian McCaffrey  RB  1.0\n",
       "1       Saquon Barkley  RB  2.0\n",
       "2      Ezekiel Elliott  RB  3.3\n",
       "3       Michael Thomas  WR  4.7\n",
       "4          Dalvin Cook  RB  4.7"
      ]
     },
     "execution_count": 5,
     "metadata": {},
     "output_type": "execute_result"
    }
   ],
   "source": [
    "df.head()"
   ]
  },
  {
   "cell_type": "code",
   "execution_count": 6,
   "metadata": {
    "ExecuteTime": {
     "end_time": "2020-09-04T16:58:23.329733Z",
     "start_time": "2020-09-04T16:58:23.319016Z"
    }
   },
   "outputs": [
    {
     "name": "stdout",
     "output_type": "stream",
     "text": [
      "<class 'pandas.core.frame.DataFrame'>\n",
      "Int64Index: 596 entries, 0 to 595\n",
      "Data columns (total 3 columns):\n",
      "PLAYER    596 non-null object\n",
      "POS       596 non-null object\n",
      "AVG       596 non-null float64\n",
      "dtypes: float64(1), object(2)\n",
      "memory usage: 18.6+ KB\n"
     ]
    }
   ],
   "source": [
    "df.info()"
   ]
  },
  {
   "cell_type": "code",
   "execution_count": 7,
   "metadata": {
    "ExecuteTime": {
     "end_time": "2020-09-04T16:58:23.337959Z",
     "start_time": "2020-09-04T16:58:23.332989Z"
    }
   },
   "outputs": [],
   "source": [
    "replacement_players = {\n",
    "    'RB':None,\n",
    "    'WR':None,\n",
    "    'TE':None,\n",
    "    'QB':None\n",
    "}"
   ]
  },
  {
   "cell_type": "code",
   "execution_count": 8,
   "metadata": {
    "ExecuteTime": {
     "end_time": "2020-09-04T16:58:23.354340Z",
     "start_time": "2020-09-04T16:58:23.348119Z"
    }
   },
   "outputs": [
    {
     "data": {
      "text/plain": [
       "{'RB': None, 'WR': None, 'TE': None, 'QB': None}"
      ]
     },
     "execution_count": 8,
     "metadata": {},
     "output_type": "execute_result"
    }
   ],
   "source": [
    "replacement_players"
   ]
  },
  {
   "cell_type": "code",
   "execution_count": 9,
   "metadata": {
    "ExecuteTime": {
     "end_time": "2020-09-04T16:58:23.386605Z",
     "start_time": "2020-09-04T16:58:23.365992Z"
    }
   },
   "outputs": [
    {
     "data": {
      "text/plain": [
       "{'RB': 'Kerryon Johnson',\n",
       " 'WR': 'Sterling Shepard',\n",
       " 'TE': 'Jared Cook',\n",
       " 'QB': 'Carson Wentz'}"
      ]
     },
     "execution_count": 9,
     "metadata": {},
     "output_type": "execute_result"
    }
   ],
   "source": [
    "# look at the top 100 picks in our df and get the last RB, WR, QB, and TE\n",
    "# and store them in our dict\n",
    "\n",
    "for _, row in df[:100].iterrows():\n",
    "    position = row['POS']\n",
    "    player = row['PLAYER']\n",
    "    replacement_players[position] = player\n",
    "    \n",
    "replacement_players"
   ]
  },
  {
   "cell_type": "markdown",
   "metadata": {},
   "source": [
    "Get projected player scores"
   ]
  },
  {
   "cell_type": "code",
   "execution_count": 10,
   "metadata": {
    "ExecuteTime": {
     "end_time": "2020-09-04T16:58:23.402779Z",
     "start_time": "2020-09-04T16:58:23.389838Z"
    }
   },
   "outputs": [],
   "source": [
    "BASE_URL = 'https://www.fantasypros.com/nfl/projections/{position}.php?week=draft'\n",
    "\n",
    "def make_projection_df():\n",
    "    \n",
    "    final_df = pd.DataFrame()\n",
    "    \n",
    "    for position in ['rb', 'qb', 'te', 'wr']:\n",
    "        \n",
    "        res = requests.get(BASE_URL.format(position=position))\n",
    "        if res.ok:\n",
    "            soup = BS(res.content, 'html.parser')\n",
    "            table = soup.find('table', {'id': 'data'})\n",
    "            df = pd.read_html(str(table))[0]\n",
    "            \n",
    "            df.columns = df.columns.droplevel(level=0)\n",
    "            df['PLAYER'] = df['Player'].apply(lambda x: ' '.join(x.split()[:-1]))\n",
    "            if 'REC' in df.columns:\n",
    "                df['FPTS'] = df['FPTS'] + df['REC']\n",
    "                \n",
    "            df['POS'] = position.upper()\n",
    "            \n",
    "            df = df[['PLAYER', 'POS', 'FPTS']]\n",
    "            final_df = pd.concat([final_df, df])\n",
    "            \n",
    "        else:\n",
    "            print(\"Didn't work, try again\")\n",
    "            return\n",
    "    \n",
    "    final_df = final_df.sort_values(by='FPTS', ascending=False)\n",
    "    \n",
    "    return final_df"
   ]
  },
  {
   "cell_type": "code",
   "execution_count": 11,
   "metadata": {
    "ExecuteTime": {
     "end_time": "2020-09-04T16:58:25.485747Z",
     "start_time": "2020-09-04T16:58:23.408724Z"
    }
   },
   "outputs": [
    {
     "data": {
      "text/html": [
       "<div>\n",
       "<style scoped>\n",
       "    .dataframe tbody tr th:only-of-type {\n",
       "        vertical-align: middle;\n",
       "    }\n",
       "\n",
       "    .dataframe tbody tr th {\n",
       "        vertical-align: top;\n",
       "    }\n",
       "\n",
       "    .dataframe thead th {\n",
       "        text-align: right;\n",
       "    }\n",
       "</style>\n",
       "<table border=\"1\" class=\"dataframe\">\n",
       "  <thead>\n",
       "    <tr style=\"text-align: right;\">\n",
       "      <th></th>\n",
       "      <th>PLAYER</th>\n",
       "      <th>POS</th>\n",
       "      <th>FPTS</th>\n",
       "    </tr>\n",
       "  </thead>\n",
       "  <tbody>\n",
       "    <tr>\n",
       "      <th>0</th>\n",
       "      <td>Christian McCaffrey</td>\n",
       "      <td>RB</td>\n",
       "      <td>375.0</td>\n",
       "    </tr>\n",
       "    <tr>\n",
       "      <th>0</th>\n",
       "      <td>Lamar Jackson</td>\n",
       "      <td>QB</td>\n",
       "      <td>361.1</td>\n",
       "    </tr>\n",
       "    <tr>\n",
       "      <th>1</th>\n",
       "      <td>Patrick Mahomes</td>\n",
       "      <td>QB</td>\n",
       "      <td>345.0</td>\n",
       "    </tr>\n",
       "    <tr>\n",
       "      <th>0</th>\n",
       "      <td>Michael Thomas</td>\n",
       "      <td>WR</td>\n",
       "      <td>333.1</td>\n",
       "    </tr>\n",
       "    <tr>\n",
       "      <th>2</th>\n",
       "      <td>Dak Prescott</td>\n",
       "      <td>QB</td>\n",
       "      <td>318.4</td>\n",
       "    </tr>\n",
       "  </tbody>\n",
       "</table>\n",
       "</div>"
      ],
      "text/plain": [
       "                PLAYER POS   FPTS\n",
       "0  Christian McCaffrey  RB  375.0\n",
       "0        Lamar Jackson  QB  361.1\n",
       "1      Patrick Mahomes  QB  345.0\n",
       "0       Michael Thomas  WR  333.1\n",
       "2         Dak Prescott  QB  318.4"
      ]
     },
     "execution_count": 11,
     "metadata": {},
     "output_type": "execute_result"
    }
   ],
   "source": [
    "df = make_projection_df()\n",
    "df.head()"
   ]
  },
  {
   "cell_type": "markdown",
   "metadata": {},
   "source": [
    "Calculate replacement values"
   ]
  },
  {
   "cell_type": "code",
   "execution_count": 12,
   "metadata": {
    "ExecuteTime": {
     "end_time": "2020-09-04T16:58:25.493391Z",
     "start_time": "2020-09-04T16:58:25.488335Z"
    }
   },
   "outputs": [
    {
     "data": {
      "text/plain": [
       "{'RB': None, 'WR': None, 'TE': None, 'QB': None}"
      ]
     },
     "execution_count": 12,
     "metadata": {},
     "output_type": "execute_result"
    }
   ],
   "source": [
    "replacement_values = {\n",
    "    'RB':None,\n",
    "    'WR':None,\n",
    "    'TE':None,\n",
    "    'QB':None\n",
    "}\n",
    "\n",
    "replacement_values"
   ]
  },
  {
   "cell_type": "code",
   "execution_count": 13,
   "metadata": {
    "ExecuteTime": {
     "end_time": "2020-09-04T16:58:25.520346Z",
     "start_time": "2020-09-04T16:58:25.499048Z"
    }
   },
   "outputs": [
    {
     "data": {
      "text/plain": [
       "{'RB': 149.6, 'WR': 183.8, 'TE': 146.2, 'QB': 274.5}"
      ]
     },
     "execution_count": 13,
     "metadata": {},
     "output_type": "execute_result"
    }
   ],
   "source": [
    "for position, player in replacement_players.items():\n",
    "    if position in ['QB','TE', 'WR', 'RB']:\n",
    "        replacement_values[position] = df.loc[df['PLAYER'] == player].values[0,-1]\n",
    "        \n",
    "replacement_values"
   ]
  },
  {
   "cell_type": "code",
   "execution_count": 14,
   "metadata": {
    "ExecuteTime": {
     "end_time": "2020-09-04T16:58:25.560541Z",
     "start_time": "2020-09-04T16:58:25.526650Z"
    }
   },
   "outputs": [
    {
     "data": {
      "text/html": [
       "<div>\n",
       "<style scoped>\n",
       "    .dataframe tbody tr th:only-of-type {\n",
       "        vertical-align: middle;\n",
       "    }\n",
       "\n",
       "    .dataframe tbody tr th {\n",
       "        vertical-align: top;\n",
       "    }\n",
       "\n",
       "    .dataframe thead th {\n",
       "        text-align: right;\n",
       "    }\n",
       "</style>\n",
       "<table border=\"1\" class=\"dataframe\">\n",
       "  <thead>\n",
       "    <tr style=\"text-align: right;\">\n",
       "      <th></th>\n",
       "      <th>PLAYER</th>\n",
       "      <th>POS</th>\n",
       "      <th>FPTS</th>\n",
       "      <th>VOR</th>\n",
       "    </tr>\n",
       "  </thead>\n",
       "  <tbody>\n",
       "    <tr>\n",
       "      <th>0</th>\n",
       "      <td>Christian McCaffrey</td>\n",
       "      <td>RB</td>\n",
       "      <td>375.0</td>\n",
       "      <td>225.4</td>\n",
       "    </tr>\n",
       "    <tr>\n",
       "      <th>0</th>\n",
       "      <td>Lamar Jackson</td>\n",
       "      <td>QB</td>\n",
       "      <td>361.1</td>\n",
       "      <td>86.6</td>\n",
       "    </tr>\n",
       "    <tr>\n",
       "      <th>1</th>\n",
       "      <td>Patrick Mahomes</td>\n",
       "      <td>QB</td>\n",
       "      <td>345.0</td>\n",
       "      <td>70.5</td>\n",
       "    </tr>\n",
       "    <tr>\n",
       "      <th>0</th>\n",
       "      <td>Michael Thomas</td>\n",
       "      <td>WR</td>\n",
       "      <td>333.1</td>\n",
       "      <td>149.3</td>\n",
       "    </tr>\n",
       "    <tr>\n",
       "      <th>2</th>\n",
       "      <td>Dak Prescott</td>\n",
       "      <td>QB</td>\n",
       "      <td>318.4</td>\n",
       "      <td>43.9</td>\n",
       "    </tr>\n",
       "  </tbody>\n",
       "</table>\n",
       "</div>"
      ],
      "text/plain": [
       "                PLAYER POS   FPTS    VOR\n",
       "0  Christian McCaffrey  RB  375.0  225.4\n",
       "0        Lamar Jackson  QB  361.1   86.6\n",
       "1      Patrick Mahomes  QB  345.0   70.5\n",
       "0       Michael Thomas  WR  333.1  149.3\n",
       "2         Dak Prescott  QB  318.4   43.9"
      ]
     },
     "execution_count": 14,
     "metadata": {},
     "output_type": "execute_result"
    }
   ],
   "source": [
    "df['VOR'] = df.apply(\n",
    "    lambda row: row['FPTS'] - replacement_values.get(row['POS']), \n",
    "    axis=1\n",
    ")\n",
    "df.head()"
   ]
  },
  {
   "cell_type": "code",
   "execution_count": 15,
   "metadata": {
    "ExecuteTime": {
     "end_time": "2020-09-04T16:58:25.593273Z",
     "start_time": "2020-09-04T16:58:25.563715Z"
    }
   },
   "outputs": [
    {
     "data": {
      "text/html": [
       "<div>\n",
       "<style scoped>\n",
       "    .dataframe tbody tr th:only-of-type {\n",
       "        vertical-align: middle;\n",
       "    }\n",
       "\n",
       "    .dataframe tbody tr th {\n",
       "        vertical-align: top;\n",
       "    }\n",
       "\n",
       "    .dataframe thead th {\n",
       "        text-align: right;\n",
       "    }\n",
       "</style>\n",
       "<table border=\"1\" class=\"dataframe\">\n",
       "  <thead>\n",
       "    <tr style=\"text-align: right;\">\n",
       "      <th></th>\n",
       "      <th>PLAYER</th>\n",
       "      <th>POS</th>\n",
       "      <th>FPTS</th>\n",
       "      <th>VOR</th>\n",
       "      <th>VALUERANK</th>\n",
       "    </tr>\n",
       "  </thead>\n",
       "  <tbody>\n",
       "    <tr>\n",
       "      <th>0</th>\n",
       "      <td>Christian McCaffrey</td>\n",
       "      <td>RB</td>\n",
       "      <td>375.0</td>\n",
       "      <td>225.4</td>\n",
       "      <td>1.0</td>\n",
       "    </tr>\n",
       "    <tr>\n",
       "      <th>1</th>\n",
       "      <td>Saquon Barkley</td>\n",
       "      <td>RB</td>\n",
       "      <td>310.8</td>\n",
       "      <td>161.2</td>\n",
       "      <td>2.0</td>\n",
       "    </tr>\n",
       "    <tr>\n",
       "      <th>2</th>\n",
       "      <td>Ezekiel Elliott</td>\n",
       "      <td>RB</td>\n",
       "      <td>299.6</td>\n",
       "      <td>150.0</td>\n",
       "      <td>3.0</td>\n",
       "    </tr>\n",
       "    <tr>\n",
       "      <th>0</th>\n",
       "      <td>Michael Thomas</td>\n",
       "      <td>WR</td>\n",
       "      <td>333.1</td>\n",
       "      <td>149.3</td>\n",
       "      <td>4.0</td>\n",
       "    </tr>\n",
       "    <tr>\n",
       "      <th>5</th>\n",
       "      <td>Alvin Kamara</td>\n",
       "      <td>RB</td>\n",
       "      <td>296.2</td>\n",
       "      <td>146.6</td>\n",
       "      <td>5.0</td>\n",
       "    </tr>\n",
       "    <tr>\n",
       "      <th>4</th>\n",
       "      <td>Dalvin Cook</td>\n",
       "      <td>RB</td>\n",
       "      <td>289.9</td>\n",
       "      <td>140.3</td>\n",
       "      <td>6.0</td>\n",
       "    </tr>\n",
       "    <tr>\n",
       "      <th>1</th>\n",
       "      <td>Davante Adams</td>\n",
       "      <td>WR</td>\n",
       "      <td>298.8</td>\n",
       "      <td>115.0</td>\n",
       "      <td>7.0</td>\n",
       "    </tr>\n",
       "    <tr>\n",
       "      <th>3</th>\n",
       "      <td>Derrick Henry</td>\n",
       "      <td>RB</td>\n",
       "      <td>261.4</td>\n",
       "      <td>111.8</td>\n",
       "      <td>8.0</td>\n",
       "    </tr>\n",
       "    <tr>\n",
       "      <th>0</th>\n",
       "      <td>Travis Kelce</td>\n",
       "      <td>TE</td>\n",
       "      <td>252.7</td>\n",
       "      <td>106.5</td>\n",
       "      <td>9.0</td>\n",
       "    </tr>\n",
       "    <tr>\n",
       "      <th>6</th>\n",
       "      <td>Clyde Edwards-Helaire</td>\n",
       "      <td>RB</td>\n",
       "      <td>254.1</td>\n",
       "      <td>104.5</td>\n",
       "      <td>10.0</td>\n",
       "    </tr>\n",
       "    <tr>\n",
       "      <th>13</th>\n",
       "      <td>Austin Ekeler</td>\n",
       "      <td>RB</td>\n",
       "      <td>252.6</td>\n",
       "      <td>103.0</td>\n",
       "      <td>11.0</td>\n",
       "    </tr>\n",
       "    <tr>\n",
       "      <th>2</th>\n",
       "      <td>Julio Jones</td>\n",
       "      <td>WR</td>\n",
       "      <td>286.4</td>\n",
       "      <td>102.6</td>\n",
       "      <td>12.0</td>\n",
       "    </tr>\n",
       "    <tr>\n",
       "      <th>9</th>\n",
       "      <td>Miles Sanders</td>\n",
       "      <td>RB</td>\n",
       "      <td>249.4</td>\n",
       "      <td>99.8</td>\n",
       "      <td>13.0</td>\n",
       "    </tr>\n",
       "    <tr>\n",
       "      <th>12</th>\n",
       "      <td>Kenyan Drake</td>\n",
       "      <td>RB</td>\n",
       "      <td>245.9</td>\n",
       "      <td>96.3</td>\n",
       "      <td>14.0</td>\n",
       "    </tr>\n",
       "    <tr>\n",
       "      <th>7</th>\n",
       "      <td>Joe Mixon</td>\n",
       "      <td>RB</td>\n",
       "      <td>241.3</td>\n",
       "      <td>91.7</td>\n",
       "      <td>15.0</td>\n",
       "    </tr>\n",
       "    <tr>\n",
       "      <th>10</th>\n",
       "      <td>Aaron Jones</td>\n",
       "      <td>RB</td>\n",
       "      <td>239.8</td>\n",
       "      <td>90.2</td>\n",
       "      <td>16.0</td>\n",
       "    </tr>\n",
       "    <tr>\n",
       "      <th>1</th>\n",
       "      <td>George Kittle</td>\n",
       "      <td>TE</td>\n",
       "      <td>235.2</td>\n",
       "      <td>89.0</td>\n",
       "      <td>17.0</td>\n",
       "    </tr>\n",
       "    <tr>\n",
       "      <th>0</th>\n",
       "      <td>Lamar Jackson</td>\n",
       "      <td>QB</td>\n",
       "      <td>361.1</td>\n",
       "      <td>86.6</td>\n",
       "      <td>18.0</td>\n",
       "    </tr>\n",
       "    <tr>\n",
       "      <th>5</th>\n",
       "      <td>DeAndre Hopkins</td>\n",
       "      <td>WR</td>\n",
       "      <td>261.2</td>\n",
       "      <td>77.4</td>\n",
       "      <td>19.0</td>\n",
       "    </tr>\n",
       "    <tr>\n",
       "      <th>8</th>\n",
       "      <td>Nick Chubb</td>\n",
       "      <td>RB</td>\n",
       "      <td>224.8</td>\n",
       "      <td>75.2</td>\n",
       "      <td>20.0</td>\n",
       "    </tr>\n",
       "    <tr>\n",
       "      <th>3</th>\n",
       "      <td>Tyreek Hill</td>\n",
       "      <td>WR</td>\n",
       "      <td>259.0</td>\n",
       "      <td>75.2</td>\n",
       "      <td>21.0</td>\n",
       "    </tr>\n",
       "    <tr>\n",
       "      <th>11</th>\n",
       "      <td>Josh Jacobs</td>\n",
       "      <td>RB</td>\n",
       "      <td>222.6</td>\n",
       "      <td>73.0</td>\n",
       "      <td>22.0</td>\n",
       "    </tr>\n",
       "    <tr>\n",
       "      <th>1</th>\n",
       "      <td>Patrick Mahomes</td>\n",
       "      <td>QB</td>\n",
       "      <td>345.0</td>\n",
       "      <td>70.5</td>\n",
       "      <td>23.0</td>\n",
       "    </tr>\n",
       "    <tr>\n",
       "      <th>16</th>\n",
       "      <td>James Conner</td>\n",
       "      <td>RB</td>\n",
       "      <td>216.9</td>\n",
       "      <td>67.3</td>\n",
       "      <td>24.0</td>\n",
       "    </tr>\n",
       "    <tr>\n",
       "      <th>15</th>\n",
       "      <td>Todd Gurley</td>\n",
       "      <td>RB</td>\n",
       "      <td>216.5</td>\n",
       "      <td>66.9</td>\n",
       "      <td>25.0</td>\n",
       "    </tr>\n",
       "    <tr>\n",
       "      <th>4</th>\n",
       "      <td>Chris Godwin</td>\n",
       "      <td>WR</td>\n",
       "      <td>249.8</td>\n",
       "      <td>66.0</td>\n",
       "      <td>26.0</td>\n",
       "    </tr>\n",
       "    <tr>\n",
       "      <th>2</th>\n",
       "      <td>Zach Ertz</td>\n",
       "      <td>TE</td>\n",
       "      <td>211.1</td>\n",
       "      <td>64.9</td>\n",
       "      <td>27.0</td>\n",
       "    </tr>\n",
       "    <tr>\n",
       "      <th>19</th>\n",
       "      <td>Le'Veon Bell</td>\n",
       "      <td>RB</td>\n",
       "      <td>212.4</td>\n",
       "      <td>62.8</td>\n",
       "      <td>28.0</td>\n",
       "    </tr>\n",
       "    <tr>\n",
       "      <th>14</th>\n",
       "      <td>Chris Carson</td>\n",
       "      <td>RB</td>\n",
       "      <td>212.2</td>\n",
       "      <td>62.6</td>\n",
       "      <td>29.0</td>\n",
       "    </tr>\n",
       "    <tr>\n",
       "      <th>17</th>\n",
       "      <td>David Johnson</td>\n",
       "      <td>RB</td>\n",
       "      <td>211.5</td>\n",
       "      <td>61.9</td>\n",
       "      <td>30.0</td>\n",
       "    </tr>\n",
       "    <tr>\n",
       "      <th>9</th>\n",
       "      <td>Robert Woods</td>\n",
       "      <td>WR</td>\n",
       "      <td>241.5</td>\n",
       "      <td>57.7</td>\n",
       "      <td>31.0</td>\n",
       "    </tr>\n",
       "    <tr>\n",
       "      <th>8</th>\n",
       "      <td>D.J. Moore</td>\n",
       "      <td>WR</td>\n",
       "      <td>241.3</td>\n",
       "      <td>57.5</td>\n",
       "      <td>32.0</td>\n",
       "    </tr>\n",
       "    <tr>\n",
       "      <th>18</th>\n",
       "      <td>Melvin Gordon</td>\n",
       "      <td>RB</td>\n",
       "      <td>206.8</td>\n",
       "      <td>57.2</td>\n",
       "      <td>33.0</td>\n",
       "    </tr>\n",
       "    <tr>\n",
       "      <th>6</th>\n",
       "      <td>Kenny Golladay</td>\n",
       "      <td>WR</td>\n",
       "      <td>236.9</td>\n",
       "      <td>53.1</td>\n",
       "      <td>34.0</td>\n",
       "    </tr>\n",
       "    <tr>\n",
       "      <th>14</th>\n",
       "      <td>Cooper Kupp</td>\n",
       "      <td>WR</td>\n",
       "      <td>236.8</td>\n",
       "      <td>53.0</td>\n",
       "      <td>35.0</td>\n",
       "    </tr>\n",
       "    <tr>\n",
       "      <th>15</th>\n",
       "      <td>Allen Robinson</td>\n",
       "      <td>WR</td>\n",
       "      <td>234.7</td>\n",
       "      <td>50.9</td>\n",
       "      <td>36.0</td>\n",
       "    </tr>\n",
       "    <tr>\n",
       "      <th>7</th>\n",
       "      <td>Mike Evans</td>\n",
       "      <td>WR</td>\n",
       "      <td>234.1</td>\n",
       "      <td>50.3</td>\n",
       "      <td>37.0</td>\n",
       "    </tr>\n",
       "    <tr>\n",
       "      <th>10</th>\n",
       "      <td>Amari Cooper</td>\n",
       "      <td>WR</td>\n",
       "      <td>230.8</td>\n",
       "      <td>47.0</td>\n",
       "      <td>38.0</td>\n",
       "    </tr>\n",
       "    <tr>\n",
       "      <th>13</th>\n",
       "      <td>Calvin Ridley</td>\n",
       "      <td>WR</td>\n",
       "      <td>230.8</td>\n",
       "      <td>47.0</td>\n",
       "      <td>39.0</td>\n",
       "    </tr>\n",
       "    <tr>\n",
       "      <th>12</th>\n",
       "      <td>Adam Thielen</td>\n",
       "      <td>WR</td>\n",
       "      <td>229.9</td>\n",
       "      <td>46.1</td>\n",
       "      <td>40.0</td>\n",
       "    </tr>\n",
       "    <tr>\n",
       "      <th>19</th>\n",
       "      <td>Keenan Allen</td>\n",
       "      <td>WR</td>\n",
       "      <td>228.4</td>\n",
       "      <td>44.6</td>\n",
       "      <td>41.0</td>\n",
       "    </tr>\n",
       "    <tr>\n",
       "      <th>2</th>\n",
       "      <td>Dak Prescott</td>\n",
       "      <td>QB</td>\n",
       "      <td>318.4</td>\n",
       "      <td>43.9</td>\n",
       "      <td>42.0</td>\n",
       "    </tr>\n",
       "    <tr>\n",
       "      <th>4</th>\n",
       "      <td>Darren Waller</td>\n",
       "      <td>TE</td>\n",
       "      <td>189.8</td>\n",
       "      <td>43.6</td>\n",
       "      <td>43.0</td>\n",
       "    </tr>\n",
       "    <tr>\n",
       "      <th>20</th>\n",
       "      <td>JuJu Smith-Schuster</td>\n",
       "      <td>WR</td>\n",
       "      <td>226.4</td>\n",
       "      <td>42.6</td>\n",
       "      <td>44.0</td>\n",
       "    </tr>\n",
       "    <tr>\n",
       "      <th>3</th>\n",
       "      <td>Mark Andrews</td>\n",
       "      <td>TE</td>\n",
       "      <td>187.8</td>\n",
       "      <td>41.6</td>\n",
       "      <td>45.0</td>\n",
       "    </tr>\n",
       "    <tr>\n",
       "      <th>3</th>\n",
       "      <td>Deshaun Watson</td>\n",
       "      <td>QB</td>\n",
       "      <td>312.6</td>\n",
       "      <td>38.1</td>\n",
       "      <td>46.0</td>\n",
       "    </tr>\n",
       "    <tr>\n",
       "      <th>16</th>\n",
       "      <td>Odell Beckham Jr.</td>\n",
       "      <td>WR</td>\n",
       "      <td>221.8</td>\n",
       "      <td>38.0</td>\n",
       "      <td>47.0</td>\n",
       "    </tr>\n",
       "    <tr>\n",
       "      <th>4</th>\n",
       "      <td>Russell Wilson</td>\n",
       "      <td>QB</td>\n",
       "      <td>308.4</td>\n",
       "      <td>33.9</td>\n",
       "      <td>48.0</td>\n",
       "    </tr>\n",
       "    <tr>\n",
       "      <th>18</th>\n",
       "      <td>DeVante Parker</td>\n",
       "      <td>WR</td>\n",
       "      <td>216.9</td>\n",
       "      <td>33.1</td>\n",
       "      <td>49.0</td>\n",
       "    </tr>\n",
       "    <tr>\n",
       "      <th>11</th>\n",
       "      <td>A.J. Brown</td>\n",
       "      <td>WR</td>\n",
       "      <td>216.3</td>\n",
       "      <td>32.5</td>\n",
       "      <td>50.0</td>\n",
       "    </tr>\n",
       "  </tbody>\n",
       "</table>\n",
       "</div>"
      ],
      "text/plain": [
       "                   PLAYER POS   FPTS    VOR  VALUERANK\n",
       "0     Christian McCaffrey  RB  375.0  225.4        1.0\n",
       "1          Saquon Barkley  RB  310.8  161.2        2.0\n",
       "2         Ezekiel Elliott  RB  299.6  150.0        3.0\n",
       "0          Michael Thomas  WR  333.1  149.3        4.0\n",
       "5            Alvin Kamara  RB  296.2  146.6        5.0\n",
       "4             Dalvin Cook  RB  289.9  140.3        6.0\n",
       "1           Davante Adams  WR  298.8  115.0        7.0\n",
       "3           Derrick Henry  RB  261.4  111.8        8.0\n",
       "0            Travis Kelce  TE  252.7  106.5        9.0\n",
       "6   Clyde Edwards-Helaire  RB  254.1  104.5       10.0\n",
       "13          Austin Ekeler  RB  252.6  103.0       11.0\n",
       "2             Julio Jones  WR  286.4  102.6       12.0\n",
       "9           Miles Sanders  RB  249.4   99.8       13.0\n",
       "12           Kenyan Drake  RB  245.9   96.3       14.0\n",
       "7               Joe Mixon  RB  241.3   91.7       15.0\n",
       "10            Aaron Jones  RB  239.8   90.2       16.0\n",
       "1           George Kittle  TE  235.2   89.0       17.0\n",
       "0           Lamar Jackson  QB  361.1   86.6       18.0\n",
       "5         DeAndre Hopkins  WR  261.2   77.4       19.0\n",
       "8              Nick Chubb  RB  224.8   75.2       20.0\n",
       "3             Tyreek Hill  WR  259.0   75.2       21.0\n",
       "11            Josh Jacobs  RB  222.6   73.0       22.0\n",
       "1         Patrick Mahomes  QB  345.0   70.5       23.0\n",
       "16           James Conner  RB  216.9   67.3       24.0\n",
       "15            Todd Gurley  RB  216.5   66.9       25.0\n",
       "4            Chris Godwin  WR  249.8   66.0       26.0\n",
       "2               Zach Ertz  TE  211.1   64.9       27.0\n",
       "19           Le'Veon Bell  RB  212.4   62.8       28.0\n",
       "14           Chris Carson  RB  212.2   62.6       29.0\n",
       "17          David Johnson  RB  211.5   61.9       30.0\n",
       "9            Robert Woods  WR  241.5   57.7       31.0\n",
       "8              D.J. Moore  WR  241.3   57.5       32.0\n",
       "18          Melvin Gordon  RB  206.8   57.2       33.0\n",
       "6          Kenny Golladay  WR  236.9   53.1       34.0\n",
       "14            Cooper Kupp  WR  236.8   53.0       35.0\n",
       "15         Allen Robinson  WR  234.7   50.9       36.0\n",
       "7              Mike Evans  WR  234.1   50.3       37.0\n",
       "10           Amari Cooper  WR  230.8   47.0       38.0\n",
       "13          Calvin Ridley  WR  230.8   47.0       39.0\n",
       "12           Adam Thielen  WR  229.9   46.1       40.0\n",
       "19           Keenan Allen  WR  228.4   44.6       41.0\n",
       "2            Dak Prescott  QB  318.4   43.9       42.0\n",
       "4           Darren Waller  TE  189.8   43.6       43.0\n",
       "20    JuJu Smith-Schuster  WR  226.4   42.6       44.0\n",
       "3            Mark Andrews  TE  187.8   41.6       45.0\n",
       "3          Deshaun Watson  QB  312.6   38.1       46.0\n",
       "16      Odell Beckham Jr.  WR  221.8   38.0       47.0\n",
       "4          Russell Wilson  QB  308.4   33.9       48.0\n",
       "18         DeVante Parker  WR  216.9   33.1       49.0\n",
       "11             A.J. Brown  WR  216.3   32.5       50.0"
      ]
     },
     "execution_count": 15,
     "metadata": {},
     "output_type": "execute_result"
    }
   ],
   "source": [
    "df = df.sort_values(by='VOR', ascending=False)\n",
    "df['VALUERANK'] = df['VOR'].rank(ascending=False)\n",
    "df.head(50)"
   ]
  },
  {
   "cell_type": "code",
   "execution_count": 16,
   "metadata": {
    "ExecuteTime": {
     "end_time": "2020-09-04T16:58:26.990764Z",
     "start_time": "2020-09-04T16:58:25.596293Z"
    }
   },
   "outputs": [],
   "source": [
    "import matplotlib.pyplot as plt\n",
    "import seaborn as sns\n",
    "%matplotlib inline"
   ]
  },
  {
   "cell_type": "code",
   "execution_count": 17,
   "metadata": {
    "ExecuteTime": {
     "end_time": "2020-09-04T16:58:27.200210Z",
     "start_time": "2020-09-04T16:58:26.993605Z"
    }
   },
   "outputs": [
    {
     "name": "stderr",
     "output_type": "stream",
     "text": [
      "/Users/rab/anaconda3/envs/learn-env/lib/python3.6/site-packages/scipy/stats/stats.py:1713: FutureWarning: Using a non-tuple sequence for multidimensional indexing is deprecated; use `arr[tuple(seq)]` instead of `arr[seq]`. In the future this will be interpreted as an array index, `arr[np.array(seq)]`, which will result either in an error or a different result.\n",
      "  return np.add.reduce(sorted[indexer] * weights, axis=axis) / sumval\n"
     ]
    },
    {
     "data": {
      "image/png": "[encoded data removed]",
      "text/plain": [
       "<Figure size 720x576 with 1 Axes>"
      ]
     },
     "metadata": {
      "needs_background": "light"
     },
     "output_type": "display_data"
    }
   ],
   "source": [
    "fig = plt.figure(figsize=(10,8))\n",
    "\n",
    "sns.lineplot(x='VALUERANK', y='VOR', data=df[df['POS'] == 'RB'])\n",
    "\n",
    "plt.show()"
   ]
  },
  {
   "cell_type": "code",
   "execution_count": 18,
   "metadata": {
    "ExecuteTime": {
     "end_time": "2020-09-04T16:58:27.210294Z",
     "start_time": "2020-09-04T16:58:27.203340Z"
    }
   },
   "outputs": [
    {
     "data": {
      "text/plain": [
       "['TE', 'WR', 'RB', 'QB']"
      ]
     },
     "execution_count": 18,
     "metadata": {},
     "output_type": "execute_result"
    }
   ],
   "source": [
    "positions = list(set(df.POS.values))\n",
    "positions"
   ]
  },
  {
   "cell_type": "code",
   "execution_count": 19,
   "metadata": {
    "ExecuteTime": {
     "end_time": "2020-09-04T16:58:28.031621Z",
     "start_time": "2020-09-04T16:58:27.212929Z"
    }
   },
   "outputs": [
    {
     "name": "stderr",
     "output_type": "stream",
     "text": [
      "/Users/rab/anaconda3/envs/learn-env/lib/python3.6/site-packages/scipy/stats/stats.py:1713: FutureWarning: Using a non-tuple sequence for multidimensional indexing is deprecated; use `arr[tuple(seq)]` instead of `arr[seq]`. In the future this will be interpreted as an array index, `arr[np.array(seq)]`, which will result either in an error or a different result.\n",
      "  return np.add.reduce(sorted[indexer] * weights, axis=axis) / sumval\n"
     ]
    },
    {
     "data": {
      "image/png": "[encoded data removed]",
      "text/plain": [
       "<Figure size 432x288 with 1 Axes>"
      ]
     },
     "metadata": {
      "needs_background": "light"
     },
     "output_type": "display_data"
    },
    {
     "data": {
      "image/png": "[encoded data removed]",
      "text/plain": [
       "<Figure size 432x288 with 1 Axes>"
      ]
     },
     "metadata": {
      "needs_background": "light"
     },
     "output_type": "display_data"
    },
    {
     "data": {
      "image/png": "[encoded data removed]",
      "text/plain": [
       "<Figure size 432x288 with 1 Axes>"
      ]
     },
     "metadata": {
      "needs_background": "light"
     },
     "output_type": "display_data"
    },
    {
     "data": {
      "image/png": "[encoded data removed]",
      "text/plain": [
       "<Figure size 432x288 with 1 Axes>"
      ]
     },
     "metadata": {
      "needs_background": "light"
     },
     "output_type": "display_data"
    }
   ],
   "source": [
    "for p in positions:\n",
    "    sns.lineplot(x='VALUERANK', y='VOR', data=df[df['POS'] == p])\n",
    "    plt.title(p)\n",
    "    plt.show()"
   ]
  },
  {
   "cell_type": "code",
   "execution_count": 20,
   "metadata": {
    "ExecuteTime": {
     "end_time": "2020-09-04T16:58:28.745945Z",
     "start_time": "2020-09-04T16:58:28.034192Z"
    }
   },
   "outputs": [
    {
     "name": "stdout",
     "output_type": "stream",
     "text": [
      "Output after reading the html:\n",
      "\n",
      "    Rank             Player Team (Bye)  POS  ESPN  MFL  RTSports  Fantrax  AVG\n",
      "0     1  Christian McCaffrey CAR (13)  RB1   1.0  NaN       1.0      1.0  1.0\n",
      "1     2       Saquon Barkley NYG (11)  RB2   2.0  NaN       2.0      2.0  2.0\n",
      "2     3      Ezekiel Elliott DAL (10)  RB3   3.0  NaN       3.0      4.0  3.3\n",
      "3     4         Michael Thomas NO (6)  WR1   6.0  NaN       5.0      3.0  4.7\n",
      "4     5           Dalvin Cook MIN (7)  RB4   4.0  NaN       4.0      6.0  4.7 \n",
      "\n",
      "Output after filtering:\n",
      "\n",
      "               Player Team (Bye)  POS  AVG\n",
      "0  Christian McCaffrey CAR (13)  RB1  1.0\n",
      "1       Saquon Barkley NYG (11)  RB2  2.0\n",
      "2      Ezekiel Elliott DAL (10)  RB3  3.3\n",
      "3         Michael Thomas NO (6)  WR1  4.7\n",
      "4           Dalvin Cook MIN (7)  RB4  4.7 \n",
      "\n",
      "Final output:\n",
      "\n",
      "                 PLAYER POS  AVG\n",
      "0  Christian McCaffrey  RB  1.0\n",
      "1       Saquon Barkley  RB  2.0\n",
      "2      Ezekiel Elliott  RB  3.3\n",
      "3       Michael Thomas  WR  4.7\n",
      "4          Dalvin Cook  RB  4.7\n"
     ]
    },
    {
     "data": {
      "text/html": [
       "<div>\n",
       "<style scoped>\n",
       "    .dataframe tbody tr th:only-of-type {\n",
       "        vertical-align: middle;\n",
       "    }\n",
       "\n",
       "    .dataframe tbody tr th {\n",
       "        vertical-align: top;\n",
       "    }\n",
       "\n",
       "    .dataframe thead th {\n",
       "        text-align: right;\n",
       "    }\n",
       "</style>\n",
       "<table border=\"1\" class=\"dataframe\">\n",
       "  <thead>\n",
       "    <tr style=\"text-align: right;\">\n",
       "      <th></th>\n",
       "      <th>PLAYER</th>\n",
       "      <th>POS</th>\n",
       "      <th>AVG</th>\n",
       "    </tr>\n",
       "  </thead>\n",
       "  <tbody>\n",
       "    <tr>\n",
       "      <th>0</th>\n",
       "      <td>Christian McCaffrey</td>\n",
       "      <td>RB</td>\n",
       "      <td>1.0</td>\n",
       "    </tr>\n",
       "    <tr>\n",
       "      <th>1</th>\n",
       "      <td>Saquon Barkley</td>\n",
       "      <td>RB</td>\n",
       "      <td>2.0</td>\n",
       "    </tr>\n",
       "    <tr>\n",
       "      <th>2</th>\n",
       "      <td>Ezekiel Elliott</td>\n",
       "      <td>RB</td>\n",
       "      <td>3.3</td>\n",
       "    </tr>\n",
       "    <tr>\n",
       "      <th>3</th>\n",
       "      <td>Michael Thomas</td>\n",
       "      <td>WR</td>\n",
       "      <td>4.7</td>\n",
       "    </tr>\n",
       "    <tr>\n",
       "      <th>4</th>\n",
       "      <td>Dalvin Cook</td>\n",
       "      <td>RB</td>\n",
       "      <td>4.7</td>\n",
       "    </tr>\n",
       "  </tbody>\n",
       "</table>\n",
       "</div>"
      ],
      "text/plain": [
       "                PLAYER POS  AVG\n",
       "0  Christian McCaffrey  RB  1.0\n",
       "1       Saquon Barkley  RB  2.0\n",
       "2      Ezekiel Elliott  RB  3.3\n",
       "3       Michael Thomas  WR  4.7\n",
       "4          Dalvin Cook  RB  4.7"
      ]
     },
     "execution_count": 20,
     "metadata": {},
     "output_type": "execute_result"
    }
   ],
   "source": [
    "adp_df = make_adp_df()\n",
    "adp_df.head()"
   ]
  },
  {
   "cell_type": "code",
   "execution_count": 21,
   "metadata": {
    "ExecuteTime": {
     "end_time": "2020-09-04T16:58:28.767147Z",
     "start_time": "2020-09-04T16:58:28.748804Z"
    }
   },
   "outputs": [
    {
     "data": {
      "text/html": [
       "<div>\n",
       "<style scoped>\n",
       "    .dataframe tbody tr th:only-of-type {\n",
       "        vertical-align: middle;\n",
       "    }\n",
       "\n",
       "    .dataframe tbody tr th {\n",
       "        vertical-align: top;\n",
       "    }\n",
       "\n",
       "    .dataframe thead th {\n",
       "        text-align: right;\n",
       "    }\n",
       "</style>\n",
       "<table border=\"1\" class=\"dataframe\">\n",
       "  <thead>\n",
       "    <tr style=\"text-align: right;\">\n",
       "      <th></th>\n",
       "      <th>PLAYER</th>\n",
       "      <th>POS</th>\n",
       "      <th>AVG</th>\n",
       "      <th>ADPRANK</th>\n",
       "    </tr>\n",
       "  </thead>\n",
       "  <tbody>\n",
       "    <tr>\n",
       "      <th>0</th>\n",
       "      <td>Christian McCaffrey</td>\n",
       "      <td>RB</td>\n",
       "      <td>1.0</td>\n",
       "      <td>1.0</td>\n",
       "    </tr>\n",
       "    <tr>\n",
       "      <th>1</th>\n",
       "      <td>Saquon Barkley</td>\n",
       "      <td>RB</td>\n",
       "      <td>2.0</td>\n",
       "      <td>2.0</td>\n",
       "    </tr>\n",
       "    <tr>\n",
       "      <th>2</th>\n",
       "      <td>Ezekiel Elliott</td>\n",
       "      <td>RB</td>\n",
       "      <td>3.3</td>\n",
       "      <td>3.0</td>\n",
       "    </tr>\n",
       "    <tr>\n",
       "      <th>3</th>\n",
       "      <td>Michael Thomas</td>\n",
       "      <td>WR</td>\n",
       "      <td>4.7</td>\n",
       "      <td>4.0</td>\n",
       "    </tr>\n",
       "    <tr>\n",
       "      <th>4</th>\n",
       "      <td>Dalvin Cook</td>\n",
       "      <td>RB</td>\n",
       "      <td>4.7</td>\n",
       "      <td>5.0</td>\n",
       "    </tr>\n",
       "  </tbody>\n",
       "</table>\n",
       "</div>"
      ],
      "text/plain": [
       "                PLAYER POS  AVG  ADPRANK\n",
       "0  Christian McCaffrey  RB  1.0      1.0\n",
       "1       Saquon Barkley  RB  2.0      2.0\n",
       "2      Ezekiel Elliott  RB  3.3      3.0\n",
       "3       Michael Thomas  WR  4.7      4.0\n",
       "4          Dalvin Cook  RB  4.7      5.0"
      ]
     },
     "execution_count": 21,
     "metadata": {},
     "output_type": "execute_result"
    }
   ],
   "source": [
    "adp_df['ADPRANK'] = adp_df['AVG'].rank(method='first')\n",
    "\n",
    "adp_df.head()"
   ]
  },
  {
   "cell_type": "markdown",
   "metadata": {},
   "source": [
    "Merge dataframes"
   ]
  },
  {
   "cell_type": "code",
   "execution_count": 22,
   "metadata": {
    "ExecuteTime": {
     "end_time": "2020-09-04T16:58:28.794475Z",
     "start_time": "2020-09-04T16:58:28.775257Z"
    }
   },
   "outputs": [
    {
     "data": {
      "text/html": [
       "<div>\n",
       "<style scoped>\n",
       "    .dataframe tbody tr th:only-of-type {\n",
       "        vertical-align: middle;\n",
       "    }\n",
       "\n",
       "    .dataframe tbody tr th {\n",
       "        vertical-align: top;\n",
       "    }\n",
       "\n",
       "    .dataframe thead th {\n",
       "        text-align: right;\n",
       "    }\n",
       "</style>\n",
       "<table border=\"1\" class=\"dataframe\">\n",
       "  <thead>\n",
       "    <tr style=\"text-align: right;\">\n",
       "      <th></th>\n",
       "      <th>PLAYER</th>\n",
       "      <th>POS</th>\n",
       "      <th>FPTS</th>\n",
       "      <th>VOR</th>\n",
       "      <th>VALUERANK</th>\n",
       "      <th>AVG</th>\n",
       "      <th>ADPRANK</th>\n",
       "    </tr>\n",
       "  </thead>\n",
       "  <tbody>\n",
       "    <tr>\n",
       "      <th>0</th>\n",
       "      <td>Christian McCaffrey</td>\n",
       "      <td>RB</td>\n",
       "      <td>375.0</td>\n",
       "      <td>225.4</td>\n",
       "      <td>1.0</td>\n",
       "      <td>1.0</td>\n",
       "      <td>1.0</td>\n",
       "    </tr>\n",
       "    <tr>\n",
       "      <th>1</th>\n",
       "      <td>Saquon Barkley</td>\n",
       "      <td>RB</td>\n",
       "      <td>310.8</td>\n",
       "      <td>161.2</td>\n",
       "      <td>2.0</td>\n",
       "      <td>2.0</td>\n",
       "      <td>2.0</td>\n",
       "    </tr>\n",
       "    <tr>\n",
       "      <th>2</th>\n",
       "      <td>Ezekiel Elliott</td>\n",
       "      <td>RB</td>\n",
       "      <td>299.6</td>\n",
       "      <td>150.0</td>\n",
       "      <td>3.0</td>\n",
       "      <td>3.3</td>\n",
       "      <td>3.0</td>\n",
       "    </tr>\n",
       "    <tr>\n",
       "      <th>3</th>\n",
       "      <td>Michael Thomas</td>\n",
       "      <td>WR</td>\n",
       "      <td>333.1</td>\n",
       "      <td>149.3</td>\n",
       "      <td>4.0</td>\n",
       "      <td>4.7</td>\n",
       "      <td>4.0</td>\n",
       "    </tr>\n",
       "    <tr>\n",
       "      <th>4</th>\n",
       "      <td>Alvin Kamara</td>\n",
       "      <td>RB</td>\n",
       "      <td>296.2</td>\n",
       "      <td>146.6</td>\n",
       "      <td>5.0</td>\n",
       "      <td>5.3</td>\n",
       "      <td>6.0</td>\n",
       "    </tr>\n",
       "  </tbody>\n",
       "</table>\n",
       "</div>"
      ],
      "text/plain": [
       "                PLAYER POS   FPTS    VOR  VALUERANK  AVG  ADPRANK\n",
       "0  Christian McCaffrey  RB  375.0  225.4        1.0  1.0      1.0\n",
       "1       Saquon Barkley  RB  310.8  161.2        2.0  2.0      2.0\n",
       "2      Ezekiel Elliott  RB  299.6  150.0        3.0  3.3      3.0\n",
       "3       Michael Thomas  WR  333.1  149.3        4.0  4.7      4.0\n",
       "4         Alvin Kamara  RB  296.2  146.6        5.0  5.3      6.0"
      ]
     },
     "execution_count": 22,
     "metadata": {},
     "output_type": "execute_result"
    }
   ],
   "source": [
    "df = df.merge(adp_df, how='left', on=['PLAYER', 'POS'])\n",
    "\n",
    "df.head()"
   ]
  },
  {
   "cell_type": "code",
   "execution_count": 23,
   "metadata": {
    "ExecuteTime": {
     "end_time": "2020-09-04T16:58:28.831766Z",
     "start_time": "2020-09-04T16:58:28.801420Z"
    }
   },
   "outputs": [
    {
     "data": {
      "text/html": [
       "<div>\n",
       "<style scoped>\n",
       "    .dataframe tbody tr th:only-of-type {\n",
       "        vertical-align: middle;\n",
       "    }\n",
       "\n",
       "    .dataframe tbody tr th {\n",
       "        vertical-align: top;\n",
       "    }\n",
       "\n",
       "    .dataframe thead th {\n",
       "        text-align: right;\n",
       "    }\n",
       "</style>\n",
       "<table border=\"1\" class=\"dataframe\">\n",
       "  <thead>\n",
       "    <tr style=\"text-align: right;\">\n",
       "      <th></th>\n",
       "      <th>PLAYER</th>\n",
       "      <th>POS</th>\n",
       "      <th>FPTS</th>\n",
       "      <th>VOR</th>\n",
       "      <th>VALUERANK</th>\n",
       "      <th>AVG</th>\n",
       "      <th>ADPRANK</th>\n",
       "    </tr>\n",
       "  </thead>\n",
       "  <tbody>\n",
       "    <tr>\n",
       "      <th>0</th>\n",
       "      <td>Christian McCaffrey</td>\n",
       "      <td>RB</td>\n",
       "      <td>375.0</td>\n",
       "      <td>225.4</td>\n",
       "      <td>1.0</td>\n",
       "      <td>1.0</td>\n",
       "      <td>1.0</td>\n",
       "    </tr>\n",
       "    <tr>\n",
       "      <th>1</th>\n",
       "      <td>Saquon Barkley</td>\n",
       "      <td>RB</td>\n",
       "      <td>310.8</td>\n",
       "      <td>161.2</td>\n",
       "      <td>2.0</td>\n",
       "      <td>2.0</td>\n",
       "      <td>2.0</td>\n",
       "    </tr>\n",
       "    <tr>\n",
       "      <th>2</th>\n",
       "      <td>Ezekiel Elliott</td>\n",
       "      <td>RB</td>\n",
       "      <td>299.6</td>\n",
       "      <td>150.0</td>\n",
       "      <td>3.0</td>\n",
       "      <td>3.3</td>\n",
       "      <td>3.0</td>\n",
       "    </tr>\n",
       "    <tr>\n",
       "      <th>3</th>\n",
       "      <td>Michael Thomas</td>\n",
       "      <td>WR</td>\n",
       "      <td>333.1</td>\n",
       "      <td>149.3</td>\n",
       "      <td>4.0</td>\n",
       "      <td>4.7</td>\n",
       "      <td>4.0</td>\n",
       "    </tr>\n",
       "    <tr>\n",
       "      <th>4</th>\n",
       "      <td>Alvin Kamara</td>\n",
       "      <td>RB</td>\n",
       "      <td>296.2</td>\n",
       "      <td>146.6</td>\n",
       "      <td>5.0</td>\n",
       "      <td>5.3</td>\n",
       "      <td>6.0</td>\n",
       "    </tr>\n",
       "    <tr>\n",
       "      <th>5</th>\n",
       "      <td>Dalvin Cook</td>\n",
       "      <td>RB</td>\n",
       "      <td>289.9</td>\n",
       "      <td>140.3</td>\n",
       "      <td>6.0</td>\n",
       "      <td>4.7</td>\n",
       "      <td>5.0</td>\n",
       "    </tr>\n",
       "    <tr>\n",
       "      <th>6</th>\n",
       "      <td>Davante Adams</td>\n",
       "      <td>WR</td>\n",
       "      <td>298.8</td>\n",
       "      <td>115.0</td>\n",
       "      <td>7.0</td>\n",
       "      <td>11.3</td>\n",
       "      <td>8.0</td>\n",
       "    </tr>\n",
       "    <tr>\n",
       "      <th>7</th>\n",
       "      <td>Derrick Henry</td>\n",
       "      <td>RB</td>\n",
       "      <td>261.4</td>\n",
       "      <td>111.8</td>\n",
       "      <td>8.0</td>\n",
       "      <td>7.3</td>\n",
       "      <td>7.0</td>\n",
       "    </tr>\n",
       "    <tr>\n",
       "      <th>8</th>\n",
       "      <td>Travis Kelce</td>\n",
       "      <td>TE</td>\n",
       "      <td>252.7</td>\n",
       "      <td>106.5</td>\n",
       "      <td>9.0</td>\n",
       "      <td>18.0</td>\n",
       "      <td>20.0</td>\n",
       "    </tr>\n",
       "    <tr>\n",
       "      <th>9</th>\n",
       "      <td>Clyde Edwards-Helaire</td>\n",
       "      <td>RB</td>\n",
       "      <td>254.1</td>\n",
       "      <td>104.5</td>\n",
       "      <td>10.0</td>\n",
       "      <td>16.0</td>\n",
       "      <td>17.0</td>\n",
       "    </tr>\n",
       "    <tr>\n",
       "      <th>10</th>\n",
       "      <td>Austin Ekeler</td>\n",
       "      <td>RB</td>\n",
       "      <td>252.6</td>\n",
       "      <td>103.0</td>\n",
       "      <td>11.0</td>\n",
       "      <td>15.0</td>\n",
       "      <td>15.0</td>\n",
       "    </tr>\n",
       "    <tr>\n",
       "      <th>11</th>\n",
       "      <td>Julio Jones</td>\n",
       "      <td>WR</td>\n",
       "      <td>286.4</td>\n",
       "      <td>102.6</td>\n",
       "      <td>12.0</td>\n",
       "      <td>16.3</td>\n",
       "      <td>18.0</td>\n",
       "    </tr>\n",
       "    <tr>\n",
       "      <th>12</th>\n",
       "      <td>Miles Sanders</td>\n",
       "      <td>RB</td>\n",
       "      <td>249.4</td>\n",
       "      <td>99.8</td>\n",
       "      <td>13.0</td>\n",
       "      <td>13.3</td>\n",
       "      <td>10.0</td>\n",
       "    </tr>\n",
       "    <tr>\n",
       "      <th>13</th>\n",
       "      <td>Kenyan Drake</td>\n",
       "      <td>RB</td>\n",
       "      <td>245.9</td>\n",
       "      <td>96.3</td>\n",
       "      <td>14.0</td>\n",
       "      <td>15.7</td>\n",
       "      <td>16.0</td>\n",
       "    </tr>\n",
       "    <tr>\n",
       "      <th>14</th>\n",
       "      <td>Joe Mixon</td>\n",
       "      <td>RB</td>\n",
       "      <td>241.3</td>\n",
       "      <td>91.7</td>\n",
       "      <td>15.0</td>\n",
       "      <td>14.3</td>\n",
       "      <td>11.0</td>\n",
       "    </tr>\n",
       "    <tr>\n",
       "      <th>15</th>\n",
       "      <td>Aaron Jones</td>\n",
       "      <td>RB</td>\n",
       "      <td>239.8</td>\n",
       "      <td>90.2</td>\n",
       "      <td>16.0</td>\n",
       "      <td>17.3</td>\n",
       "      <td>19.0</td>\n",
       "    </tr>\n",
       "    <tr>\n",
       "      <th>16</th>\n",
       "      <td>George Kittle</td>\n",
       "      <td>TE</td>\n",
       "      <td>235.2</td>\n",
       "      <td>89.0</td>\n",
       "      <td>17.0</td>\n",
       "      <td>22.3</td>\n",
       "      <td>24.0</td>\n",
       "    </tr>\n",
       "    <tr>\n",
       "      <th>17</th>\n",
       "      <td>Lamar Jackson</td>\n",
       "      <td>QB</td>\n",
       "      <td>361.1</td>\n",
       "      <td>86.6</td>\n",
       "      <td>18.0</td>\n",
       "      <td>20.7</td>\n",
       "      <td>23.0</td>\n",
       "    </tr>\n",
       "    <tr>\n",
       "      <th>18</th>\n",
       "      <td>DeAndre Hopkins</td>\n",
       "      <td>WR</td>\n",
       "      <td>261.2</td>\n",
       "      <td>77.4</td>\n",
       "      <td>19.0</td>\n",
       "      <td>12.0</td>\n",
       "      <td>9.0</td>\n",
       "    </tr>\n",
       "    <tr>\n",
       "      <th>19</th>\n",
       "      <td>Nick Chubb</td>\n",
       "      <td>RB</td>\n",
       "      <td>224.8</td>\n",
       "      <td>75.2</td>\n",
       "      <td>20.0</td>\n",
       "      <td>14.3</td>\n",
       "      <td>12.0</td>\n",
       "    </tr>\n",
       "    <tr>\n",
       "      <th>20</th>\n",
       "      <td>Tyreek Hill</td>\n",
       "      <td>WR</td>\n",
       "      <td>259.0</td>\n",
       "      <td>75.2</td>\n",
       "      <td>21.0</td>\n",
       "      <td>15.0</td>\n",
       "      <td>14.0</td>\n",
       "    </tr>\n",
       "    <tr>\n",
       "      <th>21</th>\n",
       "      <td>Josh Jacobs</td>\n",
       "      <td>RB</td>\n",
       "      <td>222.6</td>\n",
       "      <td>73.0</td>\n",
       "      <td>22.0</td>\n",
       "      <td>14.3</td>\n",
       "      <td>13.0</td>\n",
       "    </tr>\n",
       "    <tr>\n",
       "      <th>22</th>\n",
       "      <td>Patrick Mahomes</td>\n",
       "      <td>QB</td>\n",
       "      <td>345.0</td>\n",
       "      <td>70.5</td>\n",
       "      <td>23.0</td>\n",
       "      <td>20.7</td>\n",
       "      <td>22.0</td>\n",
       "    </tr>\n",
       "    <tr>\n",
       "      <th>23</th>\n",
       "      <td>James Conner</td>\n",
       "      <td>RB</td>\n",
       "      <td>216.9</td>\n",
       "      <td>67.3</td>\n",
       "      <td>24.0</td>\n",
       "      <td>41.7</td>\n",
       "      <td>41.0</td>\n",
       "    </tr>\n",
       "    <tr>\n",
       "      <th>24</th>\n",
       "      <td>Todd Gurley</td>\n",
       "      <td>RB</td>\n",
       "      <td>216.5</td>\n",
       "      <td>66.9</td>\n",
       "      <td>25.0</td>\n",
       "      <td>30.7</td>\n",
       "      <td>29.0</td>\n",
       "    </tr>\n",
       "    <tr>\n",
       "      <th>25</th>\n",
       "      <td>Chris Godwin</td>\n",
       "      <td>WR</td>\n",
       "      <td>249.8</td>\n",
       "      <td>66.0</td>\n",
       "      <td>26.0</td>\n",
       "      <td>19.7</td>\n",
       "      <td>21.0</td>\n",
       "    </tr>\n",
       "    <tr>\n",
       "      <th>26</th>\n",
       "      <td>Zach Ertz</td>\n",
       "      <td>TE</td>\n",
       "      <td>211.1</td>\n",
       "      <td>64.9</td>\n",
       "      <td>27.0</td>\n",
       "      <td>37.7</td>\n",
       "      <td>36.0</td>\n",
       "    </tr>\n",
       "    <tr>\n",
       "      <th>27</th>\n",
       "      <td>Le'Veon Bell</td>\n",
       "      <td>RB</td>\n",
       "      <td>212.4</td>\n",
       "      <td>62.8</td>\n",
       "      <td>28.0</td>\n",
       "      <td>37.0</td>\n",
       "      <td>35.0</td>\n",
       "    </tr>\n",
       "    <tr>\n",
       "      <th>28</th>\n",
       "      <td>Chris Carson</td>\n",
       "      <td>RB</td>\n",
       "      <td>212.2</td>\n",
       "      <td>62.6</td>\n",
       "      <td>29.0</td>\n",
       "      <td>32.3</td>\n",
       "      <td>31.0</td>\n",
       "    </tr>\n",
       "    <tr>\n",
       "      <th>29</th>\n",
       "      <td>David Johnson</td>\n",
       "      <td>RB</td>\n",
       "      <td>211.5</td>\n",
       "      <td>61.9</td>\n",
       "      <td>30.0</td>\n",
       "      <td>38.7</td>\n",
       "      <td>38.0</td>\n",
       "    </tr>\n",
       "    <tr>\n",
       "      <th>...</th>\n",
       "      <td>...</td>\n",
       "      <td>...</td>\n",
       "      <td>...</td>\n",
       "      <td>...</td>\n",
       "      <td>...</td>\n",
       "      <td>...</td>\n",
       "      <td>...</td>\n",
       "    </tr>\n",
       "    <tr>\n",
       "      <th>70</th>\n",
       "      <td>Hunter Henry</td>\n",
       "      <td>TE</td>\n",
       "      <td>161.9</td>\n",
       "      <td>15.7</td>\n",
       "      <td>71.0</td>\n",
       "      <td>84.7</td>\n",
       "      <td>80.0</td>\n",
       "    </tr>\n",
       "    <tr>\n",
       "      <th>71</th>\n",
       "      <td>Matt Ryan</td>\n",
       "      <td>QB</td>\n",
       "      <td>289.3</td>\n",
       "      <td>14.8</td>\n",
       "      <td>72.0</td>\n",
       "      <td>84.7</td>\n",
       "      <td>81.0</td>\n",
       "    </tr>\n",
       "    <tr>\n",
       "      <th>72</th>\n",
       "      <td>Michael Gallup</td>\n",
       "      <td>WR</td>\n",
       "      <td>198.4</td>\n",
       "      <td>14.6</td>\n",
       "      <td>73.0</td>\n",
       "      <td>75.0</td>\n",
       "      <td>74.0</td>\n",
       "    </tr>\n",
       "    <tr>\n",
       "      <th>73</th>\n",
       "      <td>Tyler Higbee</td>\n",
       "      <td>TE</td>\n",
       "      <td>160.7</td>\n",
       "      <td>14.5</td>\n",
       "      <td>74.0</td>\n",
       "      <td>81.3</td>\n",
       "      <td>77.0</td>\n",
       "    </tr>\n",
       "    <tr>\n",
       "      <th>74</th>\n",
       "      <td>Raheem Mostert</td>\n",
       "      <td>RB</td>\n",
       "      <td>160.3</td>\n",
       "      <td>10.7</td>\n",
       "      <td>75.0</td>\n",
       "      <td>60.3</td>\n",
       "      <td>64.0</td>\n",
       "    </tr>\n",
       "    <tr>\n",
       "      <th>75</th>\n",
       "      <td>Cam Akers</td>\n",
       "      <td>RB</td>\n",
       "      <td>159.4</td>\n",
       "      <td>9.8</td>\n",
       "      <td>76.0</td>\n",
       "      <td>61.7</td>\n",
       "      <td>66.0</td>\n",
       "    </tr>\n",
       "    <tr>\n",
       "      <th>76</th>\n",
       "      <td>Marquise Brown</td>\n",
       "      <td>WR</td>\n",
       "      <td>193.3</td>\n",
       "      <td>9.5</td>\n",
       "      <td>77.0</td>\n",
       "      <td>72.3</td>\n",
       "      <td>72.0</td>\n",
       "    </tr>\n",
       "    <tr>\n",
       "      <th>77</th>\n",
       "      <td>David Montgomery</td>\n",
       "      <td>RB</td>\n",
       "      <td>158.6</td>\n",
       "      <td>9.0</td>\n",
       "      <td>78.0</td>\n",
       "      <td>64.3</td>\n",
       "      <td>67.0</td>\n",
       "    </tr>\n",
       "    <tr>\n",
       "      <th>78</th>\n",
       "      <td>Jamison Crowder</td>\n",
       "      <td>WR</td>\n",
       "      <td>192.4</td>\n",
       "      <td>8.6</td>\n",
       "      <td>79.0</td>\n",
       "      <td>99.3</td>\n",
       "      <td>96.0</td>\n",
       "    </tr>\n",
       "    <tr>\n",
       "      <th>79</th>\n",
       "      <td>D'Andre Swift</td>\n",
       "      <td>RB</td>\n",
       "      <td>157.1</td>\n",
       "      <td>7.5</td>\n",
       "      <td>80.0</td>\n",
       "      <td>59.7</td>\n",
       "      <td>62.0</td>\n",
       "    </tr>\n",
       "    <tr>\n",
       "      <th>80</th>\n",
       "      <td>Drew Brees</td>\n",
       "      <td>QB</td>\n",
       "      <td>279.3</td>\n",
       "      <td>4.8</td>\n",
       "      <td>81.0</td>\n",
       "      <td>85.7</td>\n",
       "      <td>83.0</td>\n",
       "    </tr>\n",
       "    <tr>\n",
       "      <th>81</th>\n",
       "      <td>Marvin Jones</td>\n",
       "      <td>WR</td>\n",
       "      <td>187.1</td>\n",
       "      <td>3.3</td>\n",
       "      <td>82.0</td>\n",
       "      <td>86.3</td>\n",
       "      <td>84.0</td>\n",
       "    </tr>\n",
       "    <tr>\n",
       "      <th>82</th>\n",
       "      <td>Aaron Rodgers</td>\n",
       "      <td>QB</td>\n",
       "      <td>277.2</td>\n",
       "      <td>2.7</td>\n",
       "      <td>83.0</td>\n",
       "      <td>97.0</td>\n",
       "      <td>93.0</td>\n",
       "    </tr>\n",
       "    <tr>\n",
       "      <th>83</th>\n",
       "      <td>Hayden Hurst</td>\n",
       "      <td>TE</td>\n",
       "      <td>148.2</td>\n",
       "      <td>2.0</td>\n",
       "      <td>84.0</td>\n",
       "      <td>113.7</td>\n",
       "      <td>112.0</td>\n",
       "    </tr>\n",
       "    <tr>\n",
       "      <th>84</th>\n",
       "      <td>Tom Brady</td>\n",
       "      <td>QB</td>\n",
       "      <td>276.0</td>\n",
       "      <td>1.5</td>\n",
       "      <td>85.0</td>\n",
       "      <td>81.0</td>\n",
       "      <td>76.0</td>\n",
       "    </tr>\n",
       "    <tr>\n",
       "      <th>85</th>\n",
       "      <td>Diontae Johnson</td>\n",
       "      <td>WR</td>\n",
       "      <td>184.0</td>\n",
       "      <td>0.2</td>\n",
       "      <td>86.0</td>\n",
       "      <td>102.3</td>\n",
       "      <td>98.0</td>\n",
       "    </tr>\n",
       "    <tr>\n",
       "      <th>86</th>\n",
       "      <td>Jared Cook</td>\n",
       "      <td>TE</td>\n",
       "      <td>146.2</td>\n",
       "      <td>0.0</td>\n",
       "      <td>88.5</td>\n",
       "      <td>102.0</td>\n",
       "      <td>97.0</td>\n",
       "    </tr>\n",
       "    <tr>\n",
       "      <th>87</th>\n",
       "      <td>Sterling Shepard</td>\n",
       "      <td>WR</td>\n",
       "      <td>183.8</td>\n",
       "      <td>0.0</td>\n",
       "      <td>88.5</td>\n",
       "      <td>103.7</td>\n",
       "      <td>100.0</td>\n",
       "    </tr>\n",
       "    <tr>\n",
       "      <th>88</th>\n",
       "      <td>Kerryon Johnson</td>\n",
       "      <td>RB</td>\n",
       "      <td>149.6</td>\n",
       "      <td>0.0</td>\n",
       "      <td>88.5</td>\n",
       "      <td>99.0</td>\n",
       "      <td>95.0</td>\n",
       "    </tr>\n",
       "    <tr>\n",
       "      <th>89</th>\n",
       "      <td>Carson Wentz</td>\n",
       "      <td>QB</td>\n",
       "      <td>274.5</td>\n",
       "      <td>0.0</td>\n",
       "      <td>88.5</td>\n",
       "      <td>103.3</td>\n",
       "      <td>99.0</td>\n",
       "    </tr>\n",
       "    <tr>\n",
       "      <th>90</th>\n",
       "      <td>Mike Gesicki</td>\n",
       "      <td>TE</td>\n",
       "      <td>146.0</td>\n",
       "      <td>-0.2</td>\n",
       "      <td>91.0</td>\n",
       "      <td>130.0</td>\n",
       "      <td>126.0</td>\n",
       "    </tr>\n",
       "    <tr>\n",
       "      <th>91</th>\n",
       "      <td>Leonard Fournette</td>\n",
       "      <td>RB</td>\n",
       "      <td>147.9</td>\n",
       "      <td>-1.7</td>\n",
       "      <td>92.5</td>\n",
       "      <td>51.7</td>\n",
       "      <td>50.0</td>\n",
       "    </tr>\n",
       "    <tr>\n",
       "      <th>92</th>\n",
       "      <td>Austin Hooper</td>\n",
       "      <td>TE</td>\n",
       "      <td>144.5</td>\n",
       "      <td>-1.7</td>\n",
       "      <td>92.5</td>\n",
       "      <td>113.3</td>\n",
       "      <td>110.0</td>\n",
       "    </tr>\n",
       "    <tr>\n",
       "      <th>93</th>\n",
       "      <td>Christian Kirk</td>\n",
       "      <td>WR</td>\n",
       "      <td>181.9</td>\n",
       "      <td>-1.9</td>\n",
       "      <td>94.0</td>\n",
       "      <td>97.0</td>\n",
       "      <td>92.0</td>\n",
       "    </tr>\n",
       "    <tr>\n",
       "      <th>94</th>\n",
       "      <td>Noah Fant</td>\n",
       "      <td>TE</td>\n",
       "      <td>142.7</td>\n",
       "      <td>-3.5</td>\n",
       "      <td>95.0</td>\n",
       "      <td>112.0</td>\n",
       "      <td>108.0</td>\n",
       "    </tr>\n",
       "    <tr>\n",
       "      <th>95</th>\n",
       "      <td>Will Fuller</td>\n",
       "      <td>WR</td>\n",
       "      <td>179.6</td>\n",
       "      <td>-4.2</td>\n",
       "      <td>96.0</td>\n",
       "      <td>77.0</td>\n",
       "      <td>75.0</td>\n",
       "    </tr>\n",
       "    <tr>\n",
       "      <th>96</th>\n",
       "      <td>Ronald Jones II</td>\n",
       "      <td>RB</td>\n",
       "      <td>145.2</td>\n",
       "      <td>-4.4</td>\n",
       "      <td>97.0</td>\n",
       "      <td>83.0</td>\n",
       "      <td>79.0</td>\n",
       "    </tr>\n",
       "    <tr>\n",
       "      <th>97</th>\n",
       "      <td>Phillip Lindsay</td>\n",
       "      <td>RB</td>\n",
       "      <td>144.7</td>\n",
       "      <td>-4.9</td>\n",
       "      <td>98.0</td>\n",
       "      <td>88.7</td>\n",
       "      <td>88.0</td>\n",
       "    </tr>\n",
       "    <tr>\n",
       "      <th>98</th>\n",
       "      <td>Cam Newton</td>\n",
       "      <td>QB</td>\n",
       "      <td>269.3</td>\n",
       "      <td>-5.2</td>\n",
       "      <td>99.0</td>\n",
       "      <td>178.0</td>\n",
       "      <td>180.0</td>\n",
       "    </tr>\n",
       "    <tr>\n",
       "      <th>99</th>\n",
       "      <td>Rob Gronkowski</td>\n",
       "      <td>TE</td>\n",
       "      <td>139.4</td>\n",
       "      <td>-6.8</td>\n",
       "      <td>100.0</td>\n",
       "      <td>82.0</td>\n",
       "      <td>78.0</td>\n",
       "    </tr>\n",
       "  </tbody>\n",
       "</table>\n",
       "<p>100 rows × 7 columns</p>\n",
       "</div>"
      ],
      "text/plain": [
       "                   PLAYER POS   FPTS    VOR  VALUERANK    AVG  ADPRANK\n",
       "0     Christian McCaffrey  RB  375.0  225.4        1.0    1.0      1.0\n",
       "1          Saquon Barkley  RB  310.8  161.2        2.0    2.0      2.0\n",
       "2         Ezekiel Elliott  RB  299.6  150.0        3.0    3.3      3.0\n",
       "3          Michael Thomas  WR  333.1  149.3        4.0    4.7      4.0\n",
       "4            Alvin Kamara  RB  296.2  146.6        5.0    5.3      6.0\n",
       "5             Dalvin Cook  RB  289.9  140.3        6.0    4.7      5.0\n",
       "6           Davante Adams  WR  298.8  115.0        7.0   11.3      8.0\n",
       "7           Derrick Henry  RB  261.4  111.8        8.0    7.3      7.0\n",
       "8            Travis Kelce  TE  252.7  106.5        9.0   18.0     20.0\n",
       "9   Clyde Edwards-Helaire  RB  254.1  104.5       10.0   16.0     17.0\n",
       "10          Austin Ekeler  RB  252.6  103.0       11.0   15.0     15.0\n",
       "11            Julio Jones  WR  286.4  102.6       12.0   16.3     18.0\n",
       "12          Miles Sanders  RB  249.4   99.8       13.0   13.3     10.0\n",
       "13           Kenyan Drake  RB  245.9   96.3       14.0   15.7     16.0\n",
       "14              Joe Mixon  RB  241.3   91.7       15.0   14.3     11.0\n",
       "15            Aaron Jones  RB  239.8   90.2       16.0   17.3     19.0\n",
       "16          George Kittle  TE  235.2   89.0       17.0   22.3     24.0\n",
       "17          Lamar Jackson  QB  361.1   86.6       18.0   20.7     23.0\n",
       "18        DeAndre Hopkins  WR  261.2   77.4       19.0   12.0      9.0\n",
       "19             Nick Chubb  RB  224.8   75.2       20.0   14.3     12.0\n",
       "20            Tyreek Hill  WR  259.0   75.2       21.0   15.0     14.0\n",
       "21            Josh Jacobs  RB  222.6   73.0       22.0   14.3     13.0\n",
       "22        Patrick Mahomes  QB  345.0   70.5       23.0   20.7     22.0\n",
       "23           James Conner  RB  216.9   67.3       24.0   41.7     41.0\n",
       "24            Todd Gurley  RB  216.5   66.9       25.0   30.7     29.0\n",
       "25           Chris Godwin  WR  249.8   66.0       26.0   19.7     21.0\n",
       "26              Zach Ertz  TE  211.1   64.9       27.0   37.7     36.0\n",
       "27           Le'Veon Bell  RB  212.4   62.8       28.0   37.0     35.0\n",
       "28           Chris Carson  RB  212.2   62.6       29.0   32.3     31.0\n",
       "29          David Johnson  RB  211.5   61.9       30.0   38.7     38.0\n",
       "..                    ...  ..    ...    ...        ...    ...      ...\n",
       "70           Hunter Henry  TE  161.9   15.7       71.0   84.7     80.0\n",
       "71              Matt Ryan  QB  289.3   14.8       72.0   84.7     81.0\n",
       "72         Michael Gallup  WR  198.4   14.6       73.0   75.0     74.0\n",
       "73           Tyler Higbee  TE  160.7   14.5       74.0   81.3     77.0\n",
       "74         Raheem Mostert  RB  160.3   10.7       75.0   60.3     64.0\n",
       "75              Cam Akers  RB  159.4    9.8       76.0   61.7     66.0\n",
       "76         Marquise Brown  WR  193.3    9.5       77.0   72.3     72.0\n",
       "77       David Montgomery  RB  158.6    9.0       78.0   64.3     67.0\n",
       "78        Jamison Crowder  WR  192.4    8.6       79.0   99.3     96.0\n",
       "79          D'Andre Swift  RB  157.1    7.5       80.0   59.7     62.0\n",
       "80             Drew Brees  QB  279.3    4.8       81.0   85.7     83.0\n",
       "81           Marvin Jones  WR  187.1    3.3       82.0   86.3     84.0\n",
       "82          Aaron Rodgers  QB  277.2    2.7       83.0   97.0     93.0\n",
       "83           Hayden Hurst  TE  148.2    2.0       84.0  113.7    112.0\n",
       "84              Tom Brady  QB  276.0    1.5       85.0   81.0     76.0\n",
       "85        Diontae Johnson  WR  184.0    0.2       86.0  102.3     98.0\n",
       "86             Jared Cook  TE  146.2    0.0       88.5  102.0     97.0\n",
       "87       Sterling Shepard  WR  183.8    0.0       88.5  103.7    100.0\n",
       "88        Kerryon Johnson  RB  149.6    0.0       88.5   99.0     95.0\n",
       "89           Carson Wentz  QB  274.5    0.0       88.5  103.3     99.0\n",
       "90           Mike Gesicki  TE  146.0   -0.2       91.0  130.0    126.0\n",
       "91      Leonard Fournette  RB  147.9   -1.7       92.5   51.7     50.0\n",
       "92          Austin Hooper  TE  144.5   -1.7       92.5  113.3    110.0\n",
       "93         Christian Kirk  WR  181.9   -1.9       94.0   97.0     92.0\n",
       "94              Noah Fant  TE  142.7   -3.5       95.0  112.0    108.0\n",
       "95            Will Fuller  WR  179.6   -4.2       96.0   77.0     75.0\n",
       "96        Ronald Jones II  RB  145.2   -4.4       97.0   83.0     79.0\n",
       "97        Phillip Lindsay  RB  144.7   -4.9       98.0   88.7     88.0\n",
       "98             Cam Newton  QB  269.3   -5.2       99.0  178.0    180.0\n",
       "99         Rob Gronkowski  TE  139.4   -6.8      100.0   82.0     78.0\n",
       "\n",
       "[100 rows x 7 columns]"
      ]
     },
     "execution_count": 23,
     "metadata": {},
     "output_type": "execute_result"
    }
   ],
   "source": [
    "df.head(100)"
   ]
  },
  {
   "cell_type": "code",
   "execution_count": 24,
   "metadata": {
    "ExecuteTime": {
     "end_time": "2020-09-04T16:58:28.855147Z",
     "start_time": "2020-09-04T16:58:28.837663Z"
    }
   },
   "outputs": [
    {
     "data": {
      "text/html": [
       "<div>\n",
       "<style scoped>\n",
       "    .dataframe tbody tr th:only-of-type {\n",
       "        vertical-align: middle;\n",
       "    }\n",
       "\n",
       "    .dataframe tbody tr th {\n",
       "        vertical-align: top;\n",
       "    }\n",
       "\n",
       "    .dataframe thead th {\n",
       "        text-align: right;\n",
       "    }\n",
       "</style>\n",
       "<table border=\"1\" class=\"dataframe\">\n",
       "  <thead>\n",
       "    <tr style=\"text-align: right;\">\n",
       "      <th></th>\n",
       "      <th>PLAYER</th>\n",
       "      <th>POS</th>\n",
       "      <th>FPTS</th>\n",
       "      <th>VOR</th>\n",
       "      <th>VALUERANK</th>\n",
       "      <th>AVG</th>\n",
       "      <th>ADPRANK</th>\n",
       "      <th>SLEEPERSCORE</th>\n",
       "    </tr>\n",
       "  </thead>\n",
       "  <tbody>\n",
       "    <tr>\n",
       "      <th>0</th>\n",
       "      <td>Christian McCaffrey</td>\n",
       "      <td>RB</td>\n",
       "      <td>375.0</td>\n",
       "      <td>225.4</td>\n",
       "      <td>1.0</td>\n",
       "      <td>1.0</td>\n",
       "      <td>1.0</td>\n",
       "      <td>0.0</td>\n",
       "    </tr>\n",
       "    <tr>\n",
       "      <th>1</th>\n",
       "      <td>Saquon Barkley</td>\n",
       "      <td>RB</td>\n",
       "      <td>310.8</td>\n",
       "      <td>161.2</td>\n",
       "      <td>2.0</td>\n",
       "      <td>2.0</td>\n",
       "      <td>2.0</td>\n",
       "      <td>0.0</td>\n",
       "    </tr>\n",
       "    <tr>\n",
       "      <th>2</th>\n",
       "      <td>Ezekiel Elliott</td>\n",
       "      <td>RB</td>\n",
       "      <td>299.6</td>\n",
       "      <td>150.0</td>\n",
       "      <td>3.0</td>\n",
       "      <td>3.3</td>\n",
       "      <td>3.0</td>\n",
       "      <td>0.0</td>\n",
       "    </tr>\n",
       "    <tr>\n",
       "      <th>3</th>\n",
       "      <td>Michael Thomas</td>\n",
       "      <td>WR</td>\n",
       "      <td>333.1</td>\n",
       "      <td>149.3</td>\n",
       "      <td>4.0</td>\n",
       "      <td>4.7</td>\n",
       "      <td>4.0</td>\n",
       "      <td>0.0</td>\n",
       "    </tr>\n",
       "    <tr>\n",
       "      <th>4</th>\n",
       "      <td>Alvin Kamara</td>\n",
       "      <td>RB</td>\n",
       "      <td>296.2</td>\n",
       "      <td>146.6</td>\n",
       "      <td>5.0</td>\n",
       "      <td>5.3</td>\n",
       "      <td>6.0</td>\n",
       "      <td>1.0</td>\n",
       "    </tr>\n",
       "  </tbody>\n",
       "</table>\n",
       "</div>"
      ],
      "text/plain": [
       "                PLAYER POS   FPTS    VOR  VALUERANK  AVG  ADPRANK  \\\n",
       "0  Christian McCaffrey  RB  375.0  225.4        1.0  1.0      1.0   \n",
       "1       Saquon Barkley  RB  310.8  161.2        2.0  2.0      2.0   \n",
       "2      Ezekiel Elliott  RB  299.6  150.0        3.0  3.3      3.0   \n",
       "3       Michael Thomas  WR  333.1  149.3        4.0  4.7      4.0   \n",
       "4         Alvin Kamara  RB  296.2  146.6        5.0  5.3      6.0   \n",
       "\n",
       "   SLEEPERSCORE  \n",
       "0           0.0  \n",
       "1           0.0  \n",
       "2           0.0  \n",
       "3           0.0  \n",
       "4           1.0  "
      ]
     },
     "execution_count": 24,
     "metadata": {},
     "output_type": "execute_result"
    }
   ],
   "source": [
    "df['SLEEPERSCORE'] = df['ADPRANK'] - df['VALUERANK']\n",
    "\n",
    "df.head()"
   ]
  },
  {
   "cell_type": "code",
   "execution_count": 25,
   "metadata": {
    "ExecuteTime": {
     "end_time": "2020-09-04T16:58:28.891281Z",
     "start_time": "2020-09-04T16:58:28.858360Z"
    }
   },
   "outputs": [
    {
     "data": {
      "text/html": [
       "<div>\n",
       "<style scoped>\n",
       "    .dataframe tbody tr th:only-of-type {\n",
       "        vertical-align: middle;\n",
       "    }\n",
       "\n",
       "    .dataframe tbody tr th {\n",
       "        vertical-align: top;\n",
       "    }\n",
       "\n",
       "    .dataframe thead th {\n",
       "        text-align: right;\n",
       "    }\n",
       "</style>\n",
       "<table border=\"1\" class=\"dataframe\">\n",
       "  <thead>\n",
       "    <tr style=\"text-align: right;\">\n",
       "      <th></th>\n",
       "      <th>PLAYER</th>\n",
       "      <th>POS</th>\n",
       "      <th>FPTS</th>\n",
       "      <th>VOR</th>\n",
       "      <th>VALUERANK</th>\n",
       "      <th>AVG</th>\n",
       "      <th>ADPRANK</th>\n",
       "      <th>SLEEPERSCORE</th>\n",
       "    </tr>\n",
       "  </thead>\n",
       "  <tbody>\n",
       "    <tr>\n",
       "      <th>112</th>\n",
       "      <td>Jonnu Smith</td>\n",
       "      <td>TE</td>\n",
       "      <td>130.1</td>\n",
       "      <td>-16.1</td>\n",
       "      <td>113.0</td>\n",
       "      <td>159.3</td>\n",
       "      <td>160.0</td>\n",
       "      <td>47.0</td>\n",
       "    </tr>\n",
       "    <tr>\n",
       "      <th>117</th>\n",
       "      <td>Jack Doyle</td>\n",
       "      <td>TE</td>\n",
       "      <td>126.6</td>\n",
       "      <td>-19.6</td>\n",
       "      <td>118.0</td>\n",
       "      <td>156.3</td>\n",
       "      <td>156.0</td>\n",
       "      <td>38.0</td>\n",
       "    </tr>\n",
       "    <tr>\n",
       "      <th>107</th>\n",
       "      <td>Dallas Goedert</td>\n",
       "      <td>TE</td>\n",
       "      <td>132.3</td>\n",
       "      <td>-13.9</td>\n",
       "      <td>108.0</td>\n",
       "      <td>146.7</td>\n",
       "      <td>145.0</td>\n",
       "      <td>37.0</td>\n",
       "    </tr>\n",
       "    <tr>\n",
       "      <th>90</th>\n",
       "      <td>Mike Gesicki</td>\n",
       "      <td>TE</td>\n",
       "      <td>146.0</td>\n",
       "      <td>-0.2</td>\n",
       "      <td>91.0</td>\n",
       "      <td>130.0</td>\n",
       "      <td>126.0</td>\n",
       "      <td>35.0</td>\n",
       "    </tr>\n",
       "    <tr>\n",
       "      <th>101</th>\n",
       "      <td>Ryquell Armstead</td>\n",
       "      <td>RB</td>\n",
       "      <td>140.5</td>\n",
       "      <td>-9.1</td>\n",
       "      <td>102.0</td>\n",
       "      <td>140.7</td>\n",
       "      <td>137.0</td>\n",
       "      <td>35.0</td>\n",
       "    </tr>\n",
       "    <tr>\n",
       "      <th>113</th>\n",
       "      <td>Ryan Tannehill</td>\n",
       "      <td>QB</td>\n",
       "      <td>258.2</td>\n",
       "      <td>-16.3</td>\n",
       "      <td>114.0</td>\n",
       "      <td>147.7</td>\n",
       "      <td>146.0</td>\n",
       "      <td>32.0</td>\n",
       "    </tr>\n",
       "    <tr>\n",
       "      <th>57</th>\n",
       "      <td>Josh Allen</td>\n",
       "      <td>QB</td>\n",
       "      <td>297.4</td>\n",
       "      <td>22.9</td>\n",
       "      <td>58.0</td>\n",
       "      <td>90.0</td>\n",
       "      <td>89.0</td>\n",
       "      <td>31.0</td>\n",
       "    </tr>\n",
       "    <tr>\n",
       "      <th>115</th>\n",
       "      <td>DeSean Jackson</td>\n",
       "      <td>WR</td>\n",
       "      <td>165.4</td>\n",
       "      <td>-18.4</td>\n",
       "      <td>116.0</td>\n",
       "      <td>148.7</td>\n",
       "      <td>147.0</td>\n",
       "      <td>31.0</td>\n",
       "    </tr>\n",
       "    <tr>\n",
       "      <th>106</th>\n",
       "      <td>Jared Goff</td>\n",
       "      <td>QB</td>\n",
       "      <td>260.7</td>\n",
       "      <td>-13.8</td>\n",
       "      <td>107.0</td>\n",
       "      <td>140.0</td>\n",
       "      <td>136.0</td>\n",
       "      <td>29.0</td>\n",
       "    </tr>\n",
       "    <tr>\n",
       "      <th>83</th>\n",
       "      <td>Hayden Hurst</td>\n",
       "      <td>TE</td>\n",
       "      <td>148.2</td>\n",
       "      <td>2.0</td>\n",
       "      <td>84.0</td>\n",
       "      <td>113.7</td>\n",
       "      <td>112.0</td>\n",
       "      <td>28.0</td>\n",
       "    </tr>\n",
       "    <tr>\n",
       "      <th>61</th>\n",
       "      <td>Tarik Cohen</td>\n",
       "      <td>RB</td>\n",
       "      <td>171.0</td>\n",
       "      <td>21.4</td>\n",
       "      <td>62.0</td>\n",
       "      <td>88.7</td>\n",
       "      <td>87.0</td>\n",
       "      <td>25.0</td>\n",
       "    </tr>\n",
       "    <tr>\n",
       "      <th>134</th>\n",
       "      <td>Jimmy Garoppolo</td>\n",
       "      <td>QB</td>\n",
       "      <td>246.1</td>\n",
       "      <td>-28.4</td>\n",
       "      <td>135.0</td>\n",
       "      <td>157.0</td>\n",
       "      <td>157.0</td>\n",
       "      <td>22.0</td>\n",
       "    </tr>\n",
       "    <tr>\n",
       "      <th>127</th>\n",
       "      <td>Eric Ebron</td>\n",
       "      <td>TE</td>\n",
       "      <td>121.7</td>\n",
       "      <td>-24.5</td>\n",
       "      <td>128.0</td>\n",
       "      <td>151.0</td>\n",
       "      <td>150.0</td>\n",
       "      <td>22.0</td>\n",
       "    </tr>\n",
       "    <tr>\n",
       "      <th>109</th>\n",
       "      <td>Golden Tate</td>\n",
       "      <td>WR</td>\n",
       "      <td>169.3</td>\n",
       "      <td>-14.5</td>\n",
       "      <td>110.0</td>\n",
       "      <td>133.0</td>\n",
       "      <td>131.0</td>\n",
       "      <td>21.0</td>\n",
       "    </tr>\n",
       "    <tr>\n",
       "      <th>136</th>\n",
       "      <td>Sammy Watkins</td>\n",
       "      <td>WR</td>\n",
       "      <td>154.2</td>\n",
       "      <td>-29.6</td>\n",
       "      <td>137.0</td>\n",
       "      <td>157.3</td>\n",
       "      <td>158.0</td>\n",
       "      <td>21.0</td>\n",
       "    </tr>\n",
       "    <tr>\n",
       "      <th>118</th>\n",
       "      <td>Anthony Miller</td>\n",
       "      <td>WR</td>\n",
       "      <td>163.9</td>\n",
       "      <td>-19.9</td>\n",
       "      <td>119.0</td>\n",
       "      <td>142.0</td>\n",
       "      <td>138.0</td>\n",
       "      <td>19.0</td>\n",
       "    </tr>\n",
       "    <tr>\n",
       "      <th>119</th>\n",
       "      <td>Antonio Gibson</td>\n",
       "      <td>RB</td>\n",
       "      <td>129.3</td>\n",
       "      <td>-20.3</td>\n",
       "      <td>120.0</td>\n",
       "      <td>143.0</td>\n",
       "      <td>139.0</td>\n",
       "      <td>19.0</td>\n",
       "    </tr>\n",
       "    <tr>\n",
       "      <th>110</th>\n",
       "      <td>Duke Johnson</td>\n",
       "      <td>RB</td>\n",
       "      <td>134.5</td>\n",
       "      <td>-15.1</td>\n",
       "      <td>111.0</td>\n",
       "      <td>132.3</td>\n",
       "      <td>129.0</td>\n",
       "      <td>18.0</td>\n",
       "    </tr>\n",
       "    <tr>\n",
       "      <th>92</th>\n",
       "      <td>Austin Hooper</td>\n",
       "      <td>TE</td>\n",
       "      <td>144.5</td>\n",
       "      <td>-1.7</td>\n",
       "      <td>92.5</td>\n",
       "      <td>113.3</td>\n",
       "      <td>110.0</td>\n",
       "      <td>17.5</td>\n",
       "    </tr>\n",
       "    <tr>\n",
       "      <th>78</th>\n",
       "      <td>Jamison Crowder</td>\n",
       "      <td>WR</td>\n",
       "      <td>192.4</td>\n",
       "      <td>8.6</td>\n",
       "      <td>79.0</td>\n",
       "      <td>99.3</td>\n",
       "      <td>96.0</td>\n",
       "      <td>17.0</td>\n",
       "    </tr>\n",
       "  </tbody>\n",
       "</table>\n",
       "</div>"
      ],
      "text/plain": [
       "               PLAYER POS   FPTS   VOR  VALUERANK    AVG  ADPRANK  \\\n",
       "112       Jonnu Smith  TE  130.1 -16.1      113.0  159.3    160.0   \n",
       "117        Jack Doyle  TE  126.6 -19.6      118.0  156.3    156.0   \n",
       "107    Dallas Goedert  TE  132.3 -13.9      108.0  146.7    145.0   \n",
       "90       Mike Gesicki  TE  146.0  -0.2       91.0  130.0    126.0   \n",
       "101  Ryquell Armstead  RB  140.5  -9.1      102.0  140.7    137.0   \n",
       "113    Ryan Tannehill  QB  258.2 -16.3      114.0  147.7    146.0   \n",
       "57         Josh Allen  QB  297.4  22.9       58.0   90.0     89.0   \n",
       "115    DeSean Jackson  WR  165.4 -18.4      116.0  148.7    147.0   \n",
       "106        Jared Goff  QB  260.7 -13.8      107.0  140.0    136.0   \n",
       "83       Hayden Hurst  TE  148.2   2.0       84.0  113.7    112.0   \n",
       "61        Tarik Cohen  RB  171.0  21.4       62.0   88.7     87.0   \n",
       "134   Jimmy Garoppolo  QB  246.1 -28.4      135.0  157.0    157.0   \n",
       "127        Eric Ebron  TE  121.7 -24.5      128.0  151.0    150.0   \n",
       "109       Golden Tate  WR  169.3 -14.5      110.0  133.0    131.0   \n",
       "136     Sammy Watkins  WR  154.2 -29.6      137.0  157.3    158.0   \n",
       "118    Anthony Miller  WR  163.9 -19.9      119.0  142.0    138.0   \n",
       "119    Antonio Gibson  RB  129.3 -20.3      120.0  143.0    139.0   \n",
       "110      Duke Johnson  RB  134.5 -15.1      111.0  132.3    129.0   \n",
       "92      Austin Hooper  TE  144.5  -1.7       92.5  113.3    110.0   \n",
       "78    Jamison Crowder  WR  192.4   8.6       79.0   99.3     96.0   \n",
       "\n",
       "     SLEEPERSCORE  \n",
       "112          47.0  \n",
       "117          38.0  \n",
       "107          37.0  \n",
       "90           35.0  \n",
       "101          35.0  \n",
       "113          32.0  \n",
       "57           31.0  \n",
       "115          31.0  \n",
       "106          29.0  \n",
       "83           28.0  \n",
       "61           25.0  \n",
       "134          22.0  \n",
       "127          22.0  \n",
       "109          21.0  \n",
       "136          21.0  \n",
       "118          19.0  \n",
       "119          19.0  \n",
       "110          18.0  \n",
       "92           17.5  \n",
       "78           17.0  "
      ]
     },
     "execution_count": 25,
     "metadata": {},
     "output_type": "execute_result"
    }
   ],
   "source": [
    "df.loc[df['AVG'] < 160].sort_values(by='SLEEPERSCORE', ascending=False).head(20)"
   ]
  },
  {
   "cell_type": "code",
   "execution_count": 26,
   "metadata": {
    "ExecuteTime": {
     "end_time": "2020-09-04T16:58:28.922961Z",
     "start_time": "2020-09-04T16:58:28.897530Z"
    }
   },
   "outputs": [
    {
     "data": {
      "text/html": [
       "<div>\n",
       "<style scoped>\n",
       "    .dataframe tbody tr th:only-of-type {\n",
       "        vertical-align: middle;\n",
       "    }\n",
       "\n",
       "    .dataframe tbody tr th {\n",
       "        vertical-align: top;\n",
       "    }\n",
       "\n",
       "    .dataframe thead th {\n",
       "        text-align: right;\n",
       "    }\n",
       "</style>\n",
       "<table border=\"1\" class=\"dataframe\">\n",
       "  <thead>\n",
       "    <tr style=\"text-align: right;\">\n",
       "      <th></th>\n",
       "      <th>PLAYER</th>\n",
       "      <th>POS</th>\n",
       "      <th>FPTS</th>\n",
       "      <th>VOR</th>\n",
       "      <th>VALUERANK</th>\n",
       "      <th>AVG</th>\n",
       "      <th>ADPRANK</th>\n",
       "      <th>SLEEPERSCORE</th>\n",
       "    </tr>\n",
       "  </thead>\n",
       "  <tbody>\n",
       "    <tr>\n",
       "      <th>336</th>\n",
       "      <td>Ke'Shawn Vaughn</td>\n",
       "      <td>RB</td>\n",
       "      <td>21.9</td>\n",
       "      <td>-127.7</td>\n",
       "      <td>337.0</td>\n",
       "      <td>138.7</td>\n",
       "      <td>135.0</td>\n",
       "      <td>-202.0</td>\n",
       "    </tr>\n",
       "    <tr>\n",
       "      <th>177</th>\n",
       "      <td>Alexander Mattison</td>\n",
       "      <td>RB</td>\n",
       "      <td>94.5</td>\n",
       "      <td>-55.1</td>\n",
       "      <td>177.5</td>\n",
       "      <td>127.3</td>\n",
       "      <td>122.0</td>\n",
       "      <td>-55.5</td>\n",
       "    </tr>\n",
       "    <tr>\n",
       "      <th>187</th>\n",
       "      <td>Mecole Hardman</td>\n",
       "      <td>WR</td>\n",
       "      <td>123.0</td>\n",
       "      <td>-60.8</td>\n",
       "      <td>188.0</td>\n",
       "      <td>136.0</td>\n",
       "      <td>133.0</td>\n",
       "      <td>-55.0</td>\n",
       "    </tr>\n",
       "    <tr>\n",
       "      <th>202</th>\n",
       "      <td>Alshon Jeffery</td>\n",
       "      <td>WR</td>\n",
       "      <td>106.3</td>\n",
       "      <td>-77.5</td>\n",
       "      <td>203.0</td>\n",
       "      <td>154.5</td>\n",
       "      <td>153.0</td>\n",
       "      <td>-50.0</td>\n",
       "    </tr>\n",
       "    <tr>\n",
       "      <th>137</th>\n",
       "      <td>J.K. Dobbins</td>\n",
       "      <td>RB</td>\n",
       "      <td>119.1</td>\n",
       "      <td>-30.5</td>\n",
       "      <td>138.0</td>\n",
       "      <td>90.7</td>\n",
       "      <td>90.0</td>\n",
       "      <td>-48.0</td>\n",
       "    </tr>\n",
       "    <tr>\n",
       "      <th>91</th>\n",
       "      <td>Leonard Fournette</td>\n",
       "      <td>RB</td>\n",
       "      <td>147.9</td>\n",
       "      <td>-1.7</td>\n",
       "      <td>92.5</td>\n",
       "      <td>51.7</td>\n",
       "      <td>50.0</td>\n",
       "      <td>-42.5</td>\n",
       "    </tr>\n",
       "    <tr>\n",
       "      <th>155</th>\n",
       "      <td>Darrell Henderson</td>\n",
       "      <td>RB</td>\n",
       "      <td>109.3</td>\n",
       "      <td>-40.3</td>\n",
       "      <td>156.0</td>\n",
       "      <td>124.0</td>\n",
       "      <td>119.0</td>\n",
       "      <td>-37.0</td>\n",
       "    </tr>\n",
       "    <tr>\n",
       "      <th>153</th>\n",
       "      <td>Justin Jefferson</td>\n",
       "      <td>WR</td>\n",
       "      <td>143.9</td>\n",
       "      <td>-39.9</td>\n",
       "      <td>154.0</td>\n",
       "      <td>119.3</td>\n",
       "      <td>117.0</td>\n",
       "      <td>-37.0</td>\n",
       "    </tr>\n",
       "    <tr>\n",
       "      <th>139</th>\n",
       "      <td>Latavius Murray</td>\n",
       "      <td>RB</td>\n",
       "      <td>118.8</td>\n",
       "      <td>-30.8</td>\n",
       "      <td>140.0</td>\n",
       "      <td>107.3</td>\n",
       "      <td>103.0</td>\n",
       "      <td>-37.0</td>\n",
       "    </tr>\n",
       "    <tr>\n",
       "      <th>144</th>\n",
       "      <td>Jerry Jeudy</td>\n",
       "      <td>WR</td>\n",
       "      <td>147.9</td>\n",
       "      <td>-35.9</td>\n",
       "      <td>145.0</td>\n",
       "      <td>114.7</td>\n",
       "      <td>113.0</td>\n",
       "      <td>-32.0</td>\n",
       "    </tr>\n",
       "    <tr>\n",
       "      <th>149</th>\n",
       "      <td>Sony Michel</td>\n",
       "      <td>RB</td>\n",
       "      <td>111.1</td>\n",
       "      <td>-38.5</td>\n",
       "      <td>150.0</td>\n",
       "      <td>123.3</td>\n",
       "      <td>118.0</td>\n",
       "      <td>-32.0</td>\n",
       "    </tr>\n",
       "    <tr>\n",
       "      <th>116</th>\n",
       "      <td>Deebo Samuel</td>\n",
       "      <td>WR</td>\n",
       "      <td>164.9</td>\n",
       "      <td>-18.9</td>\n",
       "      <td>117.0</td>\n",
       "      <td>87.0</td>\n",
       "      <td>85.0</td>\n",
       "      <td>-32.0</td>\n",
       "    </tr>\n",
       "    <tr>\n",
       "      <th>186</th>\n",
       "      <td>Chase Edmonds</td>\n",
       "      <td>RB</td>\n",
       "      <td>89.5</td>\n",
       "      <td>-60.1</td>\n",
       "      <td>186.5</td>\n",
       "      <td>155.7</td>\n",
       "      <td>155.0</td>\n",
       "      <td>-31.5</td>\n",
       "    </tr>\n",
       "    <tr>\n",
       "      <th>120</th>\n",
       "      <td>Jordan Howard</td>\n",
       "      <td>RB</td>\n",
       "      <td>128.4</td>\n",
       "      <td>-21.2</td>\n",
       "      <td>121.0</td>\n",
       "      <td>92.7</td>\n",
       "      <td>91.0</td>\n",
       "      <td>-30.0</td>\n",
       "    </tr>\n",
       "    <tr>\n",
       "      <th>140</th>\n",
       "      <td>Zack Moss</td>\n",
       "      <td>RB</td>\n",
       "      <td>118.4</td>\n",
       "      <td>-31.2</td>\n",
       "      <td>141.0</td>\n",
       "      <td>116.3</td>\n",
       "      <td>114.0</td>\n",
       "      <td>-27.0</td>\n",
       "    </tr>\n",
       "    <tr>\n",
       "      <th>130</th>\n",
       "      <td>Emmanuel Sanders</td>\n",
       "      <td>WR</td>\n",
       "      <td>157.0</td>\n",
       "      <td>-26.8</td>\n",
       "      <td>131.0</td>\n",
       "      <td>107.3</td>\n",
       "      <td>104.0</td>\n",
       "      <td>-27.0</td>\n",
       "    </tr>\n",
       "    <tr>\n",
       "      <th>159</th>\n",
       "      <td>Tony Pollard</td>\n",
       "      <td>RB</td>\n",
       "      <td>106.1</td>\n",
       "      <td>-43.5</td>\n",
       "      <td>160.0</td>\n",
       "      <td>137.7</td>\n",
       "      <td>134.0</td>\n",
       "      <td>-26.0</td>\n",
       "    </tr>\n",
       "    <tr>\n",
       "      <th>132</th>\n",
       "      <td>Tevin Coleman</td>\n",
       "      <td>RB</td>\n",
       "      <td>121.6</td>\n",
       "      <td>-28.0</td>\n",
       "      <td>133.5</td>\n",
       "      <td>113.3</td>\n",
       "      <td>109.0</td>\n",
       "      <td>-24.5</td>\n",
       "    </tr>\n",
       "    <tr>\n",
       "      <th>146</th>\n",
       "      <td>Robby Anderson</td>\n",
       "      <td>WR</td>\n",
       "      <td>146.4</td>\n",
       "      <td>-37.4</td>\n",
       "      <td>147.0</td>\n",
       "      <td>127.7</td>\n",
       "      <td>123.0</td>\n",
       "      <td>-24.0</td>\n",
       "    </tr>\n",
       "    <tr>\n",
       "      <th>128</th>\n",
       "      <td>CeeDee Lamb</td>\n",
       "      <td>WR</td>\n",
       "      <td>159.0</td>\n",
       "      <td>-24.8</td>\n",
       "      <td>129.0</td>\n",
       "      <td>109.0</td>\n",
       "      <td>106.0</td>\n",
       "      <td>-23.0</td>\n",
       "    </tr>\n",
       "  </tbody>\n",
       "</table>\n",
       "</div>"
      ],
      "text/plain": [
       "                 PLAYER POS   FPTS    VOR  VALUERANK    AVG  ADPRANK  \\\n",
       "336     Ke'Shawn Vaughn  RB   21.9 -127.7      337.0  138.7    135.0   \n",
       "177  Alexander Mattison  RB   94.5  -55.1      177.5  127.3    122.0   \n",
       "187      Mecole Hardman  WR  123.0  -60.8      188.0  136.0    133.0   \n",
       "202      Alshon Jeffery  WR  106.3  -77.5      203.0  154.5    153.0   \n",
       "137        J.K. Dobbins  RB  119.1  -30.5      138.0   90.7     90.0   \n",
       "91    Leonard Fournette  RB  147.9   -1.7       92.5   51.7     50.0   \n",
       "155   Darrell Henderson  RB  109.3  -40.3      156.0  124.0    119.0   \n",
       "153    Justin Jefferson  WR  143.9  -39.9      154.0  119.3    117.0   \n",
       "139     Latavius Murray  RB  118.8  -30.8      140.0  107.3    103.0   \n",
       "144         Jerry Jeudy  WR  147.9  -35.9      145.0  114.7    113.0   \n",
       "149         Sony Michel  RB  111.1  -38.5      150.0  123.3    118.0   \n",
       "116        Deebo Samuel  WR  164.9  -18.9      117.0   87.0     85.0   \n",
       "186       Chase Edmonds  RB   89.5  -60.1      186.5  155.7    155.0   \n",
       "120       Jordan Howard  RB  128.4  -21.2      121.0   92.7     91.0   \n",
       "140           Zack Moss  RB  118.4  -31.2      141.0  116.3    114.0   \n",
       "130    Emmanuel Sanders  WR  157.0  -26.8      131.0  107.3    104.0   \n",
       "159        Tony Pollard  RB  106.1  -43.5      160.0  137.7    134.0   \n",
       "132       Tevin Coleman  RB  121.6  -28.0      133.5  113.3    109.0   \n",
       "146      Robby Anderson  WR  146.4  -37.4      147.0  127.7    123.0   \n",
       "128         CeeDee Lamb  WR  159.0  -24.8      129.0  109.0    106.0   \n",
       "\n",
       "     SLEEPERSCORE  \n",
       "336        -202.0  \n",
       "177         -55.5  \n",
       "187         -55.0  \n",
       "202         -50.0  \n",
       "137         -48.0  \n",
       "91          -42.5  \n",
       "155         -37.0  \n",
       "153         -37.0  \n",
       "139         -37.0  \n",
       "144         -32.0  \n",
       "149         -32.0  \n",
       "116         -32.0  \n",
       "186         -31.5  \n",
       "120         -30.0  \n",
       "140         -27.0  \n",
       "130         -27.0  \n",
       "159         -26.0  \n",
       "132         -24.5  \n",
       "146         -24.0  \n",
       "128         -23.0  "
      ]
     },
     "execution_count": 26,
     "metadata": {},
     "output_type": "execute_result"
    }
   ],
   "source": [
    "df.loc[df['AVG'] < 160].sort_values(by='SLEEPERSCORE', ascending=True).head(20)"
   ]
  },
  {
   "cell_type": "markdown",
   "metadata": {},
   "source": [
    "# Keeper Analysis"
   ]
  },
  {
   "cell_type": "code",
   "execution_count": 29,
   "metadata": {
    "ExecuteTime": {
     "end_time": "2020-09-04T17:04:28.717757Z",
     "start_time": "2020-09-04T17:04:28.533823Z"
    }
   },
   "outputs": [],
   "source": [
    "keeper_df = pd.read_excel('Keeper_Master Document.xlsx',sheet_name=None)"
   ]
  },
  {
   "cell_type": "code",
   "execution_count": 33,
   "metadata": {
    "ExecuteTime": {
     "end_time": "2020-09-04T17:05:09.564976Z",
     "start_time": "2020-09-04T17:05:09.559198Z"
    }
   },
   "outputs": [
    {
     "data": {
      "text/plain": [
       "odict_keys(['Keeper History', '2020', '2019', '2018', '2017', '2016 ', '2015'])"
      ]
     },
     "execution_count": 33,
     "metadata": {},
     "output_type": "execute_result"
    }
   ],
   "source": [
    "keeper_df.keys()"
   ]
  },
  {
   "cell_type": "code",
   "execution_count": 96,
   "metadata": {
    "ExecuteTime": {
     "end_time": "2020-09-04T18:32:48.984958Z",
     "start_time": "2020-09-04T18:32:48.973130Z"
    }
   },
   "outputs": [
    {
     "data": {
      "text/html": [
       "<div>\n",
       "<style scoped>\n",
       "    .dataframe tbody tr th:only-of-type {\n",
       "        vertical-align: middle;\n",
       "    }\n",
       "\n",
       "    .dataframe tbody tr th {\n",
       "        vertical-align: top;\n",
       "    }\n",
       "\n",
       "    .dataframe thead th {\n",
       "        text-align: right;\n",
       "    }\n",
       "</style>\n",
       "<table border=\"1\" class=\"dataframe\">\n",
       "  <thead>\n",
       "    <tr style=\"text-align: right;\">\n",
       "      <th></th>\n",
       "      <th>Year</th>\n",
       "      <th>Team</th>\n",
       "      <th>Player</th>\n",
       "      <th>Round</th>\n",
       "      <th>Position</th>\n",
       "      <th>Notes</th>\n",
       "    </tr>\n",
       "  </thead>\n",
       "  <tbody>\n",
       "    <tr>\n",
       "      <th>0</th>\n",
       "      <td>2015</td>\n",
       "      <td>David</td>\n",
       "      <td>Adrian Peterson</td>\n",
       "      <td>1</td>\n",
       "      <td>NaN</td>\n",
       "      <td>NaN</td>\n",
       "    </tr>\n",
       "    <tr>\n",
       "      <th>1</th>\n",
       "      <td>2015</td>\n",
       "      <td>David</td>\n",
       "      <td>Randall Cobb</td>\n",
       "      <td>3</td>\n",
       "      <td>NaN</td>\n",
       "      <td>NaN</td>\n",
       "    </tr>\n",
       "    <tr>\n",
       "      <th>2</th>\n",
       "      <td>2015</td>\n",
       "      <td>David</td>\n",
       "      <td>Alshon Jeffrey</td>\n",
       "      <td>13</td>\n",
       "      <td>NaN</td>\n",
       "      <td>NaN</td>\n",
       "    </tr>\n",
       "    <tr>\n",
       "      <th>3</th>\n",
       "      <td>2015</td>\n",
       "      <td>Dinatalie</td>\n",
       "      <td>Eddie Lacy</td>\n",
       "      <td>4</td>\n",
       "      <td>NaN</td>\n",
       "      <td>NaN</td>\n",
       "    </tr>\n",
       "    <tr>\n",
       "      <th>4</th>\n",
       "      <td>2015</td>\n",
       "      <td>Dinatalie</td>\n",
       "      <td>Jordan Matthews</td>\n",
       "      <td>17</td>\n",
       "      <td>NaN</td>\n",
       "      <td>NaN</td>\n",
       "    </tr>\n",
       "  </tbody>\n",
       "</table>\n",
       "</div>"
      ],
      "text/plain": [
       "   Year       Team           Player Round Position Notes\n",
       "0  2015      David  Adrian Peterson     1      NaN   NaN\n",
       "1  2015      David     Randall Cobb     3      NaN   NaN\n",
       "2  2015      David   Alshon Jeffrey    13      NaN   NaN\n",
       "3  2015  Dinatalie       Eddie Lacy     4      NaN   NaN\n",
       "4  2015  Dinatalie  Jordan Matthews    17      NaN   NaN"
      ]
     },
     "execution_count": 96,
     "metadata": {},
     "output_type": "execute_result"
    }
   ],
   "source": [
    "keeper_df['Keeper History'].head()"
   ]
  },
  {
   "cell_type": "code",
   "execution_count": 39,
   "metadata": {
    "ExecuteTime": {
     "end_time": "2020-09-04T17:16:34.367319Z",
     "start_time": "2020-09-04T17:16:34.356083Z"
    }
   },
   "outputs": [
    {
     "data": {
      "text/html": [
       "<div>\n",
       "<style scoped>\n",
       "    .dataframe tbody tr th:only-of-type {\n",
       "        vertical-align: middle;\n",
       "    }\n",
       "\n",
       "    .dataframe tbody tr th {\n",
       "        vertical-align: top;\n",
       "    }\n",
       "\n",
       "    .dataframe thead th {\n",
       "        text-align: right;\n",
       "    }\n",
       "</style>\n",
       "<table border=\"1\" class=\"dataframe\">\n",
       "  <thead>\n",
       "    <tr style=\"text-align: right;\">\n",
       "      <th></th>\n",
       "      <th>Year</th>\n",
       "      <th>Team</th>\n",
       "      <th>Player</th>\n",
       "      <th>Round</th>\n",
       "      <th>Position</th>\n",
       "      <th>Notes</th>\n",
       "    </tr>\n",
       "  </thead>\n",
       "  <tbody>\n",
       "    <tr>\n",
       "      <th>0</th>\n",
       "      <td>2015</td>\n",
       "      <td>David</td>\n",
       "      <td>Adrian Peterson</td>\n",
       "      <td>1</td>\n",
       "      <td>NaN</td>\n",
       "      <td>NaN</td>\n",
       "    </tr>\n",
       "    <tr>\n",
       "      <th>1</th>\n",
       "      <td>2015</td>\n",
       "      <td>David</td>\n",
       "      <td>Randall Cobb</td>\n",
       "      <td>3</td>\n",
       "      <td>NaN</td>\n",
       "      <td>NaN</td>\n",
       "    </tr>\n",
       "    <tr>\n",
       "      <th>2</th>\n",
       "      <td>2015</td>\n",
       "      <td>David</td>\n",
       "      <td>Alshon Jeffrey</td>\n",
       "      <td>13</td>\n",
       "      <td>NaN</td>\n",
       "      <td>NaN</td>\n",
       "    </tr>\n",
       "    <tr>\n",
       "      <th>3</th>\n",
       "      <td>2015</td>\n",
       "      <td>Dinatalie</td>\n",
       "      <td>Eddie Lacy</td>\n",
       "      <td>4</td>\n",
       "      <td>NaN</td>\n",
       "      <td>NaN</td>\n",
       "    </tr>\n",
       "    <tr>\n",
       "      <th>4</th>\n",
       "      <td>2015</td>\n",
       "      <td>Dinatalie</td>\n",
       "      <td>Jordan Matthews</td>\n",
       "      <td>17</td>\n",
       "      <td>NaN</td>\n",
       "      <td>NaN</td>\n",
       "    </tr>\n",
       "  </tbody>\n",
       "</table>\n",
       "</div>"
      ],
      "text/plain": [
       "   Year       Team           Player Round Position Notes\n",
       "0  2015      David  Adrian Peterson     1      NaN   NaN\n",
       "1  2015      David     Randall Cobb     3      NaN   NaN\n",
       "2  2015      David   Alshon Jeffrey    13      NaN   NaN\n",
       "3  2015  Dinatalie       Eddie Lacy     4      NaN   NaN\n",
       "4  2015  Dinatalie  Jordan Matthews    17      NaN   NaN"
      ]
     },
     "execution_count": 39,
     "metadata": {},
     "output_type": "execute_result"
    }
   ],
   "source": [
    "keeper_history = keeper_df['Keeper History']\n",
    "keeper_history.head()"
   ]
  },
  {
   "cell_type": "code",
   "execution_count": 44,
   "metadata": {
    "ExecuteTime": {
     "end_time": "2020-09-04T17:18:34.303907Z",
     "start_time": "2020-09-04T17:18:34.299211Z"
    }
   },
   "outputs": [],
   "source": [
    "keepers_2020 = keeper_history[keeper_history['Year'] == 2020].Player.dropna().values"
   ]
  },
  {
   "cell_type": "code",
   "execution_count": 45,
   "metadata": {
    "ExecuteTime": {
     "end_time": "2020-09-04T17:18:35.257914Z",
     "start_time": "2020-09-04T17:18:35.249149Z"
    }
   },
   "outputs": [
    {
     "data": {
      "text/plain": [
       "array(['Davante Adams', 'George Kittle', 'DJ Moore', 'DJ Chark',\n",
       "       'Juju Smith Schuster', 'Lamar Jackson', 'Kenyan Drake',\n",
       "       'Raheem Mostert', 'Austin Ekeler', 'DK Metcalf',\n",
       "       'Brashad Perrimen', 'Adrian Peterson', 'Mark Andrews',\n",
       "       'Terry McLaurin', 'AJ Brown', 'James Conner', 'Tyreek Hill',\n",
       "       'Alvin Kamara', 'Ronald Jones', 'Tyler Boyd', 'Derrick Henry',\n",
       "       'Chris Godwin', 'Joe Mixon', 'Aaron Jones', 'Ezekiel Elliot ',\n",
       "       'Nick Chubb', 'Devante Parker ', 'N/a ', 'Dalvin Cook',\n",
       "       'Michael Thomas', 'Patrick Mahomes', 'N/a '], dtype=object)"
      ]
     },
     "execution_count": 45,
     "metadata": {},
     "output_type": "execute_result"
    }
   ],
   "source": [
    "keepers_2020"
   ]
  },
  {
   "cell_type": "code",
   "execution_count": 46,
   "metadata": {
    "ExecuteTime": {
     "end_time": "2020-09-04T17:19:12.430102Z",
     "start_time": "2020-09-04T17:19:12.426333Z"
    }
   },
   "outputs": [],
   "source": [
    "a = 'Davante Adams'"
   ]
  },
  {
   "cell_type": "code",
   "execution_count": 47,
   "metadata": {
    "ExecuteTime": {
     "end_time": "2020-09-04T17:19:24.644747Z",
     "start_time": "2020-09-04T17:19:24.637946Z"
    }
   },
   "outputs": [
    {
     "data": {
      "text/plain": [
       "True"
      ]
     },
     "execution_count": 47,
     "metadata": {},
     "output_type": "execute_result"
    }
   ],
   "source": [
    "a in keepers_2020"
   ]
  },
  {
   "cell_type": "code",
   "execution_count": 49,
   "metadata": {
    "ExecuteTime": {
     "end_time": "2020-09-04T17:20:01.373977Z",
     "start_time": "2020-09-04T17:20:01.368225Z"
    }
   },
   "outputs": [
    {
     "data": {
      "text/plain": [
       "611"
      ]
     },
     "execution_count": 49,
     "metadata": {},
     "output_type": "execute_result"
    }
   ],
   "source": [
    "len(df.PLAYER.values)"
   ]
  },
  {
   "cell_type": "code",
   "execution_count": 50,
   "metadata": {
    "ExecuteTime": {
     "end_time": "2020-09-04T17:20:26.361362Z",
     "start_time": "2020-09-04T17:20:26.355079Z"
    }
   },
   "outputs": [
    {
     "data": {
      "text/plain": [
       "True"
      ]
     },
     "execution_count": 50,
     "metadata": {},
     "output_type": "execute_result"
    }
   ],
   "source": [
    "a in df.PLAYER.values"
   ]
  },
  {
   "cell_type": "markdown",
   "metadata": {},
   "source": [
    "## Cleaning Keeper List"
   ]
  },
  {
   "cell_type": "code",
   "execution_count": 56,
   "metadata": {
    "ExecuteTime": {
     "end_time": "2020-09-04T18:10:26.442046Z",
     "start_time": "2020-09-04T18:10:26.434888Z"
    }
   },
   "outputs": [],
   "source": [
    "def check_names(check_list, correct_list):\n",
    "    l = []\n",
    "    for p in check_list:\n",
    "        if p not in correct_list:\n",
    "            l.append(p)\n",
    "    return l"
   ]
  },
  {
   "cell_type": "code",
   "execution_count": 60,
   "metadata": {
    "ExecuteTime": {
     "end_time": "2020-09-04T18:11:59.384031Z",
     "start_time": "2020-09-04T18:11:59.378106Z"
    }
   },
   "outputs": [
    {
     "data": {
      "text/plain": [
       "['DJ Moore',\n",
       " 'DJ Chark',\n",
       " 'Juju Smith Schuster',\n",
       " 'DK Metcalf',\n",
       " 'Brashad Perrimen',\n",
       " 'Adrian Peterson',\n",
       " 'AJ Brown',\n",
       " 'Ronald Jones',\n",
       " 'Ezekiel Elliot ',\n",
       " 'Devante Parker ']"
      ]
     },
     "execution_count": 60,
     "metadata": {},
     "output_type": "execute_result"
    }
   ],
   "source": [
    "names_to_fix = names_to_fix[:-2]\n",
    "names_to_fix"
   ]
  },
  {
   "cell_type": "code",
   "execution_count": 55,
   "metadata": {
    "ExecuteTime": {
     "end_time": "2020-09-04T18:05:52.065871Z",
     "start_time": "2020-09-04T18:05:52.060284Z"
    }
   },
   "outputs": [
    {
     "name": "stdout",
     "output_type": "stream",
     "text": [
      "D.J. Moore\n",
      "David Moore\n",
      "Jason Moore\n",
      "Chris Moore\n",
      "J'Mon Moore\n",
      "Matt Moore\n"
     ]
    }
   ],
   "source": [
    "for p in df.PLAYER.values:\n",
    "    if 'Moore' in p:\n",
    "        print(p)"
   ]
  },
  {
   "cell_type": "code",
   "execution_count": 62,
   "metadata": {
    "ExecuteTime": {
     "end_time": "2020-09-04T18:14:31.842517Z",
     "start_time": "2020-09-04T18:14:31.836315Z"
    }
   },
   "outputs": [],
   "source": [
    "keeper_history.replace(to_replace='DJ Moore', value='D.J. Moore', inplace=True)"
   ]
  },
  {
   "cell_type": "code",
   "execution_count": 63,
   "metadata": {
    "ExecuteTime": {
     "end_time": "2020-09-04T18:15:11.551409Z",
     "start_time": "2020-09-04T18:15:11.545746Z"
    }
   },
   "outputs": [],
   "source": [
    "keepers_2020 = keeper_history[keeper_history['Year'] == 2020].Player.dropna().values"
   ]
  },
  {
   "cell_type": "code",
   "execution_count": 64,
   "metadata": {
    "ExecuteTime": {
     "end_time": "2020-09-04T18:15:55.550059Z",
     "start_time": "2020-09-04T18:15:55.542961Z"
    }
   },
   "outputs": [
    {
     "data": {
      "text/plain": [
       "['DJ Chark',\n",
       " 'Juju Smith Schuster',\n",
       " 'DK Metcalf',\n",
       " 'Brashad Perrimen',\n",
       " 'Adrian Peterson',\n",
       " 'AJ Brown',\n",
       " 'Ronald Jones',\n",
       " 'Ezekiel Elliot ',\n",
       " 'Devante Parker ',\n",
       " 'N/a ',\n",
       " 'N/a ']"
      ]
     },
     "execution_count": 64,
     "metadata": {},
     "output_type": "execute_result"
    }
   ],
   "source": [
    "names_to_fix = check_names(keepers_2020, df.PLAYER.values)\n",
    "names_to_fix"
   ]
  },
  {
   "cell_type": "code",
   "execution_count": 65,
   "metadata": {
    "ExecuteTime": {
     "end_time": "2020-09-04T18:16:51.123407Z",
     "start_time": "2020-09-04T18:16:51.118257Z"
    }
   },
   "outputs": [
    {
     "name": "stdout",
     "output_type": "stream",
     "text": [
      "D.J. Chark\n"
     ]
    }
   ],
   "source": [
    "for p in df.PLAYER.values:\n",
    "    if 'Chark' in p:\n",
    "        print(p)"
   ]
  },
  {
   "cell_type": "code",
   "execution_count": 66,
   "metadata": {
    "ExecuteTime": {
     "end_time": "2020-09-04T18:17:13.289208Z",
     "start_time": "2020-09-04T18:17:13.282414Z"
    }
   },
   "outputs": [],
   "source": [
    "keeper_history.replace(to_replace='DJ Chark', value='D.J. Chark', inplace=True)"
   ]
  },
  {
   "cell_type": "code",
   "execution_count": 67,
   "metadata": {
    "ExecuteTime": {
     "end_time": "2020-09-04T18:17:19.888620Z",
     "start_time": "2020-09-04T18:17:19.882200Z"
    }
   },
   "outputs": [],
   "source": [
    "keepers_2020 = keeper_history[keeper_history['Year'] == 2020].Player.dropna().values"
   ]
  },
  {
   "cell_type": "code",
   "execution_count": 68,
   "metadata": {
    "ExecuteTime": {
     "end_time": "2020-09-04T18:17:35.414592Z",
     "start_time": "2020-09-04T18:17:35.407500Z"
    }
   },
   "outputs": [
    {
     "data": {
      "text/plain": [
       "['Juju Smith Schuster',\n",
       " 'DK Metcalf',\n",
       " 'Brashad Perrimen',\n",
       " 'Adrian Peterson',\n",
       " 'AJ Brown',\n",
       " 'Ronald Jones',\n",
       " 'Ezekiel Elliot ',\n",
       " 'Devante Parker ',\n",
       " 'N/a ',\n",
       " 'N/a ']"
      ]
     },
     "execution_count": 68,
     "metadata": {},
     "output_type": "execute_result"
    }
   ],
   "source": [
    "names_to_fix = check_names(keepers_2020, df.PLAYER.values)\n",
    "names_to_fix"
   ]
  },
  {
   "cell_type": "code",
   "execution_count": 69,
   "metadata": {
    "ExecuteTime": {
     "end_time": "2020-09-04T18:17:56.499391Z",
     "start_time": "2020-09-04T18:17:56.495111Z"
    }
   },
   "outputs": [
    {
     "name": "stdout",
     "output_type": "stream",
     "text": [
      "JuJu Smith-Schuster\n"
     ]
    }
   ],
   "source": [
    "for p in df.PLAYER.values:\n",
    "    if 'Schuster' in p:\n",
    "        print(p)"
   ]
  },
  {
   "cell_type": "code",
   "execution_count": 74,
   "metadata": {
    "ExecuteTime": {
     "end_time": "2020-09-04T18:20:02.381547Z",
     "start_time": "2020-09-04T18:20:02.374788Z"
    }
   },
   "outputs": [],
   "source": [
    "keeper_history.replace(to_replace='Juju Smith Schuster', value='JuJu Smith-Schuster', inplace=True)"
   ]
  },
  {
   "cell_type": "code",
   "execution_count": 76,
   "metadata": {
    "ExecuteTime": {
     "end_time": "2020-09-04T18:20:27.153739Z",
     "start_time": "2020-09-04T18:20:27.148113Z"
    }
   },
   "outputs": [],
   "source": [
    "keepers_2020 = keeper_history[keeper_history['Year'] == 2020].Player.dropna().values"
   ]
  },
  {
   "cell_type": "code",
   "execution_count": 77,
   "metadata": {
    "ExecuteTime": {
     "end_time": "2020-09-04T18:20:28.117206Z",
     "start_time": "2020-09-04T18:20:28.109866Z"
    }
   },
   "outputs": [
    {
     "data": {
      "text/plain": [
       "['DK Metcalf',\n",
       " 'Brashad Perrimen',\n",
       " 'Adrian Peterson',\n",
       " 'AJ Brown',\n",
       " 'Ronald Jones',\n",
       " 'Ezekiel Elliot ',\n",
       " 'Devante Parker ',\n",
       " 'N/a ',\n",
       " 'N/a ']"
      ]
     },
     "execution_count": 77,
     "metadata": {},
     "output_type": "execute_result"
    }
   ],
   "source": [
    "names_to_fix = check_names(keepers_2020, df.PLAYER.values)\n",
    "names_to_fix"
   ]
  },
  {
   "cell_type": "code",
   "execution_count": 78,
   "metadata": {
    "ExecuteTime": {
     "end_time": "2020-09-04T18:20:50.402641Z",
     "start_time": "2020-09-04T18:20:50.396188Z"
    }
   },
   "outputs": [
    {
     "name": "stdout",
     "output_type": "stream",
     "text": [
      "D.K. Metcalf\n"
     ]
    }
   ],
   "source": [
    "for p in df.PLAYER.values:\n",
    "    if 'Metcalf' in p:\n",
    "        print(p)"
   ]
  },
  {
   "cell_type": "code",
   "execution_count": 79,
   "metadata": {
    "ExecuteTime": {
     "end_time": "2020-09-04T18:21:39.662500Z",
     "start_time": "2020-09-04T18:21:39.649929Z"
    }
   },
   "outputs": [
    {
     "data": {
      "text/plain": [
       "['Brashad Perrimen',\n",
       " 'Adrian Peterson',\n",
       " 'AJ Brown',\n",
       " 'Ronald Jones',\n",
       " 'Ezekiel Elliot ',\n",
       " 'Devante Parker ',\n",
       " 'N/a ',\n",
       " 'N/a ']"
      ]
     },
     "execution_count": 79,
     "metadata": {},
     "output_type": "execute_result"
    }
   ],
   "source": [
    "keeper_history.replace(to_replace='DK Metcalf', value='D.K. Metcalf', inplace=True)\n",
    "keepers_2020 = keeper_history[keeper_history['Year'] == 2020].Player.dropna().values\n",
    "names_to_fix = check_names(keepers_2020, df.PLAYER.values)\n",
    "names_to_fix"
   ]
  },
  {
   "cell_type": "code",
   "execution_count": 81,
   "metadata": {
    "ExecuteTime": {
     "end_time": "2020-09-04T18:22:06.916176Z",
     "start_time": "2020-09-04T18:22:06.911233Z"
    }
   },
   "outputs": [
    {
     "name": "stdout",
     "output_type": "stream",
     "text": [
      "Breshad Perriman\n"
     ]
    }
   ],
   "source": [
    "for p in df.PLAYER.values:\n",
    "    if 'Perriman' in p:\n",
    "        print(p)"
   ]
  },
  {
   "cell_type": "code",
   "execution_count": 82,
   "metadata": {
    "ExecuteTime": {
     "end_time": "2020-09-04T18:22:42.025829Z",
     "start_time": "2020-09-04T18:22:42.014077Z"
    }
   },
   "outputs": [
    {
     "data": {
      "text/plain": [
       "['Adrian Peterson',\n",
       " 'AJ Brown',\n",
       " 'Ronald Jones',\n",
       " 'Ezekiel Elliot ',\n",
       " 'Devante Parker ',\n",
       " 'N/a ',\n",
       " 'N/a ']"
      ]
     },
     "execution_count": 82,
     "metadata": {},
     "output_type": "execute_result"
    }
   ],
   "source": [
    "keeper_history.replace(to_replace='Brashad Perrimen', value='Breshad Perriman', inplace=True)\n",
    "keepers_2020 = keeper_history[keeper_history['Year'] == 2020].Player.dropna().values\n",
    "names_to_fix = check_names(keepers_2020, df.PLAYER.values)\n",
    "names_to_fix"
   ]
  },
  {
   "cell_type": "code",
   "execution_count": 85,
   "metadata": {
    "ExecuteTime": {
     "end_time": "2020-09-04T18:25:32.320057Z",
     "start_time": "2020-09-04T18:25:32.314831Z"
    }
   },
   "outputs": [
    {
     "name": "stdout",
     "output_type": "stream",
     "text": [
      "A.J. Brown\n",
      "Marquise Brown\n",
      "John Brown\n",
      "Malcolm Brown\n",
      "Equanimeous St. Brown\n",
      "Pharaoh Brown\n",
      "Daniel Brown\n",
      "Noah Brown\n",
      "Fred Brown\n"
     ]
    }
   ],
   "source": [
    "for p in df.PLAYER.values:\n",
    "    if 'Brown' in p:\n",
    "        print(p)"
   ]
  },
  {
   "cell_type": "code",
   "execution_count": 86,
   "metadata": {
    "ExecuteTime": {
     "end_time": "2020-09-04T18:26:13.740385Z",
     "start_time": "2020-09-04T18:26:13.729588Z"
    }
   },
   "outputs": [
    {
     "data": {
      "text/plain": [
       "['Adrian Peterson',\n",
       " 'Ronald Jones',\n",
       " 'Ezekiel Elliot ',\n",
       " 'Devante Parker ',\n",
       " 'N/a ',\n",
       " 'N/a ']"
      ]
     },
     "execution_count": 86,
     "metadata": {},
     "output_type": "execute_result"
    }
   ],
   "source": [
    "keeper_history.replace(to_replace='AJ Brown', value='A.J. Brown', inplace=True)\n",
    "keepers_2020 = keeper_history[keeper_history['Year'] == 2020].Player.dropna().values\n",
    "names_to_fix = check_names(keepers_2020, df.PLAYER.values)\n",
    "names_to_fix"
   ]
  },
  {
   "cell_type": "code",
   "execution_count": 87,
   "metadata": {
    "ExecuteTime": {
     "end_time": "2020-09-04T18:26:29.306442Z",
     "start_time": "2020-09-04T18:26:29.301022Z"
    }
   },
   "outputs": [
    {
     "name": "stdout",
     "output_type": "stream",
     "text": [
      "Julio Jones\n",
      "Aaron Jones\n",
      "Marvin Jones\n",
      "Ronald Jones II\n",
      "Daniel Jones\n",
      "Ricky Seals-Jones\n",
      "Tony Jones Jr.\n",
      "Taiwan Jones\n",
      "Donovan Peoples-Jones\n",
      "Zay Jones\n",
      "Andy Jones\n",
      "Tevin Jones\n"
     ]
    }
   ],
   "source": [
    "for p in df.PLAYER.values:\n",
    "    if 'Jones' in p:\n",
    "        print(p)"
   ]
  },
  {
   "cell_type": "code",
   "execution_count": 88,
   "metadata": {
    "ExecuteTime": {
     "end_time": "2020-09-04T18:27:04.349830Z",
     "start_time": "2020-09-04T18:27:04.338786Z"
    }
   },
   "outputs": [
    {
     "data": {
      "text/plain": [
       "['Adrian Peterson', 'Ezekiel Elliot ', 'Devante Parker ', 'N/a ', 'N/a ']"
      ]
     },
     "execution_count": 88,
     "metadata": {},
     "output_type": "execute_result"
    }
   ],
   "source": [
    "keeper_history.replace(to_replace='Ronald Jones', value='Ronald Jones II', inplace=True)\n",
    "keepers_2020 = keeper_history[keeper_history['Year'] == 2020].Player.dropna().values\n",
    "names_to_fix = check_names(keepers_2020, df.PLAYER.values)\n",
    "names_to_fix"
   ]
  },
  {
   "cell_type": "code",
   "execution_count": 89,
   "metadata": {
    "ExecuteTime": {
     "end_time": "2020-09-04T18:27:28.437964Z",
     "start_time": "2020-09-04T18:27:28.431394Z"
    }
   },
   "outputs": [
    {
     "name": "stdout",
     "output_type": "stream",
     "text": [
      "Ezekiel Elliott\n"
     ]
    }
   ],
   "source": [
    "for p in df.PLAYER.values:\n",
    "    if 'Ezekiel' in p:\n",
    "        print(p)"
   ]
  },
  {
   "cell_type": "code",
   "execution_count": 90,
   "metadata": {
    "ExecuteTime": {
     "end_time": "2020-09-04T18:27:59.217384Z",
     "start_time": "2020-09-04T18:27:59.206512Z"
    }
   },
   "outputs": [
    {
     "data": {
      "text/plain": [
       "['Adrian Peterson', 'Devante Parker ', 'N/a ', 'N/a ']"
      ]
     },
     "execution_count": 90,
     "metadata": {},
     "output_type": "execute_result"
    }
   ],
   "source": [
    "keeper_history.replace(to_replace='Ezekiel Elliot ', value='Ezekiel Elliott', inplace=True)\n",
    "keepers_2020 = keeper_history[keeper_history['Year'] == 2020].Player.dropna().values\n",
    "names_to_fix = check_names(keepers_2020, df.PLAYER.values)\n",
    "names_to_fix"
   ]
  },
  {
   "cell_type": "code",
   "execution_count": 91,
   "metadata": {
    "ExecuteTime": {
     "end_time": "2020-09-04T18:28:09.883939Z",
     "start_time": "2020-09-04T18:28:09.876547Z"
    }
   },
   "outputs": [
    {
     "name": "stdout",
     "output_type": "stream",
     "text": [
      "DeVante Parker\n"
     ]
    }
   ],
   "source": [
    "for p in df.PLAYER.values:\n",
    "    if 'Parker' in p:\n",
    "        print(p)"
   ]
  },
  {
   "cell_type": "code",
   "execution_count": 92,
   "metadata": {
    "ExecuteTime": {
     "end_time": "2020-09-04T18:29:30.401739Z",
     "start_time": "2020-09-04T18:29:30.389472Z"
    }
   },
   "outputs": [
    {
     "data": {
      "text/plain": [
       "['Adrian Peterson', 'N/a ', 'N/a ']"
      ]
     },
     "execution_count": 92,
     "metadata": {},
     "output_type": "execute_result"
    }
   ],
   "source": [
    "keeper_history.replace(to_replace='Devante Parker ', value='DeVante Parker', inplace=True)\n",
    "keepers_2020 = keeper_history[keeper_history['Year'] == 2020].Player.dropna().values\n",
    "names_to_fix = check_names(keepers_2020, df.PLAYER.values)\n",
    "names_to_fix"
   ]
  },
  {
   "cell_type": "code",
   "execution_count": 94,
   "metadata": {
    "ExecuteTime": {
     "end_time": "2020-09-04T18:30:01.052264Z",
     "start_time": "2020-09-04T18:30:01.046494Z"
    }
   },
   "outputs": [
    {
     "data": {
      "text/plain": [
       "array(['Davante Adams', 'George Kittle', 'D.J. Moore', 'D.J. Chark',\n",
       "       'JuJu Smith-Schuster', 'Lamar Jackson', 'Kenyan Drake',\n",
       "       'Raheem Mostert', 'Austin Ekeler', 'D.K. Metcalf',\n",
       "       'Breshad Perriman', 'Adrian Peterson', 'Mark Andrews',\n",
       "       'Terry McLaurin', 'A.J. Brown', 'James Conner', 'Tyreek Hill',\n",
       "       'Alvin Kamara', 'Ronald Jones II', 'Tyler Boyd', 'Derrick Henry',\n",
       "       'Chris Godwin', 'Joe Mixon', 'Aaron Jones', 'Ezekiel Elliott',\n",
       "       'Nick Chubb', 'DeVante Parker', 'N/a ', 'Dalvin Cook',\n",
       "       'Michael Thomas', 'Patrick Mahomes', 'N/a '], dtype=object)"
      ]
     },
     "execution_count": 94,
     "metadata": {},
     "output_type": "execute_result"
    }
   ],
   "source": [
    "# keepers cleaned\n",
    "keepers_2020"
   ]
  },
  {
   "cell_type": "markdown",
   "metadata": {},
   "source": [
    "# Last Year's Draft Picks"
   ]
  },
  {
   "cell_type": "code",
   "execution_count": 146,
   "metadata": {
    "ExecuteTime": {
     "end_time": "2020-09-04T19:08:42.573192Z",
     "start_time": "2020-09-04T19:08:42.559272Z"
    }
   },
   "outputs": [],
   "source": [
    "draft_19 = keeper_df['2019']"
   ]
  },
  {
   "cell_type": "code",
   "execution_count": 147,
   "metadata": {
    "ExecuteTime": {
     "end_time": "2020-09-04T19:08:43.254535Z",
     "start_time": "2020-09-04T19:08:43.241046Z"
    }
   },
   "outputs": [
    {
     "data": {
      "text/plain": [
       "Index(['Tony', 'Mike', 'Joey', 'Vlad', 'Dave', 'Chris', 'Matt', 'Ben'], dtype='object')"
      ]
     },
     "execution_count": 147,
     "metadata": {},
     "output_type": "execute_result"
    }
   ],
   "source": [
    "draft_19.columns[:8]"
   ]
  },
  {
   "cell_type": "code",
   "execution_count": 148,
   "metadata": {
    "ExecuteTime": {
     "end_time": "2020-09-04T19:08:43.926728Z",
     "start_time": "2020-09-04T19:08:43.911292Z"
    }
   },
   "outputs": [
    {
     "data": {
      "text/plain": [
       "Index(['Round 1', 'Round 2', 'Round 3', 'Round 4', 'Round 5', 'Round 6',\n",
       "       'Round 7', 'Round 8', 'Round 9', 'Round 10', 'Round 11', 'Round 12',\n",
       "       'Round 13', 'Round 14', 'Round 15', 'Round 16', 'Round 17', 'Round 18'],\n",
       "      dtype='object')"
      ]
     },
     "execution_count": 148,
     "metadata": {},
     "output_type": "execute_result"
    }
   ],
   "source": [
    "draft_19.index[:18]"
   ]
  },
  {
   "cell_type": "code",
   "execution_count": 149,
   "metadata": {
    "ExecuteTime": {
     "end_time": "2020-09-04T19:08:45.379722Z",
     "start_time": "2020-09-04T19:08:45.357851Z"
    }
   },
   "outputs": [
    {
     "data": {
      "text/html": [
       "<div>\n",
       "<style scoped>\n",
       "    .dataframe tbody tr th:only-of-type {\n",
       "        vertical-align: middle;\n",
       "    }\n",
       "\n",
       "    .dataframe tbody tr th {\n",
       "        vertical-align: top;\n",
       "    }\n",
       "\n",
       "    .dataframe thead th {\n",
       "        text-align: right;\n",
       "    }\n",
       "</style>\n",
       "<table border=\"1\" class=\"dataframe\">\n",
       "  <thead>\n",
       "    <tr style=\"text-align: right;\">\n",
       "      <th></th>\n",
       "      <th>Tony</th>\n",
       "      <th>Mike</th>\n",
       "      <th>Joey</th>\n",
       "      <th>Vlad</th>\n",
       "      <th>Dave</th>\n",
       "      <th>Chris</th>\n",
       "      <th>Matt</th>\n",
       "      <th>Ben</th>\n",
       "    </tr>\n",
       "  </thead>\n",
       "  <tbody>\n",
       "    <tr>\n",
       "      <th>Round 1</th>\n",
       "      <td>Saquon Barkely</td>\n",
       "      <td>Ezekiel Elliot</td>\n",
       "      <td>Deshaun Watson</td>\n",
       "      <td>Julio Jones</td>\n",
       "      <td>Todd Gurley</td>\n",
       "      <td>Travis Kelce</td>\n",
       "      <td>Antonio Brown</td>\n",
       "      <td>Christian McAffrey</td>\n",
       "    </tr>\n",
       "    <tr>\n",
       "      <th>Round 2</th>\n",
       "      <td>Adam Thielan</td>\n",
       "      <td>Josh Jacobs</td>\n",
       "      <td>Amari Cooper</td>\n",
       "      <td>Chris Carson</td>\n",
       "      <td>Zach Ertz</td>\n",
       "      <td>Dalvin Cook</td>\n",
       "      <td>LeVeon Bell</td>\n",
       "      <td>Keenan Allen</td>\n",
       "    </tr>\n",
       "    <tr>\n",
       "      <th>Round 3</th>\n",
       "      <td>David Montgomery</td>\n",
       "      <td>Sony Michel</td>\n",
       "      <td>Leornard Fournette</td>\n",
       "      <td>Mike Williams</td>\n",
       "      <td>Mark Ingram</td>\n",
       "      <td>Melvin Gordon</td>\n",
       "      <td>Derrick Henry</td>\n",
       "      <td>Kenny Golladay</td>\n",
       "    </tr>\n",
       "    <tr>\n",
       "      <th>Round 4</th>\n",
       "      <td>Brandin Cooks</td>\n",
       "      <td>Kerryon Johnson</td>\n",
       "      <td>Stefon Diggs</td>\n",
       "      <td>Chris Godwin</td>\n",
       "      <td>DeAndre Hopkins</td>\n",
       "      <td>Julian Edelman</td>\n",
       "      <td>TY Hilton</td>\n",
       "      <td>Derius Guice</td>\n",
       "    </tr>\n",
       "    <tr>\n",
       "      <th>Round 5</th>\n",
       "      <td>Tevin Coleman</td>\n",
       "      <td>Mike Evans</td>\n",
       "      <td>Austin Ekeler</td>\n",
       "      <td>Evan Engram</td>\n",
       "      <td>Tyler Boyd</td>\n",
       "      <td>Calvin Ridley</td>\n",
       "      <td>AJ Green</td>\n",
       "      <td>Tyler Lockett</td>\n",
       "    </tr>\n",
       "    <tr>\n",
       "      <th>Round 6</th>\n",
       "      <td>Allen Robinson</td>\n",
       "      <td>Robert Woods</td>\n",
       "      <td>Tony Pollard</td>\n",
       "      <td>Devin Singletary</td>\n",
       "      <td>Christian Kirk</td>\n",
       "      <td>Odell Beckham</td>\n",
       "      <td>L McCoy</td>\n",
       "      <td>Miles Sanders</td>\n",
       "    </tr>\n",
       "    <tr>\n",
       "      <th>Round 7</th>\n",
       "      <td>Aaron Rodgers</td>\n",
       "      <td>Robby Anderson</td>\n",
       "      <td>Jarvis Landry</td>\n",
       "      <td>Baker Mayfield</td>\n",
       "      <td>Duke Johnson</td>\n",
       "      <td>Alshon Jeffrey</td>\n",
       "      <td>Courtland Sutton</td>\n",
       "      <td>Cam Newton</td>\n",
       "    </tr>\n",
       "    <tr>\n",
       "      <th>Round 8</th>\n",
       "      <td>Jordan Howard</td>\n",
       "      <td>Marvin Jones Jr</td>\n",
       "      <td>Sammy Watkins</td>\n",
       "      <td>Darell Henderson</td>\n",
       "      <td>Russel Wilson</td>\n",
       "      <td>Dede Westbrook</td>\n",
       "      <td>Kenyan Drake</td>\n",
       "      <td>Latavius Murray</td>\n",
       "    </tr>\n",
       "    <tr>\n",
       "      <th>Round 9</th>\n",
       "      <td>Matt Breida</td>\n",
       "      <td>Vance McDonald</td>\n",
       "      <td>James White</td>\n",
       "      <td>Larry Fitzgerald</td>\n",
       "      <td>Tarik Cohen</td>\n",
       "      <td>Greg Zuerlin</td>\n",
       "      <td>Emmanuel Sanders</td>\n",
       "      <td>Jared Cook</td>\n",
       "    </tr>\n",
       "    <tr>\n",
       "      <th>Round 10</th>\n",
       "      <td>Devonta Freeman</td>\n",
       "      <td>Curtis Samuel</td>\n",
       "      <td>Geronimo Allison</td>\n",
       "      <td>Rashad Penny</td>\n",
       "      <td>Justin Tucker</td>\n",
       "      <td>Mike Thomas</td>\n",
       "      <td>James Washington</td>\n",
       "      <td>Kyler Murray</td>\n",
       "    </tr>\n",
       "    <tr>\n",
       "      <th>Round 11</th>\n",
       "      <td>Royce Freeman</td>\n",
       "      <td>Jared Goff</td>\n",
       "      <td>Bears</td>\n",
       "      <td>David Johnson</td>\n",
       "      <td>Rams</td>\n",
       "      <td>Kareem Hunt</td>\n",
       "      <td>Matt Ryan</td>\n",
       "      <td>Kennan Ballage</td>\n",
       "    </tr>\n",
       "    <tr>\n",
       "      <th>Round 12</th>\n",
       "      <td>Donte Moncrief</td>\n",
       "      <td>Nick Chubb</td>\n",
       "      <td>Stephen Gostowski</td>\n",
       "      <td>Justice Mill</td>\n",
       "      <td>Malcom Brown</td>\n",
       "      <td>Marques Valdez Scandling</td>\n",
       "      <td>Dante Pettis</td>\n",
       "      <td>Jaylen Samuels</td>\n",
       "    </tr>\n",
       "    <tr>\n",
       "      <th>Round 13</th>\n",
       "      <td>R Higgins</td>\n",
       "      <td>Mecole Hardman</td>\n",
       "      <td>Drew Brees</td>\n",
       "      <td>Ito Smith</td>\n",
       "      <td>Jamison Crowder</td>\n",
       "      <td>Patriots</td>\n",
       "      <td>James Conner</td>\n",
       "      <td>Tyrell Williams</td>\n",
       "    </tr>\n",
       "    <tr>\n",
       "      <th>Round 14</th>\n",
       "      <td>Davante Adams</td>\n",
       "      <td>Desean Jackson</td>\n",
       "      <td>A Miller</td>\n",
       "      <td>Will Lutz</td>\n",
       "      <td>Lamar Jackson</td>\n",
       "      <td>Carson Wentz</td>\n",
       "      <td>Browns</td>\n",
       "      <td>Tyreke Hill</td>\n",
       "    </tr>\n",
       "    <tr>\n",
       "      <th>Round 15</th>\n",
       "      <td>Harrison Butker</td>\n",
       "      <td>Darwin Thompson</td>\n",
       "      <td>Josh Gordon</td>\n",
       "      <td>Joe Mixon</td>\n",
       "      <td>Taylor Gabriel</td>\n",
       "      <td>David Njoku</td>\n",
       "      <td>DJ Metcalf</td>\n",
       "      <td>Delanie Walker</td>\n",
       "    </tr>\n",
       "    <tr>\n",
       "      <th>Round 16</th>\n",
       "      <td>Jaguars</td>\n",
       "      <td>Eagles</td>\n",
       "      <td>Cooper Kupp</td>\n",
       "      <td>Ravens</td>\n",
       "      <td>Will Fuller</td>\n",
       "      <td>Gio Bernard</td>\n",
       "      <td>JuJu Smith</td>\n",
       "      <td>Alvin Kamara</td>\n",
       "    </tr>\n",
       "    <tr>\n",
       "      <th>Round 17</th>\n",
       "      <td>Philip Lindsay</td>\n",
       "      <td>Kai Fairbarn</td>\n",
       "      <td>Sterling Shepard</td>\n",
       "      <td>Aaron Jones</td>\n",
       "      <td>Deebo Samuel</td>\n",
       "      <td>Damien Williams</td>\n",
       "      <td>Robbie Gould</td>\n",
       "      <td>Vikings</td>\n",
       "    </tr>\n",
       "    <tr>\n",
       "      <th>Round 18</th>\n",
       "      <td>George Kittle</td>\n",
       "      <td>DJ Moore</td>\n",
       "      <td>OJ Howard</td>\n",
       "      <td>Marlon Mack</td>\n",
       "      <td>Tyler Eifert</td>\n",
       "      <td>Patrick Mahomes</td>\n",
       "      <td>Hunter Henry</td>\n",
       "      <td>Mike Badgley</td>\n",
       "    </tr>\n",
       "  </tbody>\n",
       "</table>\n",
       "</div>"
      ],
      "text/plain": [
       "                      Tony             Mike                Joey  \\\n",
       "Round 1     Saquon Barkely   Ezekiel Elliot      Deshaun Watson   \n",
       "Round 2       Adam Thielan      Josh Jacobs        Amari Cooper   \n",
       "Round 3   David Montgomery      Sony Michel  Leornard Fournette   \n",
       "Round 4      Brandin Cooks  Kerryon Johnson        Stefon Diggs   \n",
       "Round 5      Tevin Coleman       Mike Evans       Austin Ekeler   \n",
       "Round 6     Allen Robinson     Robert Woods        Tony Pollard   \n",
       "Round 7      Aaron Rodgers   Robby Anderson       Jarvis Landry   \n",
       "Round 8      Jordan Howard  Marvin Jones Jr       Sammy Watkins   \n",
       "Round 9        Matt Breida   Vance McDonald         James White   \n",
       "Round 10   Devonta Freeman    Curtis Samuel    Geronimo Allison   \n",
       "Round 11     Royce Freeman       Jared Goff               Bears   \n",
       "Round 12    Donte Moncrief       Nick Chubb   Stephen Gostowski   \n",
       "Round 13         R Higgins   Mecole Hardman          Drew Brees   \n",
       "Round 14     Davante Adams   Desean Jackson            A Miller   \n",
       "Round 15   Harrison Butker  Darwin Thompson         Josh Gordon   \n",
       "Round 16           Jaguars           Eagles         Cooper Kupp   \n",
       "Round 17    Philip Lindsay     Kai Fairbarn    Sterling Shepard   \n",
       "Round 18     George Kittle         DJ Moore           OJ Howard   \n",
       "\n",
       "                      Vlad             Dave                     Chris  \\\n",
       "Round 1        Julio Jones      Todd Gurley              Travis Kelce   \n",
       "Round 2       Chris Carson        Zach Ertz               Dalvin Cook   \n",
       "Round 3      Mike Williams      Mark Ingram             Melvin Gordon   \n",
       "Round 4       Chris Godwin  DeAndre Hopkins            Julian Edelman   \n",
       "Round 5        Evan Engram       Tyler Boyd             Calvin Ridley   \n",
       "Round 6   Devin Singletary   Christian Kirk             Odell Beckham   \n",
       "Round 7     Baker Mayfield     Duke Johnson            Alshon Jeffrey   \n",
       "Round 8   Darell Henderson    Russel Wilson            Dede Westbrook   \n",
       "Round 9   Larry Fitzgerald      Tarik Cohen              Greg Zuerlin   \n",
       "Round 10      Rashad Penny    Justin Tucker               Mike Thomas   \n",
       "Round 11     David Johnson             Rams               Kareem Hunt   \n",
       "Round 12      Justice Mill     Malcom Brown  Marques Valdez Scandling   \n",
       "Round 13         Ito Smith  Jamison Crowder                  Patriots   \n",
       "Round 14         Will Lutz    Lamar Jackson              Carson Wentz   \n",
       "Round 15         Joe Mixon   Taylor Gabriel               David Njoku   \n",
       "Round 16            Ravens      Will Fuller               Gio Bernard   \n",
       "Round 17       Aaron Jones     Deebo Samuel           Damien Williams   \n",
       "Round 18       Marlon Mack     Tyler Eifert           Patrick Mahomes   \n",
       "\n",
       "                      Matt                 Ben  \n",
       "Round 1      Antonio Brown  Christian McAffrey  \n",
       "Round 2        LeVeon Bell        Keenan Allen  \n",
       "Round 3      Derrick Henry      Kenny Golladay  \n",
       "Round 4          TY Hilton        Derius Guice  \n",
       "Round 5           AJ Green       Tyler Lockett  \n",
       "Round 6            L McCoy       Miles Sanders  \n",
       "Round 7   Courtland Sutton          Cam Newton  \n",
       "Round 8       Kenyan Drake     Latavius Murray  \n",
       "Round 9   Emmanuel Sanders          Jared Cook  \n",
       "Round 10  James Washington        Kyler Murray  \n",
       "Round 11         Matt Ryan      Kennan Ballage  \n",
       "Round 12      Dante Pettis      Jaylen Samuels  \n",
       "Round 13      James Conner     Tyrell Williams  \n",
       "Round 14            Browns         Tyreke Hill  \n",
       "Round 15        DJ Metcalf      Delanie Walker  \n",
       "Round 16        JuJu Smith        Alvin Kamara  \n",
       "Round 17      Robbie Gould             Vikings  \n",
       "Round 18      Hunter Henry        Mike Badgley  "
      ]
     },
     "execution_count": 149,
     "metadata": {},
     "output_type": "execute_result"
    }
   ],
   "source": [
    "draft_19 = draft_19.iloc[:18, :8]\n",
    "draft_19"
   ]
  },
  {
   "cell_type": "code",
   "execution_count": 150,
   "metadata": {
    "ExecuteTime": {
     "end_time": "2020-09-04T19:08:55.010348Z",
     "start_time": "2020-09-04T19:08:55.006738Z"
    }
   },
   "outputs": [],
   "source": [
    "all_players_19 = draft_19.values.flatten()"
   ]
  },
  {
   "cell_type": "code",
   "execution_count": 151,
   "metadata": {
    "ExecuteTime": {
     "end_time": "2020-09-04T19:09:00.303576Z",
     "start_time": "2020-09-04T19:09:00.296488Z"
    }
   },
   "outputs": [],
   "source": [
    "names_to_fix = check_names(all_players_19, df.PLAYER.values)"
   ]
  },
  {
   "cell_type": "code",
   "execution_count": 152,
   "metadata": {
    "ExecuteTime": {
     "end_time": "2020-09-04T19:09:01.370287Z",
     "start_time": "2020-09-04T19:09:01.363423Z"
    }
   },
   "outputs": [
    {
     "data": {
      "text/plain": [
       "['Saquon Barkely',\n",
       " 'Ezekiel Elliot',\n",
       " 'Antonio Brown',\n",
       " 'Christian McAffrey',\n",
       " 'Adam Thielan',\n",
       " 'LeVeon Bell',\n",
       " 'Leornard Fournette',\n",
       " 'Mark Ingram',\n",
       " 'TY Hilton',\n",
       " 'Derius Guice',\n",
       " 'AJ Green',\n",
       " 'Odell Beckham',\n",
       " 'L McCoy',\n",
       " 'Alshon Jeffrey',\n",
       " 'Marvin Jones Jr',\n",
       " 'Darell Henderson',\n",
       " 'Russel Wilson',\n",
       " 'Greg Zuerlin',\n",
       " 'Devonta Freeman',\n",
       " 'Geronimo Allison',\n",
       " 'Rashad Penny',\n",
       " 'Justin Tucker',\n",
       " 'Bears',\n",
       " 'Rams',\n",
       " 'Kennan Ballage',\n",
       " 'Stephen Gostowski',\n",
       " 'Justice Mill',\n",
       " 'Malcom Brown',\n",
       " 'Marques Valdez Scandling',\n",
       " 'R Higgins',\n",
       " 'Patriots',\n",
       " 'Tyrell Williams',\n",
       " 'Desean Jackson',\n",
       " 'A Miller',\n",
       " 'Will Lutz',\n",
       " 'Browns',\n",
       " 'Tyreke Hill',\n",
       " 'Harrison Butker',\n",
       " 'Josh Gordon',\n",
       " 'Taylor Gabriel',\n",
       " 'DJ Metcalf',\n",
       " 'Delanie Walker',\n",
       " 'Jaguars',\n",
       " 'Eagles',\n",
       " 'Ravens',\n",
       " 'Gio Bernard',\n",
       " 'JuJu Smith',\n",
       " 'Philip Lindsay',\n",
       " 'Kai Fairbarn',\n",
       " 'Damien Williams',\n",
       " 'Robbie Gould',\n",
       " 'Vikings',\n",
       " 'DJ Moore',\n",
       " 'OJ Howard',\n",
       " 'Mike Badgley']"
      ]
     },
     "execution_count": 152,
     "metadata": {},
     "output_type": "execute_result"
    }
   ],
   "source": [
    "names_to_fix"
   ]
  },
  {
   "cell_type": "code",
   "execution_count": 153,
   "metadata": {
    "ExecuteTime": {
     "end_time": "2020-09-04T19:09:16.567271Z",
     "start_time": "2020-09-04T19:09:16.561702Z"
    }
   },
   "outputs": [
    {
     "data": {
      "text/plain": [
       "55"
      ]
     },
     "execution_count": 153,
     "metadata": {},
     "output_type": "execute_result"
    }
   ],
   "source": [
    "len(names_to_fix)"
   ]
  },
  {
   "cell_type": "code",
   "execution_count": 156,
   "metadata": {
    "ExecuteTime": {
     "end_time": "2020-09-04T19:10:47.942512Z",
     "start_time": "2020-09-04T19:10:47.938280Z"
    }
   },
   "outputs": [],
   "source": [
    "keeper_replacements = [\n",
    "    ('DJ Moore', 'D.J. Moore'), \n",
    "    ('DJ Chark', 'D.J. Chark'),\n",
    "    ('Juju Smith Schuster', 'JuJu Smith-Schuster'),\n",
    "    ('DK Metcalf', 'D.K. Metcalf'),\n",
    "    ('Brashad Perrimen', 'Breshad Perriman'),\n",
    "    ('AJ Brown', 'A.J. Brown'),\n",
    "    ('Ronald Jones', 'Ronald Jones II'),\n",
    "    ('Ezekiel Elliot', 'Ezekiel Elliott'),\n",
    "    ('Devante Parker', 'DeVante Parker')\n",
    "]"
   ]
  },
  {
   "cell_type": "code",
   "execution_count": 157,
   "metadata": {
    "ExecuteTime": {
     "end_time": "2020-09-04T19:10:48.477558Z",
     "start_time": "2020-09-04T19:10:48.472819Z"
    }
   },
   "outputs": [
    {
     "name": "stdout",
     "output_type": "stream",
     "text": [
      "DJ Moore\n",
      "Ezekiel Elliot\n"
     ]
    }
   ],
   "source": [
    "original_keepers = [p[0] for p in keeper_replacements]\n",
    "\n",
    "for p in original_keepers:\n",
    "    if p in names_to_fix:\n",
    "        print(p)"
   ]
  },
  {
   "cell_type": "code",
   "execution_count": 158,
   "metadata": {
    "ExecuteTime": {
     "end_time": "2020-09-04T19:12:08.383560Z",
     "start_time": "2020-09-04T19:12:08.345932Z"
    }
   },
   "outputs": [
    {
     "data": {
      "text/plain": [
       "53"
      ]
     },
     "execution_count": 158,
     "metadata": {},
     "output_type": "execute_result"
    }
   ],
   "source": [
    "for p in keeper_replacements:\n",
    "    draft_19.replace(to_replace=p[0], value=p[1], inplace=True)\n",
    "\n",
    "all_players_19 = draft_19.values.flatten()\n",
    "    \n",
    "names_to_fix = check_names(all_players_19, df.PLAYER.values)\n",
    "len(names_to_fix)"
   ]
  },
  {
   "cell_type": "code",
   "execution_count": 164,
   "metadata": {
    "ExecuteTime": {
     "end_time": "2020-09-04T19:22:23.162699Z",
     "start_time": "2020-09-04T19:22:23.156002Z"
    },
    "scrolled": true
   },
   "outputs": [
    {
     "data": {
      "text/plain": [
       "['Saquon Barkely',\n",
       " 'Antonio Brown',\n",
       " 'Christian McAffrey',\n",
       " 'Adam Thielan',\n",
       " 'LeVeon Bell',\n",
       " 'Leornard Fournette',\n",
       " 'Mark Ingram',\n",
       " 'TY Hilton',\n",
       " 'Derius Guice',\n",
       " 'AJ Green',\n",
       " 'Odell Beckham',\n",
       " 'L McCoy',\n",
       " 'Alshon Jeffrey',\n",
       " 'Marvin Jones Jr',\n",
       " 'Darell Henderson',\n",
       " 'Russel Wilson',\n",
       " 'Greg Zuerlin',\n",
       " 'Devonta Freeman',\n",
       " 'Geronimo Allison',\n",
       " 'Rashad Penny',\n",
       " 'Justin Tucker',\n",
       " 'Bears',\n",
       " 'Rams',\n",
       " 'Kennan Ballage',\n",
       " 'Stephen Gostowski',\n",
       " 'Justice Mill',\n",
       " 'Malcom Brown',\n",
       " 'Marques Valdez Scandling',\n",
       " 'R Higgins',\n",
       " 'Patriots',\n",
       " 'Tyrell Williams',\n",
       " 'Desean Jackson',\n",
       " 'A Miller',\n",
       " 'Will Lutz',\n",
       " 'Browns',\n",
       " 'Tyreke Hill',\n",
       " 'Harrison Butker',\n",
       " 'Josh Gordon',\n",
       " 'Taylor Gabriel',\n",
       " 'DJ Metcalf',\n",
       " 'Delanie Walker',\n",
       " 'Jaguars',\n",
       " 'Eagles',\n",
       " 'Ravens',\n",
       " 'Gio Bernard',\n",
       " 'JuJu Smith',\n",
       " 'Philip Lindsay',\n",
       " 'Kai Fairbarn',\n",
       " 'Damien Williams',\n",
       " 'Robbie Gould',\n",
       " 'Vikings',\n",
       " 'OJ Howard',\n",
       " 'Mike Badgley']"
      ]
     },
     "execution_count": 164,
     "metadata": {},
     "output_type": "execute_result"
    }
   ],
   "source": [
    "names_to_fix"
   ]
  },
  {
   "cell_type": "code",
   "execution_count": 161,
   "metadata": {
    "ExecuteTime": {
     "end_time": "2020-09-04T19:20:24.702697Z",
     "start_time": "2020-09-04T19:20:24.698665Z"
    }
   },
   "outputs": [],
   "source": [
    "def find_name(name, source=df.PLAYER.values):\n",
    "    for p in source:\n",
    "        if name in p:\n",
    "            print(p)"
   ]
  },
  {
   "cell_type": "code",
   "execution_count": 163,
   "metadata": {
    "ExecuteTime": {
     "end_time": "2020-09-04T19:21:09.447319Z",
     "start_time": "2020-09-04T19:21:09.442033Z"
    }
   },
   "outputs": [
    {
     "name": "stdout",
     "output_type": "stream",
     "text": [
      "Saquon Barkley\n"
     ]
    }
   ],
   "source": [
    "find_name('Saquon')"
   ]
  },
  {
   "cell_type": "code",
   "execution_count": 165,
   "metadata": {
    "ExecuteTime": {
     "end_time": "2020-09-04T19:24:01.325342Z",
     "start_time": "2020-09-04T19:24:01.320976Z"
    }
   },
   "outputs": [],
   "source": [
    "def name_replacer(wrong_name, correct_name, data=draft_19):\n",
    "    data.replace(to_replace=wrong_name, value=correct_name, inplace=True)"
   ]
  },
  {
   "cell_type": "code",
   "execution_count": 166,
   "metadata": {
    "ExecuteTime": {
     "end_time": "2020-09-04T19:24:40.640058Z",
     "start_time": "2020-09-04T19:24:40.634018Z"
    }
   },
   "outputs": [],
   "source": [
    "name_replacer('Saquon Barkely', 'Saquon Barkley')"
   ]
  },
  {
   "cell_type": "code",
   "execution_count": 167,
   "metadata": {
    "ExecuteTime": {
     "end_time": "2020-09-04T19:25:03.307178Z",
     "start_time": "2020-09-04T19:25:03.298771Z"
    }
   },
   "outputs": [
    {
     "data": {
      "text/plain": [
       "52"
      ]
     },
     "execution_count": 167,
     "metadata": {},
     "output_type": "execute_result"
    }
   ],
   "source": [
    "all_players_19 = draft_19.values.flatten()    \n",
    "names_to_fix = check_names(all_players_19, df.PLAYER.values)\n",
    "len(names_to_fix)"
   ]
  },
  {
   "cell_type": "code",
   "execution_count": 169,
   "metadata": {
    "ExecuteTime": {
     "end_time": "2020-09-04T19:27:38.705906Z",
     "start_time": "2020-09-04T19:27:38.690285Z"
    }
   },
   "outputs": [
    {
     "name": "stdout",
     "output_type": "stream",
     "text": [
      "Christian McCaffrey\n",
      "Christian Kirk\n",
      "Christian Blake\n"
     ]
    }
   ],
   "source": [
    "find_name('Christian')"
   ]
  },
  {
   "cell_type": "code",
   "execution_count": 170,
   "metadata": {
    "ExecuteTime": {
     "end_time": "2020-09-04T19:29:13.181469Z",
     "start_time": "2020-09-04T19:29:13.175913Z"
    }
   },
   "outputs": [],
   "source": [
    "name_replacer('Christian McAffrey', 'Christian McCaffrey')"
   ]
  },
  {
   "cell_type": "code",
   "execution_count": 173,
   "metadata": {
    "ExecuteTime": {
     "end_time": "2020-09-04T19:29:44.504587Z",
     "start_time": "2020-09-04T19:29:44.500047Z"
    }
   },
   "outputs": [
    {
     "name": "stdout",
     "output_type": "stream",
     "text": [
      "Davante Adams\n",
      "Adam Thielen\n",
      "Adam Humphries\n",
      "Adam Shaheen\n",
      "Adam Trautman\n",
      "Jerell Adams\n",
      "Josh Adams\n"
     ]
    }
   ],
   "source": [
    "find_name('Adam')"
   ]
  },
  {
   "cell_type": "code",
   "execution_count": 174,
   "metadata": {
    "ExecuteTime": {
     "end_time": "2020-09-04T19:30:45.345466Z",
     "start_time": "2020-09-04T19:30:45.339496Z"
    }
   },
   "outputs": [],
   "source": [
    "name_replacer('Adam Thielan', 'Adam Thielen')"
   ]
  },
  {
   "cell_type": "code",
   "execution_count": 175,
   "metadata": {
    "ExecuteTime": {
     "end_time": "2020-09-04T19:31:06.346532Z",
     "start_time": "2020-09-04T19:31:06.341748Z"
    }
   },
   "outputs": [
    {
     "name": "stdout",
     "output_type": "stream",
     "text": [
      "Le'Veon Bell\n",
      "Blake Bell\n",
      "Nick Bellore\n",
      "Josh Bellamy\n"
     ]
    }
   ],
   "source": [
    "find_name('Bell')"
   ]
  },
  {
   "cell_type": "code",
   "execution_count": 176,
   "metadata": {
    "ExecuteTime": {
     "end_time": "2020-09-04T19:31:46.134091Z",
     "start_time": "2020-09-04T19:31:46.128230Z"
    }
   },
   "outputs": [],
   "source": [
    "name_replacer('LeVeon Bell', \"Le'Veon Bell\")"
   ]
  },
  {
   "cell_type": "code",
   "execution_count": 178,
   "metadata": {
    "ExecuteTime": {
     "end_time": "2020-09-04T19:32:16.126059Z",
     "start_time": "2020-09-04T19:32:16.116154Z"
    }
   },
   "outputs": [
    {
     "data": {
      "text/plain": [
       "49"
      ]
     },
     "execution_count": 178,
     "metadata": {},
     "output_type": "execute_result"
    }
   ],
   "source": [
    "all_players_19 = draft_19.values.flatten()    \n",
    "names_to_fix = check_names(all_players_19, df.PLAYER.values)\n",
    "len(names_to_fix)"
   ]
  },
  {
   "cell_type": "code",
   "execution_count": 179,
   "metadata": {
    "ExecuteTime": {
     "end_time": "2020-09-04T19:32:27.297932Z",
     "start_time": "2020-09-04T19:32:27.292500Z"
    }
   },
   "outputs": [
    {
     "data": {
      "text/plain": [
       "['Antonio Brown',\n",
       " 'Leornard Fournette',\n",
       " 'Mark Ingram',\n",
       " 'TY Hilton',\n",
       " 'Derius Guice']"
      ]
     },
     "execution_count": 179,
     "metadata": {},
     "output_type": "execute_result"
    }
   ],
   "source": [
    "names_to_fix[:5]"
   ]
  },
  {
   "cell_type": "code",
   "execution_count": 180,
   "metadata": {
    "ExecuteTime": {
     "end_time": "2020-09-04T19:33:14.110046Z",
     "start_time": "2020-09-04T19:33:14.105485Z"
    }
   },
   "outputs": [
    {
     "name": "stdout",
     "output_type": "stream",
     "text": [
      "Leonard Fournette\n"
     ]
    }
   ],
   "source": [
    "find_name('Fournette')"
   ]
  },
  {
   "cell_type": "code",
   "execution_count": 181,
   "metadata": {
    "ExecuteTime": {
     "end_time": "2020-09-04T19:33:55.949519Z",
     "start_time": "2020-09-04T19:33:55.944325Z"
    }
   },
   "outputs": [],
   "source": [
    "name_replacer('Leornard Fournette', 'Leonard Fournette')"
   ]
  },
  {
   "cell_type": "code",
   "execution_count": 182,
   "metadata": {
    "ExecuteTime": {
     "end_time": "2020-09-04T19:34:07.313502Z",
     "start_time": "2020-09-04T19:34:07.307873Z"
    }
   },
   "outputs": [
    {
     "name": "stdout",
     "output_type": "stream",
     "text": [
      "Mark Ingram II\n"
     ]
    }
   ],
   "source": [
    "find_name('Ingram')"
   ]
  },
  {
   "cell_type": "code",
   "execution_count": 184,
   "metadata": {
    "ExecuteTime": {
     "end_time": "2020-09-04T19:34:47.474753Z",
     "start_time": "2020-09-04T19:34:47.469828Z"
    }
   },
   "outputs": [],
   "source": [
    "name_replacer('Mark Ingram','Mark Ingram II')"
   ]
  },
  {
   "cell_type": "code",
   "execution_count": 185,
   "metadata": {
    "ExecuteTime": {
     "end_time": "2020-09-04T19:35:13.287138Z",
     "start_time": "2020-09-04T19:35:13.282427Z"
    }
   },
   "outputs": [
    {
     "name": "stdout",
     "output_type": "stream",
     "text": [
      "T.Y. Hilton\n"
     ]
    }
   ],
   "source": [
    "find_name('Hilton')"
   ]
  },
  {
   "cell_type": "code",
   "execution_count": 186,
   "metadata": {
    "ExecuteTime": {
     "end_time": "2020-09-04T19:35:32.789064Z",
     "start_time": "2020-09-04T19:35:32.783476Z"
    }
   },
   "outputs": [],
   "source": [
    "name_replacer('TY Hilton','T.Y. Hilton')"
   ]
  },
  {
   "cell_type": "code",
   "execution_count": 189,
   "metadata": {
    "ExecuteTime": {
     "end_time": "2020-09-04T19:37:06.901399Z",
     "start_time": "2020-09-04T19:37:06.897500Z"
    }
   },
   "outputs": [],
   "source": [
    "find_name('Guice')"
   ]
  },
  {
   "cell_type": "code",
   "execution_count": 190,
   "metadata": {
    "ExecuteTime": {
     "end_time": "2020-09-04T19:41:21.309216Z",
     "start_time": "2020-09-04T19:41:21.302972Z"
    }
   },
   "outputs": [],
   "source": [
    "name_replacer('Derius Guice','Derrius Guice')"
   ]
  },
  {
   "cell_type": "code",
   "execution_count": 191,
   "metadata": {
    "ExecuteTime": {
     "end_time": "2020-09-04T19:42:36.614781Z",
     "start_time": "2020-09-04T19:42:36.604521Z"
    }
   },
   "outputs": [
    {
     "data": {
      "text/plain": [
       "['Antonio Brown', 'Derrius Guice', 'AJ Green', 'Odell Beckham', 'L McCoy']"
      ]
     },
     "execution_count": 191,
     "metadata": {},
     "output_type": "execute_result"
    }
   ],
   "source": [
    "all_players_19 = draft_19.values.flatten()    \n",
    "names_to_fix = check_names(all_players_19, df.PLAYER.values)\n",
    "len(names_to_fix)\n",
    "names_to_fix[:5]"
   ]
  },
  {
   "cell_type": "code",
   "execution_count": 192,
   "metadata": {
    "ExecuteTime": {
     "end_time": "2020-09-04T19:44:54.223372Z",
     "start_time": "2020-09-04T19:44:54.219440Z"
    }
   },
   "outputs": [
    {
     "name": "stdout",
     "output_type": "stream",
     "text": [
      "A.J. Green\n",
      "Virgil Green\n"
     ]
    }
   ],
   "source": [
    "find_name('Green')"
   ]
  },
  {
   "cell_type": "code",
   "execution_count": 193,
   "metadata": {
    "ExecuteTime": {
     "end_time": "2020-09-04T19:45:29.614622Z",
     "start_time": "2020-09-04T19:45:29.609706Z"
    }
   },
   "outputs": [],
   "source": [
    "name_replacer('AJ Green', 'A.J. Green')"
   ]
  },
  {
   "cell_type": "code",
   "execution_count": 194,
   "metadata": {
    "ExecuteTime": {
     "end_time": "2020-09-04T19:45:38.863489Z",
     "start_time": "2020-09-04T19:45:38.858989Z"
    }
   },
   "outputs": [
    {
     "name": "stdout",
     "output_type": "stream",
     "text": [
      "Odell Beckham Jr.\n"
     ]
    }
   ],
   "source": [
    "find_name('Odell')"
   ]
  },
  {
   "cell_type": "code",
   "execution_count": 195,
   "metadata": {
    "ExecuteTime": {
     "end_time": "2020-09-04T19:45:59.787990Z",
     "start_time": "2020-09-04T19:45:59.778115Z"
    }
   },
   "outputs": [],
   "source": [
    "name_replacer('Odell Beckham','Odell Beckham Jr.')"
   ]
  },
  {
   "cell_type": "code",
   "execution_count": 196,
   "metadata": {
    "ExecuteTime": {
     "end_time": "2020-09-04T19:46:20.877415Z",
     "start_time": "2020-09-04T19:46:20.872263Z"
    }
   },
   "outputs": [
    {
     "name": "stdout",
     "output_type": "stream",
     "text": [
      "LeSean McCoy\n",
      "Colt McCoy\n"
     ]
    }
   ],
   "source": [
    "find_name('McCoy')"
   ]
  },
  {
   "cell_type": "code",
   "execution_count": 197,
   "metadata": {
    "ExecuteTime": {
     "end_time": "2020-09-04T19:46:48.480504Z",
     "start_time": "2020-09-04T19:46:48.474386Z"
    }
   },
   "outputs": [],
   "source": [
    "name_replacer('L McCoy', 'LeSean McCoy')"
   ]
  },
  {
   "cell_type": "code",
   "execution_count": 198,
   "metadata": {
    "ExecuteTime": {
     "end_time": "2020-09-04T19:47:06.282867Z",
     "start_time": "2020-09-04T19:47:06.272946Z"
    }
   },
   "outputs": [
    {
     "data": {
      "text/plain": [
       "['Alshon Jeffrey',\n",
       " 'Marvin Jones Jr',\n",
       " 'Darell Henderson',\n",
       " 'Russel Wilson',\n",
       " 'Greg Zuerlin']"
      ]
     },
     "execution_count": 198,
     "metadata": {},
     "output_type": "execute_result"
    }
   ],
   "source": [
    "all_players_19 = draft_19.values.flatten()    \n",
    "names_to_fix = check_names(all_players_19, df.PLAYER.values)\n",
    "len(names_to_fix)\n",
    "names_to_fix[2:7]"
   ]
  },
  {
   "cell_type": "code",
   "execution_count": 199,
   "metadata": {
    "ExecuteTime": {
     "end_time": "2020-09-04T19:47:25.301838Z",
     "start_time": "2020-09-04T19:47:25.286303Z"
    }
   },
   "outputs": [
    {
     "name": "stdout",
     "output_type": "stream",
     "text": [
      "Alshon Jeffery\n"
     ]
    }
   ],
   "source": [
    "find_name('Alshon')"
   ]
  },
  {
   "cell_type": "code",
   "execution_count": 200,
   "metadata": {
    "ExecuteTime": {
     "end_time": "2020-09-04T19:47:52.466562Z",
     "start_time": "2020-09-04T19:47:52.461372Z"
    }
   },
   "outputs": [],
   "source": [
    "name_replacer('Alshon Jeffrey', 'Alshon Jeffery')"
   ]
  },
  {
   "cell_type": "code",
   "execution_count": 201,
   "metadata": {
    "ExecuteTime": {
     "end_time": "2020-09-04T19:48:01.967286Z",
     "start_time": "2020-09-04T19:48:01.961434Z"
    }
   },
   "outputs": [
    {
     "name": "stdout",
     "output_type": "stream",
     "text": [
      "Julio Jones\n",
      "Aaron Jones\n",
      "Marvin Jones\n",
      "Ronald Jones II\n",
      "Daniel Jones\n",
      "Ricky Seals-Jones\n",
      "Tony Jones Jr.\n",
      "Taiwan Jones\n",
      "Donovan Peoples-Jones\n",
      "Zay Jones\n",
      "Andy Jones\n",
      "Tevin Jones\n"
     ]
    }
   ],
   "source": [
    "find_name('Jones')"
   ]
  },
  {
   "cell_type": "code",
   "execution_count": 202,
   "metadata": {
    "ExecuteTime": {
     "end_time": "2020-09-04T19:48:54.018110Z",
     "start_time": "2020-09-04T19:48:54.011904Z"
    }
   },
   "outputs": [],
   "source": [
    "name_replacer('Marvin Jones Jr','Marvin Jones')"
   ]
  },
  {
   "cell_type": "code",
   "execution_count": 203,
   "metadata": {
    "ExecuteTime": {
     "end_time": "2020-09-04T19:49:04.483102Z",
     "start_time": "2020-09-04T19:49:04.477545Z"
    }
   },
   "outputs": [
    {
     "name": "stdout",
     "output_type": "stream",
     "text": [
      "Darrell Henderson\n"
     ]
    }
   ],
   "source": [
    "find_name('Henderson')"
   ]
  },
  {
   "cell_type": "code",
   "execution_count": 204,
   "metadata": {
    "ExecuteTime": {
     "end_time": "2020-09-04T19:49:36.132421Z",
     "start_time": "2020-09-04T19:49:36.125531Z"
    }
   },
   "outputs": [],
   "source": [
    "name_replacer('Darell Henderson', 'Darrell Henderson')"
   ]
  },
  {
   "cell_type": "code",
   "execution_count": 206,
   "metadata": {
    "ExecuteTime": {
     "end_time": "2020-09-04T19:49:51.331494Z",
     "start_time": "2020-09-04T19:49:51.326587Z"
    }
   },
   "outputs": [
    {
     "name": "stdout",
     "output_type": "stream",
     "text": [
      "Russell Wilson\n",
      "Jeff Wilson\n",
      "Cedrick Wilson\n"
     ]
    }
   ],
   "source": [
    "find_name('Wilson')"
   ]
  },
  {
   "cell_type": "code",
   "execution_count": 207,
   "metadata": {
    "ExecuteTime": {
     "end_time": "2020-09-04T19:50:22.620935Z",
     "start_time": "2020-09-04T19:50:22.614868Z"
    }
   },
   "outputs": [],
   "source": [
    "name_replacer('Russel Wilson','Russell Wilson')"
   ]
  },
  {
   "cell_type": "code",
   "execution_count": 209,
   "metadata": {
    "ExecuteTime": {
     "end_time": "2020-09-04T19:51:02.195906Z",
     "start_time": "2020-09-04T19:51:02.191676Z"
    }
   },
   "outputs": [],
   "source": [
    "find_name('Zuerlein')"
   ]
  },
  {
   "cell_type": "code",
   "execution_count": 210,
   "metadata": {
    "ExecuteTime": {
     "end_time": "2020-09-04T19:51:59.701070Z",
     "start_time": "2020-09-04T19:51:59.691815Z"
    }
   },
   "outputs": [
    {
     "data": {
      "text/plain": [
       "39"
      ]
     },
     "execution_count": 210,
     "metadata": {},
     "output_type": "execute_result"
    }
   ],
   "source": [
    "all_players_19 = draft_19.values.flatten()    \n",
    "names_to_fix = check_names(all_players_19, df.PLAYER.values)\n",
    "len(names_to_fix)"
   ]
  },
  {
   "cell_type": "code",
   "execution_count": 213,
   "metadata": {
    "ExecuteTime": {
     "end_time": "2020-09-04T19:52:28.486024Z",
     "start_time": "2020-09-04T19:52:28.479830Z"
    }
   },
   "outputs": [
    {
     "data": {
      "text/plain": [
       "['Devonta Freeman',\n",
       " 'Geronimo Allison',\n",
       " 'Rashad Penny',\n",
       " 'Justin Tucker',\n",
       " 'Bears']"
      ]
     },
     "execution_count": 213,
     "metadata": {},
     "output_type": "execute_result"
    }
   ],
   "source": [
    "names_to_fix[3:8]"
   ]
  },
  {
   "cell_type": "code",
   "execution_count": 216,
   "metadata": {
    "ExecuteTime": {
     "end_time": "2020-09-04T19:53:02.272744Z",
     "start_time": "2020-09-04T19:53:02.268010Z"
    }
   },
   "outputs": [
    {
     "name": "stdout",
     "output_type": "stream",
     "text": [
      "Devontae Booker\n"
     ]
    }
   ],
   "source": [
    "find_name('Devonta')"
   ]
  },
  {
   "cell_type": "code",
   "execution_count": 217,
   "metadata": {
    "ExecuteTime": {
     "end_time": "2020-09-04T19:55:30.589693Z",
     "start_time": "2020-09-04T19:55:30.583851Z"
    }
   },
   "outputs": [
    {
     "data": {
      "text/plain": [
       "['Antonio Brown',\n",
       " 'Derrius Guice',\n",
       " 'Greg Zuerlin',\n",
       " 'Devonta Freeman',\n",
       " 'Geronimo Allison',\n",
       " 'Rashad Penny',\n",
       " 'Justin Tucker',\n",
       " 'Bears',\n",
       " 'Rams',\n",
       " 'Kennan Ballage']"
      ]
     },
     "execution_count": 217,
     "metadata": {},
     "output_type": "execute_result"
    }
   ],
   "source": [
    "names_to_fix[:10]"
   ]
  },
  {
   "cell_type": "code",
   "execution_count": 220,
   "metadata": {
    "ExecuteTime": {
     "end_time": "2020-09-04T20:00:08.657927Z",
     "start_time": "2020-09-04T20:00:08.654843Z"
    }
   },
   "outputs": [],
   "source": [
    "unsigned_fa = ['Devonta Freeman','Antonio Brown','Derrius Guice']\n",
    "kickers = ['Greg Zuerlin']\n",
    "defenses = ['Bears','Rams']"
   ]
  },
  {
   "cell_type": "code",
   "execution_count": 221,
   "metadata": {
    "ExecuteTime": {
     "end_time": "2020-09-04T20:00:14.387334Z",
     "start_time": "2020-09-04T20:00:14.381420Z"
    }
   },
   "outputs": [],
   "source": [
    "names_to_fix = np.setdiff1d(names_to_fix, unsigned_fa)"
   ]
  },
  {
   "cell_type": "code",
   "execution_count": 222,
   "metadata": {
    "ExecuteTime": {
     "end_time": "2020-09-04T20:00:21.444070Z",
     "start_time": "2020-09-04T20:00:21.438556Z"
    }
   },
   "outputs": [
    {
     "data": {
      "text/plain": [
       "array(['A Miller', 'Bears', 'Browns', 'DJ Metcalf', 'Damien Williams',\n",
       "       'Delanie Walker', 'Desean Jackson', 'Eagles', 'Geronimo Allison',\n",
       "       'Gio Bernard'], dtype='<U24')"
      ]
     },
     "execution_count": 222,
     "metadata": {},
     "output_type": "execute_result"
    }
   ],
   "source": [
    "names_to_fix[:10]"
   ]
  },
  {
   "cell_type": "code",
   "execution_count": 223,
   "metadata": {
    "ExecuteTime": {
     "end_time": "2020-09-04T20:00:45.148044Z",
     "start_time": "2020-09-04T20:00:45.122418Z"
    }
   },
   "outputs": [
    {
     "data": {
      "text/plain": [
       "36"
      ]
     },
     "execution_count": 223,
     "metadata": {},
     "output_type": "execute_result"
    }
   ],
   "source": [
    "len(names_to_fix)"
   ]
  },
  {
   "cell_type": "code",
   "execution_count": 224,
   "metadata": {
    "ExecuteTime": {
     "end_time": "2020-09-04T20:02:41.634286Z",
     "start_time": "2020-09-04T20:02:41.617684Z"
    }
   },
   "outputs": [],
   "source": [
    "def remove_fa_k_dst(main_list, fa, k, dst):\n",
    "    main_list = np.setdiff1d(main_list, fa)\n",
    "    main_list = np.setdiff1d(main_list, k)\n",
    "    main_list = np.setdiff1d(main_list, dst)\n",
    "    return main_list\n",
    "    "
   ]
  },
  {
   "cell_type": "code",
   "execution_count": 225,
   "metadata": {
    "ExecuteTime": {
     "end_time": "2020-09-04T20:02:53.624602Z",
     "start_time": "2020-09-04T20:02:53.614198Z"
    }
   },
   "outputs": [
    {
     "data": {
      "text/plain": [
       "39"
      ]
     },
     "execution_count": 225,
     "metadata": {},
     "output_type": "execute_result"
    }
   ],
   "source": [
    "all_players_19 = draft_19.values.flatten()    \n",
    "names_to_fix = check_names(all_players_19, df.PLAYER.values)\n",
    "len(names_to_fix)"
   ]
  },
  {
   "cell_type": "code",
   "execution_count": 226,
   "metadata": {
    "ExecuteTime": {
     "end_time": "2020-09-04T20:03:43.844488Z",
     "start_time": "2020-09-04T20:03:43.838393Z"
    }
   },
   "outputs": [
    {
     "data": {
      "text/plain": [
       "33"
      ]
     },
     "execution_count": 226,
     "metadata": {},
     "output_type": "execute_result"
    }
   ],
   "source": [
    "names_to_fix = remove_fa_k_dst(names_to_fix, unsigned_fa, kickers, defenses)\n",
    "len(names_to_fix)"
   ]
  },
  {
   "cell_type": "code",
   "execution_count": 227,
   "metadata": {
    "ExecuteTime": {
     "end_time": "2020-09-04T20:04:03.540406Z",
     "start_time": "2020-09-04T20:04:03.521738Z"
    }
   },
   "outputs": [
    {
     "data": {
      "text/plain": [
       "array(['A Miller', 'Browns', 'DJ Metcalf', 'Damien Williams',\n",
       "       'Delanie Walker'], dtype='<U24')"
      ]
     },
     "execution_count": 227,
     "metadata": {},
     "output_type": "execute_result"
    }
   ],
   "source": [
    "names_to_fix[:5]"
   ]
  },
  {
   "cell_type": "code",
   "execution_count": 228,
   "metadata": {
    "ExecuteTime": {
     "end_time": "2020-09-04T20:04:33.236890Z",
     "start_time": "2020-09-04T20:04:33.221846Z"
    }
   },
   "outputs": [],
   "source": [
    "defenses.append('Browns')"
   ]
  },
  {
   "cell_type": "code",
   "execution_count": 229,
   "metadata": {
    "ExecuteTime": {
     "end_time": "2020-09-04T20:04:41.132176Z",
     "start_time": "2020-09-04T20:04:41.127587Z"
    }
   },
   "outputs": [
    {
     "name": "stdout",
     "output_type": "stream",
     "text": [
      "Anthony Miller\n",
      "Lamar Miller\n",
      "Scott Miller\n"
     ]
    }
   ],
   "source": [
    "find_name('Miller')"
   ]
  },
  {
   "cell_type": "code",
   "execution_count": 230,
   "metadata": {
    "ExecuteTime": {
     "end_time": "2020-09-04T20:05:26.703158Z",
     "start_time": "2020-09-04T20:05:26.696583Z"
    }
   },
   "outputs": [],
   "source": [
    "name_replacer('A Miller', 'Anthony Miller')"
   ]
  },
  {
   "cell_type": "code",
   "execution_count": 231,
   "metadata": {
    "ExecuteTime": {
     "end_time": "2020-09-04T20:06:00.776525Z",
     "start_time": "2020-09-04T20:06:00.772475Z"
    }
   },
   "outputs": [
    {
     "name": "stdout",
     "output_type": "stream",
     "text": [
      "D.K. Metcalf\n"
     ]
    }
   ],
   "source": [
    "find_name('Metcalf')"
   ]
  },
  {
   "cell_type": "code",
   "execution_count": 232,
   "metadata": {
    "ExecuteTime": {
     "end_time": "2020-09-04T20:07:30.278348Z",
     "start_time": "2020-09-04T20:07:30.272917Z"
    }
   },
   "outputs": [],
   "source": [
    "name_replacer('DJ Metcalf', 'D.K. Metcalf')"
   ]
  },
  {
   "cell_type": "code",
   "execution_count": 234,
   "metadata": {
    "ExecuteTime": {
     "end_time": "2020-09-04T20:08:29.341716Z",
     "start_time": "2020-09-04T20:08:29.337465Z"
    }
   },
   "outputs": [
    {
     "name": "stdout",
     "output_type": "stream",
     "text": [
      "Damien Harris\n"
     ]
    }
   ],
   "source": [
    "find_name('Damien')"
   ]
  },
  {
   "cell_type": "code",
   "execution_count": 235,
   "metadata": {
    "ExecuteTime": {
     "end_time": "2020-09-04T20:09:05.929467Z",
     "start_time": "2020-09-04T20:09:05.926385Z"
    }
   },
   "outputs": [],
   "source": [
    "unsigned_fa.append('Damien Williams')"
   ]
  },
  {
   "cell_type": "code",
   "execution_count": 236,
   "metadata": {
    "ExecuteTime": {
     "end_time": "2020-09-04T20:09:15.867367Z",
     "start_time": "2020-09-04T20:09:15.862753Z"
    }
   },
   "outputs": [
    {
     "name": "stdout",
     "output_type": "stream",
     "text": [
      "Michael Walker\n",
      "Phillip Walker\n"
     ]
    }
   ],
   "source": [
    "find_name('Walker')"
   ]
  },
  {
   "cell_type": "code",
   "execution_count": 237,
   "metadata": {
    "ExecuteTime": {
     "end_time": "2020-09-04T20:13:23.023438Z",
     "start_time": "2020-09-04T20:13:23.019125Z"
    }
   },
   "outputs": [],
   "source": [
    "unsigned_fa.append('Delanie Walker')"
   ]
  },
  {
   "cell_type": "code",
   "execution_count": 238,
   "metadata": {
    "ExecuteTime": {
     "end_time": "2020-09-04T20:14:13.891069Z",
     "start_time": "2020-09-04T20:14:13.881438Z"
    }
   },
   "outputs": [
    {
     "data": {
      "text/plain": [
       "28"
      ]
     },
     "execution_count": 238,
     "metadata": {},
     "output_type": "execute_result"
    }
   ],
   "source": [
    "all_players_19 = draft_19.values.flatten()    \n",
    "names_to_fix = check_names(all_players_19, df.PLAYER.values)\n",
    "names_to_fix = remove_fa_k_dst(names_to_fix, unsigned_fa, kickers, defenses)\n",
    "len(names_to_fix)"
   ]
  },
  {
   "cell_type": "code",
   "execution_count": 239,
   "metadata": {
    "ExecuteTime": {
     "end_time": "2020-09-04T20:14:22.380157Z",
     "start_time": "2020-09-04T20:14:22.369813Z"
    }
   },
   "outputs": [
    {
     "data": {
      "text/plain": [
       "array(['Desean Jackson', 'Eagles', 'Geronimo Allison', 'Gio Bernard',\n",
       "       'Harrison Butker'], dtype='<U24')"
      ]
     },
     "execution_count": 239,
     "metadata": {},
     "output_type": "execute_result"
    }
   ],
   "source": [
    "names_to_fix[:5]"
   ]
  },
  {
   "cell_type": "code",
   "execution_count": 240,
   "metadata": {
    "ExecuteTime": {
     "end_time": "2020-09-04T20:16:29.928466Z",
     "start_time": "2020-09-04T20:16:29.923350Z"
    }
   },
   "outputs": [
    {
     "name": "stdout",
     "output_type": "stream",
     "text": [
      "Lamar Jackson\n",
      "DeSean Jackson\n",
      "Justin Jackson\n"
     ]
    }
   ],
   "source": [
    "find_name('Jackson')"
   ]
  },
  {
   "cell_type": "code",
   "execution_count": 241,
   "metadata": {
    "ExecuteTime": {
     "end_time": "2020-09-04T20:16:54.952965Z",
     "start_time": "2020-09-04T20:16:54.948103Z"
    }
   },
   "outputs": [],
   "source": [
    "name_replacer('Desean Jackson', 'DeSean Jackson')"
   ]
  },
  {
   "cell_type": "code",
   "execution_count": 242,
   "metadata": {
    "ExecuteTime": {
     "end_time": "2020-09-04T20:17:16.190537Z",
     "start_time": "2020-09-04T20:17:16.185927Z"
    }
   },
   "outputs": [],
   "source": [
    "defenses.append('Eagles')"
   ]
  },
  {
   "cell_type": "code",
   "execution_count": 245,
   "metadata": {
    "ExecuteTime": {
     "end_time": "2020-09-04T20:22:17.994025Z",
     "start_time": "2020-09-04T20:22:17.991463Z"
    }
   },
   "outputs": [],
   "source": [
    "find_name('Allison')"
   ]
  },
  {
   "cell_type": "code",
   "execution_count": 246,
   "metadata": {
    "ExecuteTime": {
     "end_time": "2020-09-04T20:25:26.186904Z",
     "start_time": "2020-09-04T20:25:26.183249Z"
    }
   },
   "outputs": [],
   "source": [
    "unsigned_fa.append('Geronimo Allison')"
   ]
  },
  {
   "cell_type": "code",
   "execution_count": 247,
   "metadata": {
    "ExecuteTime": {
     "end_time": "2020-09-04T20:26:39.134476Z",
     "start_time": "2020-09-04T20:26:39.130648Z"
    }
   },
   "outputs": [
    {
     "name": "stdout",
     "output_type": "stream",
     "text": [
      "Giovani Bernard\n"
     ]
    }
   ],
   "source": [
    "find_name('Bernard')"
   ]
  },
  {
   "cell_type": "code",
   "execution_count": 248,
   "metadata": {
    "ExecuteTime": {
     "end_time": "2020-09-04T20:27:02.253397Z",
     "start_time": "2020-09-04T20:27:02.247818Z"
    }
   },
   "outputs": [],
   "source": [
    "name_replacer('Gio Bernard', 'Giovani Bernard')"
   ]
  },
  {
   "cell_type": "code",
   "execution_count": 251,
   "metadata": {
    "ExecuteTime": {
     "end_time": "2020-09-04T20:27:18.327050Z",
     "start_time": "2020-09-04T20:27:18.322207Z"
    }
   },
   "outputs": [
    {
     "name": "stdout",
     "output_type": "stream",
     "text": [
      "Harrison Bryant\n"
     ]
    }
   ],
   "source": [
    "find_name('Harrison')"
   ]
  },
  {
   "cell_type": "code",
   "execution_count": 252,
   "metadata": {
    "ExecuteTime": {
     "end_time": "2020-09-04T20:27:48.717855Z",
     "start_time": "2020-09-04T20:27:48.713680Z"
    }
   },
   "outputs": [],
   "source": [
    "kickers.append('Harrison Butker')"
   ]
  },
  {
   "cell_type": "code",
   "execution_count": 253,
   "metadata": {
    "ExecuteTime": {
     "end_time": "2020-09-04T20:28:01.244666Z",
     "start_time": "2020-09-04T20:28:01.235452Z"
    }
   },
   "outputs": [
    {
     "data": {
      "text/plain": [
       "23"
      ]
     },
     "execution_count": 253,
     "metadata": {},
     "output_type": "execute_result"
    }
   ],
   "source": [
    "all_players_19 = draft_19.values.flatten()    \n",
    "names_to_fix = check_names(all_players_19, df.PLAYER.values)\n",
    "names_to_fix = remove_fa_k_dst(names_to_fix, unsigned_fa, kickers, defenses)\n",
    "len(names_to_fix)"
   ]
  },
  {
   "cell_type": "code",
   "execution_count": 254,
   "metadata": {
    "ExecuteTime": {
     "end_time": "2020-09-04T20:28:11.053512Z",
     "start_time": "2020-09-04T20:28:11.047734Z"
    }
   },
   "outputs": [
    {
     "data": {
      "text/plain": [
       "array(['Jaguars', 'Josh Gordon', 'JuJu Smith', 'Justice Mill',\n",
       "       'Justin Tucker'], dtype='<U24')"
      ]
     },
     "execution_count": 254,
     "metadata": {},
     "output_type": "execute_result"
    }
   ],
   "source": [
    "names_to_fix[:5]"
   ]
  },
  {
   "cell_type": "code",
   "execution_count": 255,
   "metadata": {
    "ExecuteTime": {
     "end_time": "2020-09-04T20:28:25.953772Z",
     "start_time": "2020-09-04T20:28:25.949180Z"
    }
   },
   "outputs": [],
   "source": [
    "defenses.append('Jaguars')"
   ]
  },
  {
   "cell_type": "code",
   "execution_count": 256,
   "metadata": {
    "ExecuteTime": {
     "end_time": "2020-09-04T20:28:53.280831Z",
     "start_time": "2020-09-04T20:28:53.275507Z"
    }
   },
   "outputs": [
    {
     "name": "stdout",
     "output_type": "stream",
     "text": [
      "Melvin Gordon\n"
     ]
    }
   ],
   "source": [
    "find_name('Gordon')"
   ]
  },
  {
   "cell_type": "code",
   "execution_count": 257,
   "metadata": {
    "ExecuteTime": {
     "end_time": "2020-09-04T20:32:24.932220Z",
     "start_time": "2020-09-04T20:32:24.927185Z"
    }
   },
   "outputs": [
    {
     "name": "stdout",
     "output_type": "stream",
     "text": [
      "JuJu Smith-Schuster\n"
     ]
    }
   ],
   "source": [
    "find_name('JuJu')"
   ]
  },
  {
   "cell_type": "code",
   "execution_count": 258,
   "metadata": {
    "ExecuteTime": {
     "end_time": "2020-09-04T20:32:41.906413Z",
     "start_time": "2020-09-04T20:32:41.901650Z"
    }
   },
   "outputs": [],
   "source": [
    "name_replacer('JuJu Smith','JuJu Smith-Schuster')"
   ]
  },
  {
   "cell_type": "code",
   "execution_count": 260,
   "metadata": {
    "ExecuteTime": {
     "end_time": "2020-09-04T20:33:38.110647Z",
     "start_time": "2020-09-04T20:33:38.105873Z"
    }
   },
   "outputs": [
    {
     "name": "stdout",
     "output_type": "stream",
     "text": [
      "Justice Hill\n"
     ]
    }
   ],
   "source": [
    "find_name('Justice')"
   ]
  },
  {
   "cell_type": "code",
   "execution_count": 266,
   "metadata": {
    "ExecuteTime": {
     "end_time": "2020-09-04T20:35:51.000882Z",
     "start_time": "2020-09-04T20:35:50.996223Z"
    }
   },
   "outputs": [],
   "source": [
    "name_replacer('Justice Mill','Justice Hill')"
   ]
  },
  {
   "cell_type": "code",
   "execution_count": 262,
   "metadata": {
    "ExecuteTime": {
     "end_time": "2020-09-04T20:34:26.822378Z",
     "start_time": "2020-09-04T20:34:26.819243Z"
    }
   },
   "outputs": [],
   "source": [
    "kickers.append('Justin Tucker')"
   ]
  },
  {
   "cell_type": "code",
   "execution_count": 267,
   "metadata": {
    "ExecuteTime": {
     "end_time": "2020-09-04T20:35:52.932231Z",
     "start_time": "2020-09-04T20:35:52.919785Z"
    }
   },
   "outputs": [
    {
     "data": {
      "text/plain": [
       "18"
      ]
     },
     "execution_count": 267,
     "metadata": {},
     "output_type": "execute_result"
    }
   ],
   "source": [
    "all_players_19 = draft_19.values.flatten()    \n",
    "names_to_fix = check_names(all_players_19, df.PLAYER.values)\n",
    "names_to_fix = remove_fa_k_dst(names_to_fix, unsigned_fa, kickers, defenses)\n",
    "len(names_to_fix)"
   ]
  },
  {
   "cell_type": "code",
   "execution_count": 268,
   "metadata": {
    "ExecuteTime": {
     "end_time": "2020-09-04T20:35:57.976462Z",
     "start_time": "2020-09-04T20:35:57.970924Z"
    }
   },
   "outputs": [
    {
     "data": {
      "text/plain": [
       "array(['Kai Fairbarn', 'Kennan Ballage', 'Malcom Brown',\n",
       "       'Marques Valdez Scandling', 'Mike Badgley'], dtype='<U24')"
      ]
     },
     "execution_count": 268,
     "metadata": {},
     "output_type": "execute_result"
    }
   ],
   "source": [
    "names_to_fix[:5]"
   ]
  },
  {
   "cell_type": "code",
   "execution_count": 265,
   "metadata": {
    "ExecuteTime": {
     "end_time": "2020-09-04T20:35:29.623903Z",
     "start_time": "2020-09-04T20:35:29.620876Z"
    }
   },
   "outputs": [],
   "source": [
    "unsigned_fa.append('Josh Gordon')"
   ]
  },
  {
   "cell_type": "code",
   "execution_count": 270,
   "metadata": {
    "ExecuteTime": {
     "end_time": "2020-09-04T20:36:26.555399Z",
     "start_time": "2020-09-04T20:36:26.552279Z"
    }
   },
   "outputs": [],
   "source": [
    "find_name('Fair')"
   ]
  },
  {
   "cell_type": "code",
   "execution_count": 271,
   "metadata": {
    "ExecuteTime": {
     "end_time": "2020-09-04T20:36:56.559184Z",
     "start_time": "2020-09-04T20:36:56.556339Z"
    }
   },
   "outputs": [],
   "source": [
    "kickers.append('Kai Fairbarn')"
   ]
  },
  {
   "cell_type": "code",
   "execution_count": 272,
   "metadata": {
    "ExecuteTime": {
     "end_time": "2020-09-04T20:37:19.265395Z",
     "start_time": "2020-09-04T20:37:19.260838Z"
    }
   },
   "outputs": [
    {
     "name": "stdout",
     "output_type": "stream",
     "text": [
      "Kalen Ballage\n"
     ]
    }
   ],
   "source": [
    "find_name('Ballage')"
   ]
  },
  {
   "cell_type": "code",
   "execution_count": 273,
   "metadata": {
    "ExecuteTime": {
     "end_time": "2020-09-04T20:38:14.679654Z",
     "start_time": "2020-09-04T20:38:14.673743Z"
    }
   },
   "outputs": [],
   "source": [
    "name_replacer('Kennan Ballage', \"Kalen Ballage\")"
   ]
  },
  {
   "cell_type": "code",
   "execution_count": 274,
   "metadata": {
    "ExecuteTime": {
     "end_time": "2020-09-04T20:38:28.392570Z",
     "start_time": "2020-09-04T20:38:28.386846Z"
    }
   },
   "outputs": [
    {
     "name": "stdout",
     "output_type": "stream",
     "text": [
      "A.J. Brown\n",
      "Marquise Brown\n",
      "John Brown\n",
      "Malcolm Brown\n",
      "Equanimeous St. Brown\n",
      "Pharaoh Brown\n",
      "Daniel Brown\n",
      "Noah Brown\n",
      "Fred Brown\n"
     ]
    }
   ],
   "source": [
    "find_name('Brown')"
   ]
  },
  {
   "cell_type": "code",
   "execution_count": 275,
   "metadata": {
    "ExecuteTime": {
     "end_time": "2020-09-04T20:39:12.768394Z",
     "start_time": "2020-09-04T20:39:12.762553Z"
    }
   },
   "outputs": [],
   "source": [
    "name_replacer('Malcom Brown', 'Malcolm Brown')"
   ]
  },
  {
   "cell_type": "code",
   "execution_count": 277,
   "metadata": {
    "ExecuteTime": {
     "end_time": "2020-09-04T20:39:52.393795Z",
     "start_time": "2020-09-04T20:39:52.389125Z"
    }
   },
   "outputs": [
    {
     "name": "stdout",
     "output_type": "stream",
     "text": [
      "Marquez Valdes-Scantling\n"
     ]
    }
   ],
   "source": [
    "find_name('Scant')"
   ]
  },
  {
   "cell_type": "code",
   "execution_count": 284,
   "metadata": {
    "ExecuteTime": {
     "end_time": "2020-09-04T20:42:03.086275Z",
     "start_time": "2020-09-04T20:42:03.078117Z"
    }
   },
   "outputs": [],
   "source": [
    "name_replacer('Marques Valdez Scandling', 'Marquez Valdes-Scantling')"
   ]
  },
  {
   "cell_type": "code",
   "execution_count": 281,
   "metadata": {
    "ExecuteTime": {
     "end_time": "2020-09-04T20:41:20.320318Z",
     "start_time": "2020-09-04T20:41:20.316365Z"
    }
   },
   "outputs": [],
   "source": [
    "kickers.append('Mike Badgley')"
   ]
  },
  {
   "cell_type": "code",
   "execution_count": 285,
   "metadata": {
    "ExecuteTime": {
     "end_time": "2020-09-04T20:42:04.751091Z",
     "start_time": "2020-09-04T20:42:04.741416Z"
    }
   },
   "outputs": [
    {
     "data": {
      "text/plain": [
       "13"
      ]
     },
     "execution_count": 285,
     "metadata": {},
     "output_type": "execute_result"
    }
   ],
   "source": [
    "all_players_19 = draft_19.values.flatten()    \n",
    "names_to_fix = check_names(all_players_19, df.PLAYER.values)\n",
    "names_to_fix = remove_fa_k_dst(names_to_fix, unsigned_fa, kickers, defenses)\n",
    "len(names_to_fix)"
   ]
  },
  {
   "cell_type": "code",
   "execution_count": 286,
   "metadata": {
    "ExecuteTime": {
     "end_time": "2020-09-04T20:42:05.674907Z",
     "start_time": "2020-09-04T20:42:05.668960Z"
    }
   },
   "outputs": [
    {
     "data": {
      "text/plain": [
       "array(['OJ Howard', 'Patriots', 'Philip Lindsay', 'R Higgins',\n",
       "       'Rashad Penny'], dtype='<U17')"
      ]
     },
     "execution_count": 286,
     "metadata": {},
     "output_type": "execute_result"
    }
   ],
   "source": [
    "names_to_fix[:5]"
   ]
  },
  {
   "cell_type": "code",
   "execution_count": 287,
   "metadata": {
    "ExecuteTime": {
     "end_time": "2020-09-04T20:42:14.934065Z",
     "start_time": "2020-09-04T20:42:14.929915Z"
    }
   },
   "outputs": [
    {
     "name": "stdout",
     "output_type": "stream",
     "text": [
      "Jordan Howard\n",
      "O.J. Howard\n"
     ]
    }
   ],
   "source": [
    "find_name('Howard')"
   ]
  },
  {
   "cell_type": "code",
   "execution_count": 288,
   "metadata": {
    "ExecuteTime": {
     "end_time": "2020-09-04T20:42:41.422220Z",
     "start_time": "2020-09-04T20:42:41.417304Z"
    }
   },
   "outputs": [],
   "source": [
    "name_replacer('OJ Howard','O.J. Howard')"
   ]
  },
  {
   "cell_type": "code",
   "execution_count": 289,
   "metadata": {
    "ExecuteTime": {
     "end_time": "2020-09-04T20:43:14.734714Z",
     "start_time": "2020-09-04T20:43:14.730664Z"
    }
   },
   "outputs": [],
   "source": [
    "defenses.append('Patriots')"
   ]
  },
  {
   "cell_type": "code",
   "execution_count": 290,
   "metadata": {
    "ExecuteTime": {
     "end_time": "2020-09-04T20:43:36.124241Z",
     "start_time": "2020-09-04T20:43:36.118986Z"
    }
   },
   "outputs": [
    {
     "name": "stdout",
     "output_type": "stream",
     "text": [
      "Phillip Lindsay\n"
     ]
    }
   ],
   "source": [
    "find_name('Lindsay')"
   ]
  },
  {
   "cell_type": "code",
   "execution_count": 291,
   "metadata": {
    "ExecuteTime": {
     "end_time": "2020-09-04T20:44:05.287249Z",
     "start_time": "2020-09-04T20:44:05.281900Z"
    }
   },
   "outputs": [],
   "source": [
    "name_replacer('Philip Lindsay','Phillip Lindsay')"
   ]
  },
  {
   "cell_type": "code",
   "execution_count": 292,
   "metadata": {
    "ExecuteTime": {
     "end_time": "2020-09-04T20:44:17.312478Z",
     "start_time": "2020-09-04T20:44:17.307572Z"
    }
   },
   "outputs": [
    {
     "name": "stdout",
     "output_type": "stream",
     "text": [
      "Tee Higgins\n",
      "Rashard Higgins\n"
     ]
    }
   ],
   "source": [
    "find_name('Higgins')"
   ]
  },
  {
   "cell_type": "code",
   "execution_count": 293,
   "metadata": {
    "ExecuteTime": {
     "end_time": "2020-09-04T20:44:42.489025Z",
     "start_time": "2020-09-04T20:44:42.483407Z"
    }
   },
   "outputs": [],
   "source": [
    "name_replacer('R Higgins','Rashard Higgins')"
   ]
  },
  {
   "cell_type": "code",
   "execution_count": 294,
   "metadata": {
    "ExecuteTime": {
     "end_time": "2020-09-04T20:45:06.800578Z",
     "start_time": "2020-09-04T20:45:06.796492Z"
    }
   },
   "outputs": [
    {
     "name": "stdout",
     "output_type": "stream",
     "text": [
      "Rashaad Penny\n",
      "Elijhaa Penny\n"
     ]
    }
   ],
   "source": [
    "find_name('Penny')"
   ]
  },
  {
   "cell_type": "code",
   "execution_count": 295,
   "metadata": {
    "ExecuteTime": {
     "end_time": "2020-09-04T20:45:38.665095Z",
     "start_time": "2020-09-04T20:45:38.659734Z"
    }
   },
   "outputs": [],
   "source": [
    "name_replacer('Rashad Penny','Rashaad Penny')"
   ]
  },
  {
   "cell_type": "code",
   "execution_count": 296,
   "metadata": {
    "ExecuteTime": {
     "end_time": "2020-09-04T20:45:49.218792Z",
     "start_time": "2020-09-04T20:45:49.209936Z"
    }
   },
   "outputs": [
    {
     "data": {
      "text/plain": [
       "8"
      ]
     },
     "execution_count": 296,
     "metadata": {},
     "output_type": "execute_result"
    }
   ],
   "source": [
    "all_players_19 = draft_19.values.flatten()    \n",
    "names_to_fix = check_names(all_players_19, df.PLAYER.values)\n",
    "names_to_fix = remove_fa_k_dst(names_to_fix, unsigned_fa, kickers, defenses)\n",
    "len(names_to_fix)"
   ]
  },
  {
   "cell_type": "code",
   "execution_count": 297,
   "metadata": {
    "ExecuteTime": {
     "end_time": "2020-09-04T20:46:25.631645Z",
     "start_time": "2020-09-04T20:46:25.623635Z"
    }
   },
   "outputs": [
    {
     "data": {
      "text/plain": [
       "array(['Ravens', 'Robbie Gould', 'Stephen Gostowski', 'Taylor Gabriel',\n",
       "       'Tyreke Hill', 'Tyrell Williams', 'Vikings', 'Will Lutz'],\n",
       "      dtype='<U17')"
      ]
     },
     "execution_count": 297,
     "metadata": {},
     "output_type": "execute_result"
    }
   ],
   "source": [
    "names_to_fix"
   ]
  },
  {
   "cell_type": "code",
   "execution_count": 298,
   "metadata": {
    "ExecuteTime": {
     "end_time": "2020-09-04T20:47:22.891867Z",
     "start_time": "2020-09-04T20:47:22.888491Z"
    }
   },
   "outputs": [],
   "source": [
    "defenses.append('Ravens')"
   ]
  },
  {
   "cell_type": "code",
   "execution_count": 299,
   "metadata": {
    "ExecuteTime": {
     "end_time": "2020-09-04T20:47:58.168523Z",
     "start_time": "2020-09-04T20:47:58.165253Z"
    }
   },
   "outputs": [],
   "source": [
    "kickers.append('Robbie Gould')"
   ]
  },
  {
   "cell_type": "code",
   "execution_count": 300,
   "metadata": {
    "ExecuteTime": {
     "end_time": "2020-09-04T20:48:12.278416Z",
     "start_time": "2020-09-04T20:48:12.275133Z"
    }
   },
   "outputs": [],
   "source": [
    "kickers.append('Stephen Gostowski')"
   ]
  },
  {
   "cell_type": "code",
   "execution_count": 303,
   "metadata": {
    "ExecuteTime": {
     "end_time": "2020-09-04T20:49:46.646335Z",
     "start_time": "2020-09-04T20:49:46.642481Z"
    }
   },
   "outputs": [],
   "source": [
    "unsigned_fa.append('Taylor Gabriel')"
   ]
  },
  {
   "cell_type": "code",
   "execution_count": 304,
   "metadata": {
    "ExecuteTime": {
     "end_time": "2020-09-04T20:49:57.744173Z",
     "start_time": "2020-09-04T20:49:57.740184Z"
    }
   },
   "outputs": [
    {
     "name": "stdout",
     "output_type": "stream",
     "text": [
      "Tyreek Hill\n",
      "Taysom Hill\n",
      "Brian Hill\n",
      "Josh Hill\n",
      "Justice Hill\n",
      "Dontrell Hilliard\n",
      "Taysom Hill\n"
     ]
    }
   ],
   "source": [
    "find_name('Hill')"
   ]
  },
  {
   "cell_type": "code",
   "execution_count": 306,
   "metadata": {
    "ExecuteTime": {
     "end_time": "2020-09-04T20:51:01.096907Z",
     "start_time": "2020-09-04T20:51:01.092027Z"
    }
   },
   "outputs": [],
   "source": [
    "name_replacer('Tyreke Hill', 'Tyreek Hill')"
   ]
  },
  {
   "cell_type": "code",
   "execution_count": null,
   "metadata": {},
   "outputs": [],
   "source": []
  }
 ],
 "metadata": {
  "kernelspec": {
   "display_name": "Python [conda env:learn-env] *",
   "language": "python",
   "name": "conda-env-learn-env-py"
  },
  "language_info": {
   "codemirror_mode": {
    "name": "ipython",
    "version": 3
   },
   "file_extension": ".py",
   "mimetype": "text/x-python",
   "name": "python",
   "nbconvert_exporter": "python",
   "pygments_lexer": "ipython3",
   "version": "3.6.6"
  },
  "toc": {
   "base_numbering": 1,
   "nav_menu": {},
   "number_sections": true,
   "sideBar": true,
   "skip_h1_title": false,
   "title_cell": "Table of Contents",
   "title_sidebar": "Contents",
   "toc_cell": false,
   "toc_position": {},
   "toc_section_display": true,
   "toc_window_display": false
  }
 },
 "nbformat": 4,
 "nbformat_minor": 2
}
